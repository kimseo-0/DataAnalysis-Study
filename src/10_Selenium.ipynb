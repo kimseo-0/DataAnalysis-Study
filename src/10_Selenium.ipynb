{
 "cells": [
  {
   "cell_type": "markdown",
   "id": "6ee323b1",
   "metadata": {
    "id": "6ee323b1"
   },
   "source": [
    "# Selenium"
   ]
  },
  {
   "cell_type": "markdown",
   "id": "8bcf33bf",
   "metadata": {},
   "source": [
    "`uv add selenium`"
   ]
  },
  {
   "cell_type": "code",
   "execution_count": 1,
   "id": "efc449ac",
   "metadata": {
    "id": "efc449ac"
   },
   "outputs": [],
   "source": [
    "import pandas as pd\n",
    "from io import StringIO\n",
    "from selenium import webdriver\n",
    "from selenium.webdriver.support.ui import Select\n",
    "from selenium.webdriver.support.ui import WebDriverWait\n",
    "from selenium.webdriver.support import expected_conditions as EC\n",
    "from selenium.webdriver.common.by import By\n",
    "from selenium.webdriver.common.keys import Keys"
   ]
  },
  {
   "cell_type": "markdown",
   "id": "96c695db",
   "metadata": {},
   "source": [
    "# 1. 하나씩 제어해보기"
   ]
  },
  {
   "cell_type": "markdown",
   "id": "3be71326",
   "metadata": {},
   "source": [
    "## 1) Chrome 창 켜기"
   ]
  },
  {
   "cell_type": "code",
   "execution_count": null,
   "id": "dfd7a386",
   "metadata": {
    "id": "dfd7a386"
   },
   "outputs": [],
   "source": [
    "from selenium import webdriver\n",
    "\n",
    "# 1. URL 접속\n",
    "driver = webdriver.Chrome()\n",
    "driver.maximize_window()        # 열린 크롬창 최대화"
   ]
  },
  {
   "cell_type": "code",
   "execution_count": 3,
   "id": "e2e5c589",
   "metadata": {},
   "outputs": [],
   "source": [
    "# URL로 이동\n",
    "url = \"https://play.google.com/store/games?hl=ko&pli=1\"\n",
    "driver.get(url)                 "
   ]
  },
  {
   "cell_type": "markdown",
   "id": "78a130e8",
   "metadata": {},
   "source": [
    "## 2) 검색 버튼 클릭"
   ]
  },
  {
   "cell_type": "code",
   "execution_count": 4,
   "id": "6c777879",
   "metadata": {
    "id": "6c777879"
   },
   "outputs": [],
   "source": [
    "# 2. 검색 버튼 누르기\n",
    "#kO001e > header > nav > div > div:nth-child(1) > button\n",
    "\n",
    "search_btn_css = \"#kO001e > header > nav > div > div:nth-child(1) > button > i\"\n",
    "search_btn = driver.find_element(By.CSS_SELECTOR, search_btn_css)\n",
    "search_btn.click()"
   ]
  },
  {
   "cell_type": "markdown",
   "id": "118e0030",
   "metadata": {},
   "source": [
    "## 3) 검색어 입력"
   ]
  },
  {
   "cell_type": "code",
   "execution_count": 37,
   "id": "93fabcdd",
   "metadata": {
    "id": "93fabcdd"
   },
   "outputs": [],
   "source": [
    "# 3. 검색어 입력\n",
    "#kO001e > header > nav > c-wiz > div > div > label > input\n",
    "\n",
    "clear_btn_css = \"#kO001e > header > nav > c-wiz > div > div > label > div.XLWCmc > i\"\n",
    "clear_btn = driver.find_element(By.CSS_SELECTOR, clear_btn_css)\n",
    "clear_btn.click()\n",
    "\n",
    "keyword = \"배달의 민족\"\n",
    "\n",
    "input_box_css = \"#kO001e > header > nav > c-wiz > div > div > label > input\"\n",
    "input_box = driver.find_element(By.CSS_SELECTOR, input_box_css)\n",
    "input_box.send_keys(\" \")\n",
    "input_box.send_keys(keyword)\n",
    "input_box.send_keys(Keys.ENTER)"
   ]
  },
  {
   "cell_type": "markdown",
   "id": "dd5e0a1a",
   "metadata": {},
   "source": [
    "## 4) 상세 보기창으로 이동 : url 이동"
   ]
  },
  {
   "cell_type": "code",
   "execution_count": 14,
   "id": "9bf5e5c5",
   "metadata": {
    "id": "9bf5e5c5"
   },
   "outputs": [],
   "source": [
    "# 4. 상세 보기 클릭\n",
    "#yDmH0d > c-wiz:nth-child(7) > div > div > c-wiz > c-wiz:nth-child(1) > c-wiz > section > div > div > a\n",
    "\n",
    "detail_area_css = \"#yDmH0d > c-wiz:nth-child(7) > div > div > c-wiz > c-wiz:nth-child(1) > c-wiz > section > div > div > a\"\n",
    "detail_area = driver.find_element(By.CSS_SELECTOR, detail_area_css)\n",
    "detail_url = detail_area.get_attribute(\"href\")\n",
    "driver.get(detail_url)"
   ]
  },
  {
   "cell_type": "markdown",
   "id": "4354226e",
   "metadata": {},
   "source": [
    "## 5) 평점 및 리뷰 더보기 클릭"
   ]
  },
  {
   "cell_type": "code",
   "execution_count": 38,
   "id": "cb9e095b",
   "metadata": {
    "id": "cb9e095b"
   },
   "outputs": [],
   "source": [
    "# 5. 평점 및 리뷰 더보기 클릭\n",
    "#yDmH0d > c-wiz.SSPGKf.Czez9d > div > div > div:nth-child(1) > div > div.wkMJlb.YWi3ub > div > div.qZmL0 > div:nth-child(1) > c-wiz:nth-child(5) > section > header > div > div:nth-child(2) > button > i\n",
    "#yDmH0d > c-wiz.SSPGKf.Czez9d > div > div > div:nth-child(1) > div > div.wkMJlb.YWi3ub > div > div.qZmL0 > div:nth-child(1) > c-wiz:nth-child(5) > section > div > div.Jwxk6d > div:nth-child(5) > div > div > button > span\n",
    "more_btn_css = \"#yDmH0d > c-wiz.SSPGKf.Czez9d > div > div > div:nth-child(1) > div > div.wkMJlb.YWi3ub > div > div.qZmL0 > div:nth-child(1) > c-wiz:nth-child(5) > section > header > div > div:nth-child(2) > button > i\"\n",
    "more_btn = driver.find_element(By.CSS_SELECTOR, more_btn_css)\n",
    "more_btn.click()"
   ]
  },
  {
   "cell_type": "markdown",
   "id": "0dba35f0",
   "metadata": {},
   "source": [
    "## 6) 스크롤 내리기"
   ]
  },
  {
   "cell_type": "code",
   "execution_count": 44,
   "id": "c58fd224",
   "metadata": {
    "id": "c58fd224"
   },
   "outputs": [],
   "source": [
    "# 6. 스크롤 내리기\n",
    "#yDmH0d > div.VfPpkd-Sx9Kwc.cC1eCc.UDxLd.PzCPDd.HQdjr.VfPpkd-Sx9Kwc-OWXEXe-FNFY6c > div.VfPpkd-wzTsW > div > div > div > div > div.fysCi.Vk3ZVd > div > div:nth-child(2)\n",
    "rep = 5\n",
    "\n",
    "display_box_css = \"#yDmH0d > div.VfPpkd-Sx9Kwc.cC1eCc.UDxLd.PzCPDd.HQdjr.VfPpkd-Sx9Kwc-OWXEXe-FNFY6c > div.VfPpkd-wzTsW > div > div > div > div > div.fysCi.Vk3ZVd\"\n",
    "display_box = driver.find_element(By.CSS_SELECTOR, display_box_css)\n",
    "for i in range(rep):\n",
    "    display_box.send_keys(Keys.END)"
   ]
  },
  {
   "cell_type": "markdown",
   "id": "0dd43451",
   "metadata": {},
   "source": [
    "## 7) 스크롤 맨 위로 움직이기"
   ]
  },
  {
   "cell_type": "code",
   "execution_count": 45,
   "id": "f0251c4c",
   "metadata": {
    "id": "f0251c4c"
   },
   "outputs": [],
   "source": [
    "# 7. 스크롤 맨 위로 움직이기\n",
    "display_box.send_keys(Keys.HOME)"
   ]
  },
  {
   "cell_type": "markdown",
   "id": "9ed2e7c8",
   "metadata": {},
   "source": [
    "## 8) 리뷰 추출하기"
   ]
  },
  {
   "cell_type": "code",
   "execution_count": 49,
   "id": "c7e1743b",
   "metadata": {
    "id": "c7e1743b",
    "outputId": "f15c21bb-4e4c-48d1-bb52-0eec989c790d"
   },
   "outputs": [
    {
     "data": {
      "text/plain": [
       "680"
      ]
     },
     "execution_count": 49,
     "metadata": {},
     "output_type": "execute_result"
    }
   ],
   "source": [
    "# 8. 리뷰 추출하기\n",
    "#yDmH0d > div.VfPpkd-Sx9Kwc.cC1eCc.UDxLd.PzCPDd.HQdjr.VfPpkd-Sx9Kwc-OWXEXe-FNFY6c > div.VfPpkd-wzTsW > div > div > div > div > div.fysCi.Vk3ZVd > div > div:nth-child(2)\n",
    "\n",
    "reviews_css = \"#yDmH0d > div.VfPpkd-Sx9Kwc.cC1eCc.UDxLd.PzCPDd.HQdjr.VfPpkd-Sx9Kwc-OWXEXe-FNFY6c > div.VfPpkd-wzTsW > div > div > div > div > div.fysCi.Vk3ZVd > div > div:nth-child(2) > div\"\n",
    "reviews = driver.find_elements(By.CSS_SELECTOR, reviews_css)\n",
    "len(reviews)"
   ]
  },
  {
   "cell_type": "code",
   "execution_count": null,
   "id": "4fa9865e",
   "metadata": {
    "id": "4fa9865e",
    "outputId": "9d475b84-bf9d-4fae-af99-27292251d508"
   },
   "outputs": [
    {
     "name": "stdout",
     "output_type": "stream",
     "text": [
      "H프랭크 별표 5개 만점에 1개를 받았습니다. 2025년 5월 30일 장바구니를 확인하려고 하는데 로딩만 하다가 '화면을 불러오지 못했어요' 라는 메세지만 자꾸 뜨네요. 이것 때문에 주문을 못하고 있습니다. 데이터와 캐시를 삭제해봐도, 핸드폰을 다시 시작해봐도, 앱을 지웠다가 다시 깔아봐도 똑같네요. 앱이나 운영 쪽 문제라면 빠르게 픽스 좀 해주세요.\n"
     ]
    }
   ],
   "source": [
    "# 한 개 리뷰 확인하기\n",
    "review = reviews[0]\n",
    "customer_id = review.find_element(By.CLASS_NAME, \"X5PpBb\").text\n",
    "star = review.find_element(By.CLASS_NAME, \"iXRFPc\").get_attribute(\"aria-label\")\n",
    "enroll_date = review.find_element(By.CLASS_NAME, \"bp9Aid\").text\n",
    "content = review.find_element(By.CLASS_NAME, \"h3YV2d\").text\n",
    "\n",
    "print(customer_id, star, enroll_date, content)"
   ]
  },
  {
   "cell_type": "code",
   "execution_count": null,
   "id": "feb11d06",
   "metadata": {
    "id": "feb11d06",
    "outputId": "c4f2de3f-d49c-4c43-bc19-721fcb99d4f0"
   },
   "outputs": [],
   "source": [
    "# 반복문\n",
    "data_list = []\n",
    "review_count = len(reviews)\n",
    "\n",
    "for i, review in enumerate(reviews):\n",
    "    customer_id = review.find_element(By.CLASS_NAME, \"X5PpBb\").text\n",
    "    star = review.find_element(By.CLASS_NAME, \"iXRFPc\").get_attribute(\"aria-label\")\n",
    "    enroll_date = review.find_element(By.CLASS_NAME, \"bp9Aid\").text\n",
    "    content = review.find_element(By.CLASS_NAME, \"h3YV2d\").text\n",
    "\n",
    "    data_dict = {\n",
    "        \"customer_id\": customer_id,\n",
    "        \"star\": star,\n",
    "        \"enroll_date\": enroll_date,\n",
    "        \"content\": content\n",
    "    }\n",
    "\n",
    "    data_list.append(data_dict)\n",
    "\n",
    "    if i % 20 == 0:\n",
    "        print(f\"\\n데이터 수집 {int(float(i + 1) / review_count * 100)}% 완료\", end = \"\")\n",
    "    else:\n",
    "        print(\".\", end=\"\")"
   ]
  },
  {
   "cell_type": "code",
   "execution_count": 51,
   "id": "332ce5fb",
   "metadata": {
    "id": "332ce5fb",
    "outputId": "ffede3d1-db69-4b24-bb18-7b9d25d843de"
   },
   "outputs": [
    {
     "data": {
      "text/html": [
       "<div>\n",
       "<style scoped>\n",
       "    .dataframe tbody tr th:only-of-type {\n",
       "        vertical-align: middle;\n",
       "    }\n",
       "\n",
       "    .dataframe tbody tr th {\n",
       "        vertical-align: top;\n",
       "    }\n",
       "\n",
       "    .dataframe thead th {\n",
       "        text-align: right;\n",
       "    }\n",
       "</style>\n",
       "<table border=\"1\" class=\"dataframe\">\n",
       "  <thead>\n",
       "    <tr style=\"text-align: right;\">\n",
       "      <th></th>\n",
       "      <th>customer_id</th>\n",
       "      <th>star</th>\n",
       "      <th>enroll_date</th>\n",
       "      <th>content</th>\n",
       "    </tr>\n",
       "  </thead>\n",
       "  <tbody>\n",
       "    <tr>\n",
       "      <th>0</th>\n",
       "      <td>H프랭크</td>\n",
       "      <td>별표 5개 만점에 1개를 받았습니다.</td>\n",
       "      <td>2025년 5월 30일</td>\n",
       "      <td>장바구니를 확인하려고 하는데 로딩만 하다가 '화면을 불러오지 못했어요' 라는 메세지...</td>\n",
       "    </tr>\n",
       "    <tr>\n",
       "      <th>1</th>\n",
       "      <td>삐삠</td>\n",
       "      <td>별표 5개 만점에 1개를 받았습니다.</td>\n",
       "      <td>2025년 3월 9일</td>\n",
       "      <td>음식배달 탭 대신 가게배달 탭을 쓰던 이유가 리뷰 볼 수 있고(가게의 위생, 맛, ...</td>\n",
       "    </tr>\n",
       "    <tr>\n",
       "      <th>2</th>\n",
       "      <td>Hye ju Lee</td>\n",
       "      <td>별표 5개 만점에 1개를 받았습니다.</td>\n",
       "      <td>2024년 12월 8일</td>\n",
       "      <td>찜목록 편집기능좀 넣어주세요 코로나기간에 찝한 200개 하나하나 들어가서 해제해야해...</td>\n",
       "    </tr>\n",
       "    <tr>\n",
       "      <th>3</th>\n",
       "      <td>핑크</td>\n",
       "      <td>별표 5개 만점에 4개를 받았습니다.</td>\n",
       "      <td>2025년 7월 19일</td>\n",
       "      <td>나쁘진 않은데 찜 내역에서 가게나 장보기내역 삭제하려면 하나하나 클릭해 들어가서 찜...</td>\n",
       "    </tr>\n",
       "    <tr>\n",
       "      <th>4</th>\n",
       "      <td>남규범</td>\n",
       "      <td>별표 5개 만점에 1개를 받았습니다.</td>\n",
       "      <td>2025년 7월 13일</td>\n",
       "      <td>원래 이런거 잘 안쓰는데 짜증나서 쓰고 깁니다. 주소가 잘못 기입되서 주문취소 하는...</td>\n",
       "    </tr>\n",
       "    <tr>\n",
       "      <th>...</th>\n",
       "      <td>...</td>\n",
       "      <td>...</td>\n",
       "      <td>...</td>\n",
       "      <td>...</td>\n",
       "    </tr>\n",
       "    <tr>\n",
       "      <th>675</th>\n",
       "      <td>김범준</td>\n",
       "      <td>별표 5개 만점에 2개를 받았습니다.</td>\n",
       "      <td>2025년 6월 26일</td>\n",
       "      <td>타인에게 노출되진 않더라도 내가 다시 시키기 싫은 가게 차단 기능좀 넣어줘요</td>\n",
       "    </tr>\n",
       "    <tr>\n",
       "      <th>676</th>\n",
       "      <td>임혜민 (혬찌)</td>\n",
       "      <td>별표 5개 만점에 3개를 받았습니다.</td>\n",
       "      <td>2025년 6월 17일</td>\n",
       "      <td>배달 주문시 화면을 불러 올 수 없습니다라는 문구와 함께 주문이 불가합니다 개선해주세요</td>\n",
       "    </tr>\n",
       "    <tr>\n",
       "      <th>677</th>\n",
       "      <td>조원상</td>\n",
       "      <td>별표 5개 만점에 1개를 받았습니다.</td>\n",
       "      <td>2025년 2월 22일</td>\n",
       "      <td>거리좀 된다고 한집배달 선택조차 못하게하고 여러집 도는거 손빨고 구경만하게 만드는거...</td>\n",
       "    </tr>\n",
       "    <tr>\n",
       "      <th>678</th>\n",
       "      <td>한대환</td>\n",
       "      <td>별표 5개 만점에 1개를 받았습니다.</td>\n",
       "      <td>2025년 5월 24일</td>\n",
       "      <td>배민 배달비 할인 안 된다고 하잖아요. ㅡㅡ;; 분명히 가게배달인데 제가 직접 그 ...</td>\n",
       "    </tr>\n",
       "    <tr>\n",
       "      <th>679</th>\n",
       "      <td>최시현</td>\n",
       "      <td>별표 5개 만점에 1개를 받았습니다.</td>\n",
       "      <td>2025년 5월 30일</td>\n",
       "      <td>하..아니 음식을 시키라는거야 말라는거야 업뎃 이후로 주문 하려는데 주문도 얀되고 ...</td>\n",
       "    </tr>\n",
       "  </tbody>\n",
       "</table>\n",
       "<p>680 rows × 4 columns</p>\n",
       "</div>"
      ],
      "text/plain": [
       "    customer_id                  star   enroll_date  \\\n",
       "0          H프랭크  별표 5개 만점에 1개를 받았습니다.  2025년 5월 30일   \n",
       "1            삐삠  별표 5개 만점에 1개를 받았습니다.   2025년 3월 9일   \n",
       "2    Hye ju Lee  별표 5개 만점에 1개를 받았습니다.  2024년 12월 8일   \n",
       "3            핑크  별표 5개 만점에 4개를 받았습니다.  2025년 7월 19일   \n",
       "4           남규범  별표 5개 만점에 1개를 받았습니다.  2025년 7월 13일   \n",
       "..          ...                   ...           ...   \n",
       "675         김범준  별표 5개 만점에 2개를 받았습니다.  2025년 6월 26일   \n",
       "676    임혜민 (혬찌)  별표 5개 만점에 3개를 받았습니다.  2025년 6월 17일   \n",
       "677         조원상  별표 5개 만점에 1개를 받았습니다.  2025년 2월 22일   \n",
       "678         한대환  별표 5개 만점에 1개를 받았습니다.  2025년 5월 24일   \n",
       "679         최시현  별표 5개 만점에 1개를 받았습니다.  2025년 5월 30일   \n",
       "\n",
       "                                               content  \n",
       "0    장바구니를 확인하려고 하는데 로딩만 하다가 '화면을 불러오지 못했어요' 라는 메세지...  \n",
       "1    음식배달 탭 대신 가게배달 탭을 쓰던 이유가 리뷰 볼 수 있고(가게의 위생, 맛, ...  \n",
       "2    찜목록 편집기능좀 넣어주세요 코로나기간에 찝한 200개 하나하나 들어가서 해제해야해...  \n",
       "3    나쁘진 않은데 찜 내역에서 가게나 장보기내역 삭제하려면 하나하나 클릭해 들어가서 찜...  \n",
       "4    원래 이런거 잘 안쓰는데 짜증나서 쓰고 깁니다. 주소가 잘못 기입되서 주문취소 하는...  \n",
       "..                                                 ...  \n",
       "675         타인에게 노출되진 않더라도 내가 다시 시키기 싫은 가게 차단 기능좀 넣어줘요  \n",
       "676   배달 주문시 화면을 불러 올 수 없습니다라는 문구와 함께 주문이 불가합니다 개선해주세요  \n",
       "677  거리좀 된다고 한집배달 선택조차 못하게하고 여러집 도는거 손빨고 구경만하게 만드는거...  \n",
       "678  배민 배달비 할인 안 된다고 하잖아요. ㅡㅡ;; 분명히 가게배달인데 제가 직접 그 ...  \n",
       "679  하..아니 음식을 시키라는거야 말라는거야 업뎃 이후로 주문 하려는데 주문도 얀되고 ...  \n",
       "\n",
       "[680 rows x 4 columns]"
      ]
     },
     "execution_count": 51,
     "metadata": {},
     "output_type": "execute_result"
    }
   ],
   "source": [
    "import pandas as pd\n",
    "\n",
    "data = pd.DataFrame(data_list)\n",
    "data"
   ]
  },
  {
   "cell_type": "code",
   "execution_count": 52,
   "id": "8b300232",
   "metadata": {
    "id": "8b300232",
    "outputId": "b7aedc47-9a5e-4d9a-94fa-32de8779e03c"
   },
   "outputs": [
    {
     "data": {
      "text/plain": [
       "star\n",
       "20    680\n",
       "Name: count, dtype: int64"
      ]
     },
     "execution_count": 52,
     "metadata": {},
     "output_type": "execute_result"
    }
   ],
   "source": [
    "data[\"star\"].str.len().value_counts()"
   ]
  },
  {
   "cell_type": "code",
   "execution_count": 53,
   "id": "53ab03f3",
   "metadata": {
    "id": "53ab03f3",
    "outputId": "61af900a-8b1d-4a99-a25b-898156b072a2"
   },
   "outputs": [
    {
     "data": {
      "text/html": [
       "<div>\n",
       "<style scoped>\n",
       "    .dataframe tbody tr th:only-of-type {\n",
       "        vertical-align: middle;\n",
       "    }\n",
       "\n",
       "    .dataframe tbody tr th {\n",
       "        vertical-align: top;\n",
       "    }\n",
       "\n",
       "    .dataframe thead th {\n",
       "        text-align: right;\n",
       "    }\n",
       "</style>\n",
       "<table border=\"1\" class=\"dataframe\">\n",
       "  <thead>\n",
       "    <tr style=\"text-align: right;\">\n",
       "      <th></th>\n",
       "      <th>customer_id</th>\n",
       "      <th>star</th>\n",
       "      <th>enroll_date</th>\n",
       "      <th>content</th>\n",
       "    </tr>\n",
       "  </thead>\n",
       "  <tbody>\n",
       "    <tr>\n",
       "      <th>0</th>\n",
       "      <td>H프랭크</td>\n",
       "      <td>1</td>\n",
       "      <td>2025년 5월 30일</td>\n",
       "      <td>장바구니를 확인하려고 하는데 로딩만 하다가 '화면을 불러오지 못했어요' 라는 메세지...</td>\n",
       "    </tr>\n",
       "    <tr>\n",
       "      <th>1</th>\n",
       "      <td>삐삠</td>\n",
       "      <td>1</td>\n",
       "      <td>2025년 3월 9일</td>\n",
       "      <td>음식배달 탭 대신 가게배달 탭을 쓰던 이유가 리뷰 볼 수 있고(가게의 위생, 맛, ...</td>\n",
       "    </tr>\n",
       "    <tr>\n",
       "      <th>2</th>\n",
       "      <td>Hye ju Lee</td>\n",
       "      <td>1</td>\n",
       "      <td>2024년 12월 8일</td>\n",
       "      <td>찜목록 편집기능좀 넣어주세요 코로나기간에 찝한 200개 하나하나 들어가서 해제해야해...</td>\n",
       "    </tr>\n",
       "    <tr>\n",
       "      <th>3</th>\n",
       "      <td>핑크</td>\n",
       "      <td>4</td>\n",
       "      <td>2025년 7월 19일</td>\n",
       "      <td>나쁘진 않은데 찜 내역에서 가게나 장보기내역 삭제하려면 하나하나 클릭해 들어가서 찜...</td>\n",
       "    </tr>\n",
       "    <tr>\n",
       "      <th>4</th>\n",
       "      <td>남규범</td>\n",
       "      <td>1</td>\n",
       "      <td>2025년 7월 13일</td>\n",
       "      <td>원래 이런거 잘 안쓰는데 짜증나서 쓰고 깁니다. 주소가 잘못 기입되서 주문취소 하는...</td>\n",
       "    </tr>\n",
       "  </tbody>\n",
       "</table>\n",
       "</div>"
      ],
      "text/plain": [
       "  customer_id  star   enroll_date  \\\n",
       "0        H프랭크     1  2025년 5월 30일   \n",
       "1          삐삠     1   2025년 3월 9일   \n",
       "2  Hye ju Lee     1  2024년 12월 8일   \n",
       "3          핑크     4  2025년 7월 19일   \n",
       "4         남규범     1  2025년 7월 13일   \n",
       "\n",
       "                                             content  \n",
       "0  장바구니를 확인하려고 하는데 로딩만 하다가 '화면을 불러오지 못했어요' 라는 메세지...  \n",
       "1  음식배달 탭 대신 가게배달 탭을 쓰던 이유가 리뷰 볼 수 있고(가게의 위생, 맛, ...  \n",
       "2  찜목록 편집기능좀 넣어주세요 코로나기간에 찝한 200개 하나하나 들어가서 해제해야해...  \n",
       "3  나쁘진 않은데 찜 내역에서 가게나 장보기내역 삭제하려면 하나하나 클릭해 들어가서 찜...  \n",
       "4  원래 이런거 잘 안쓰는데 짜증나서 쓰고 깁니다. 주소가 잘못 기입되서 주문취소 하는...  "
      ]
     },
     "execution_count": 53,
     "metadata": {},
     "output_type": "execute_result"
    }
   ],
   "source": [
    "data[\"star\"] = data[\"star\"].apply(lambda x: int(x[10]))\n",
    "data.head()"
   ]
  },
  {
   "cell_type": "code",
   "execution_count": 57,
   "id": "2173d0de",
   "metadata": {},
   "outputs": [
    {
     "data": {
      "text/html": [
       "<div>\n",
       "<style scoped>\n",
       "    .dataframe tbody tr th:only-of-type {\n",
       "        vertical-align: middle;\n",
       "    }\n",
       "\n",
       "    .dataframe tbody tr th {\n",
       "        vertical-align: top;\n",
       "    }\n",
       "\n",
       "    .dataframe thead th {\n",
       "        text-align: right;\n",
       "    }\n",
       "</style>\n",
       "<table border=\"1\" class=\"dataframe\">\n",
       "  <thead>\n",
       "    <tr style=\"text-align: right;\">\n",
       "      <th></th>\n",
       "      <th>customer_id</th>\n",
       "      <th>star</th>\n",
       "      <th>enroll_date</th>\n",
       "      <th>content</th>\n",
       "    </tr>\n",
       "  </thead>\n",
       "  <tbody>\n",
       "    <tr>\n",
       "      <th>0</th>\n",
       "      <td>H프랭크</td>\n",
       "      <td>1</td>\n",
       "      <td>2025-05-30</td>\n",
       "      <td>장바구니를 확인하려고 하는데 로딩만 하다가 '화면을 불러오지 못했어요' 라는 메세지...</td>\n",
       "    </tr>\n",
       "    <tr>\n",
       "      <th>1</th>\n",
       "      <td>삐삠</td>\n",
       "      <td>1</td>\n",
       "      <td>2025-03-09</td>\n",
       "      <td>음식배달 탭 대신 가게배달 탭을 쓰던 이유가 리뷰 볼 수 있고(가게의 위생, 맛, ...</td>\n",
       "    </tr>\n",
       "    <tr>\n",
       "      <th>2</th>\n",
       "      <td>Hye ju Lee</td>\n",
       "      <td>1</td>\n",
       "      <td>2024-12-08</td>\n",
       "      <td>찜목록 편집기능좀 넣어주세요 코로나기간에 찝한 200개 하나하나 들어가서 해제해야해...</td>\n",
       "    </tr>\n",
       "    <tr>\n",
       "      <th>3</th>\n",
       "      <td>핑크</td>\n",
       "      <td>4</td>\n",
       "      <td>2025-07-19</td>\n",
       "      <td>나쁘진 않은데 찜 내역에서 가게나 장보기내역 삭제하려면 하나하나 클릭해 들어가서 찜...</td>\n",
       "    </tr>\n",
       "    <tr>\n",
       "      <th>4</th>\n",
       "      <td>남규범</td>\n",
       "      <td>1</td>\n",
       "      <td>2025-07-13</td>\n",
       "      <td>원래 이런거 잘 안쓰는데 짜증나서 쓰고 깁니다. 주소가 잘못 기입되서 주문취소 하는...</td>\n",
       "    </tr>\n",
       "    <tr>\n",
       "      <th>...</th>\n",
       "      <td>...</td>\n",
       "      <td>...</td>\n",
       "      <td>...</td>\n",
       "      <td>...</td>\n",
       "    </tr>\n",
       "    <tr>\n",
       "      <th>675</th>\n",
       "      <td>김범준</td>\n",
       "      <td>2</td>\n",
       "      <td>2025-06-26</td>\n",
       "      <td>타인에게 노출되진 않더라도 내가 다시 시키기 싫은 가게 차단 기능좀 넣어줘요</td>\n",
       "    </tr>\n",
       "    <tr>\n",
       "      <th>676</th>\n",
       "      <td>임혜민 (혬찌)</td>\n",
       "      <td>3</td>\n",
       "      <td>2025-06-17</td>\n",
       "      <td>배달 주문시 화면을 불러 올 수 없습니다라는 문구와 함께 주문이 불가합니다 개선해주세요</td>\n",
       "    </tr>\n",
       "    <tr>\n",
       "      <th>677</th>\n",
       "      <td>조원상</td>\n",
       "      <td>1</td>\n",
       "      <td>2025-02-22</td>\n",
       "      <td>거리좀 된다고 한집배달 선택조차 못하게하고 여러집 도는거 손빨고 구경만하게 만드는거...</td>\n",
       "    </tr>\n",
       "    <tr>\n",
       "      <th>678</th>\n",
       "      <td>한대환</td>\n",
       "      <td>1</td>\n",
       "      <td>2025-05-24</td>\n",
       "      <td>배민 배달비 할인 안 된다고 하잖아요. ㅡㅡ;; 분명히 가게배달인데 제가 직접 그 ...</td>\n",
       "    </tr>\n",
       "    <tr>\n",
       "      <th>679</th>\n",
       "      <td>최시현</td>\n",
       "      <td>1</td>\n",
       "      <td>2025-05-30</td>\n",
       "      <td>하..아니 음식을 시키라는거야 말라는거야 업뎃 이후로 주문 하려는데 주문도 얀되고 ...</td>\n",
       "    </tr>\n",
       "  </tbody>\n",
       "</table>\n",
       "<p>680 rows × 4 columns</p>\n",
       "</div>"
      ],
      "text/plain": [
       "    customer_id  star enroll_date  \\\n",
       "0          H프랭크     1  2025-05-30   \n",
       "1            삐삠     1  2025-03-09   \n",
       "2    Hye ju Lee     1  2024-12-08   \n",
       "3            핑크     4  2025-07-19   \n",
       "4           남규범     1  2025-07-13   \n",
       "..          ...   ...         ...   \n",
       "675         김범준     2  2025-06-26   \n",
       "676    임혜민 (혬찌)     3  2025-06-17   \n",
       "677         조원상     1  2025-02-22   \n",
       "678         한대환     1  2025-05-24   \n",
       "679         최시현     1  2025-05-30   \n",
       "\n",
       "                                               content  \n",
       "0    장바구니를 확인하려고 하는데 로딩만 하다가 '화면을 불러오지 못했어요' 라는 메세지...  \n",
       "1    음식배달 탭 대신 가게배달 탭을 쓰던 이유가 리뷰 볼 수 있고(가게의 위생, 맛, ...  \n",
       "2    찜목록 편집기능좀 넣어주세요 코로나기간에 찝한 200개 하나하나 들어가서 해제해야해...  \n",
       "3    나쁘진 않은데 찜 내역에서 가게나 장보기내역 삭제하려면 하나하나 클릭해 들어가서 찜...  \n",
       "4    원래 이런거 잘 안쓰는데 짜증나서 쓰고 깁니다. 주소가 잘못 기입되서 주문취소 하는...  \n",
       "..                                                 ...  \n",
       "675         타인에게 노출되진 않더라도 내가 다시 시키기 싫은 가게 차단 기능좀 넣어줘요  \n",
       "676   배달 주문시 화면을 불러 올 수 없습니다라는 문구와 함께 주문이 불가합니다 개선해주세요  \n",
       "677  거리좀 된다고 한집배달 선택조차 못하게하고 여러집 도는거 손빨고 구경만하게 만드는거...  \n",
       "678  배민 배달비 할인 안 된다고 하잖아요. ㅡㅡ;; 분명히 가게배달인데 제가 직접 그 ...  \n",
       "679  하..아니 음식을 시키라는거야 말라는거야 업뎃 이후로 주문 하려는데 주문도 얀되고 ...  \n",
       "\n",
       "[680 rows x 4 columns]"
      ]
     },
     "execution_count": 57,
     "metadata": {},
     "output_type": "execute_result"
    }
   ],
   "source": [
    "data[\"enroll_date\"] = data[\"enroll_date\"].apply(lambda x: pd.to_datetime(x, format=\"%Y년 %m월 %d일\"))\n",
    "data"
   ]
  },
  {
   "cell_type": "code",
   "execution_count": 58,
   "id": "f68f9d37",
   "metadata": {},
   "outputs": [],
   "source": [
    "data.to_csv(\"data/배달의민족리뷰.csv\")"
   ]
  },
  {
   "cell_type": "markdown",
   "id": "32276e5f",
   "metadata": {},
   "source": [
    "2. 한 번에 실행"
   ]
  },
  {
   "cell_type": "code",
   "execution_count": 3,
   "id": "a0dbe0be",
   "metadata": {},
   "outputs": [],
   "source": [
    "import pandas as pd\n",
    "from io import StringIO\n",
    "from selenium import webdriver\n",
    "from selenium.webdriver.support.ui import Select\n",
    "from selenium.webdriver.support.ui import WebDriverWait\n",
    "from selenium.webdriver.support import expected_conditions as EC\n",
    "from selenium.webdriver.common.by import By\n",
    "from selenium.webdriver.common.keys import Keys\n",
    "from selenium import webdriver\n",
    "\n",
    "import time\n",
    "\n",
    "# 1. URL 접속\n",
    "driver = webdriver.Chrome()\n",
    "driver.maximize_window()        # 열린 크롬창 최대화\n",
    "\n",
    "# URL로 이동\n",
    "url = \"https://play.google.com/store/games?hl=ko&pli=1\"\n",
    "driver.get(url)                 \n",
    "\n",
    "# 2. 검색 버튼 누르기\n",
    "#kO001e > header > nav > div > div:nth-child(1) > button\n",
    "\n",
    "search_btn_css = \"#kO001e > header > nav > div > div:nth-child(1) > button > i\"\n",
    "search_btn = driver.find_element(By.CSS_SELECTOR, search_btn_css)\n",
    "search_btn.click()\n",
    "\n",
    "\n",
    "# 3. 검색어 입력\n",
    "#kO001e > header > nav > c-wiz > div > div > label > input\n",
    "\n",
    "# clear_btn_css = \"#kO001e > header > nav > c-wiz > div > div > label > div.XLWCmc > i\"\n",
    "# clear_btn = driver.find_element(By.CSS_SELECTOR, clear_btn_css)\n",
    "# clear_btn.click()\n",
    "\n",
    "keyword = \"배달의 민족\"\n",
    "\n",
    "input_box_css = \"#kO001e > header > nav > c-wiz > div > div > label > input\"\n",
    "input_box = driver.find_element(By.CSS_SELECTOR, input_box_css)\n",
    "input_box.send_keys(\" \")\n",
    "input_box.send_keys(keyword)\n",
    "input_box.send_keys(Keys.ENTER)\n",
    "\n",
    "time.sleep(5)\n",
    "\n",
    "# 4. 상세 보기 클릭\n",
    "#yDmH0d > c-wiz:nth-child(7) > div > div > c-wiz > c-wiz:nth-child(1) > c-wiz > section > div > div > a\n",
    "\n",
    "detail_area_css = \"#yDmH0d > c-wiz:nth-child(7) > div > div > c-wiz > c-wiz:nth-child(1) > c-wiz > section > div > div > a\"\n",
    "detail_area = driver.find_element(By.CSS_SELECTOR, detail_area_css)\n",
    "detail_url = detail_area.get_attribute(\"href\")\n",
    "driver.get(detail_url)"
   ]
  }
 ],
 "metadata": {
  "colab": {
   "provenance": []
  },
  "kernelspec": {
   "display_name": "data_analysis (3.11.13)",
   "language": "python",
   "name": "python3"
  },
  "language_info": {
   "codemirror_mode": {
    "name": "ipython",
    "version": 3
   },
   "file_extension": ".py",
   "mimetype": "text/x-python",
   "name": "python",
   "nbconvert_exporter": "python",
   "pygments_lexer": "ipython3",
   "version": "3.11.13"
  }
 },
 "nbformat": 4,
 "nbformat_minor": 5
}
