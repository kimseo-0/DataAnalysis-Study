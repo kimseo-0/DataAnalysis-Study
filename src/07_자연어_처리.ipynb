{
 "cells": [
  {
   "cell_type": "markdown",
   "id": "acce4b97",
   "metadata": {
    "id": "acce4b97"
   },
   "source": [
    "# 자연어 처리"
   ]
  },
  {
   "cell_type": "markdown",
   "id": "568ab883",
   "metadata": {
    "id": "568ab883"
   },
   "source": [
    "# 1. 토크나이징"
   ]
  },
  {
   "cell_type": "markdown",
   "id": "7dc2cde1",
   "metadata": {
    "id": "7dc2cde1"
   },
   "source": [
    "## 1) KoNLPy"
   ]
  },
  {
   "cell_type": "markdown",
   "id": "4ab1f5c7",
   "metadata": {
    "id": "4ab1f5c7"
   },
   "source": [
    "* `pos()`: (토큰, 품사)의 쌍으로 출력\n",
    "* `morphs()`: 토큰들만 출력\n",
    "* `nouns()`: 명사들만 출력"
   ]
  },
  {
   "cell_type": "code",
   "execution_count": null,
   "id": "5220e3fa",
   "metadata": {
    "id": "5220e3fa",
    "outputId": "ce76c3a7-b864-42ee-fecf-433ef348ff7b"
   },
   "outputs": [],
   "source": [
    "from konlpy.tag import Okt\n",
    "\n",
    "okt = Okt()\n",
    "\n",
    "review = \"분명 배달이 완료되었는데 나는 받지 않았엌ㅋㅋㅋ\"\n",
    "result = okt.pos(review) # pos(norm, stem), morphs, nouns\n",
    "\n",
    "# for res in result:\n",
    "#     print(res)\n",
    "\n",
    "print(okt.pos(review))\n",
    "print(okt.pos(review, stem=True))\n",
    "print(okt.pos(review, norm=True))\n",
    "print(okt.morphs(review))\n",
    "print(okt.nouns(review))"
   ]
  },
  {
   "cell_type": "markdown",
   "id": "83b53d47",
   "metadata": {
    "id": "83b53d47"
   },
   "source": [
    "## 2) Kiwi"
   ]
  },
  {
   "cell_type": "code",
   "execution_count": null,
   "id": "53385bee",
   "metadata": {
    "id": "53385bee",
    "outputId": "85e5452e-309c-400f-df77-4e5f8b16647b"
   },
   "outputs": [],
   "source": [
    "from kiwipiepy import Kiwi\n",
    "\n",
    "kiwi = Kiwi()\n",
    "review = \"분명 배달이 완료되었는데 나는 받지 않았엌ㅋㅋㅋ\"\n",
    "result = kiwi.tokenize(review)\n",
    "\n",
    "print(result)\n",
    "print(result[0])\n",
    "\n",
    "for res in result:\n",
    "    word = res.form\n",
    "    pos = res.tag\n",
    "    print(word, pos)\n",
    "    if pos[0] == \"N\":\n",
    "        print(word)\n",
    "\n",
    "    break"
   ]
  },
  {
   "cell_type": "markdown",
   "id": "5798f3e2",
   "metadata": {
    "id": "5798f3e2"
   },
   "source": [
    "# 2. 빈도 분석"
   ]
  },
  {
   "cell_type": "markdown",
   "id": "b4d658fa",
   "metadata": {
    "id": "b4d658fa"
   },
   "source": [
    "\n",
    "\n",
    "```\n",
    "# 코드로 형식 지정됨\n",
    "```\n",
    "\n",
    "* 목표: 어떤 단어가 많이 등장하는가? 의미 있는 단어가 무엇일까?"
   ]
  },
  {
   "cell_type": "markdown",
   "id": "574c3068",
   "metadata": {
    "id": "574c3068"
   },
   "source": [
    "## 1) 데이터 불러오기"
   ]
  },
  {
   "cell_type": "code",
   "execution_count": null,
   "id": "96680898",
   "metadata": {
    "id": "96680898",
    "outputId": "c5bb0f71-c196-450f-db78-da75c15813fe"
   },
   "outputs": [],
   "source": [
    "import pandas as pd\n",
    "data = pd.read_csv(\"data/appreply.csv\", index_col=0).dropna().reset_index(drop=True)\n",
    "data.head()"
   ]
  },
  {
   "cell_type": "code",
   "execution_count": null,
   "id": "c9574f97",
   "metadata": {
    "id": "c9574f97"
   },
   "outputs": [],
   "source": [
    "data.to_csv(\"data/appreply2.csv\")"
   ]
  },
  {
   "cell_type": "code",
   "execution_count": null,
   "id": "80b1d6da",
   "metadata": {
    "id": "80b1d6da",
    "outputId": "86088944-cf96-4d2e-fb30-207b9bcaa3c1"
   },
   "outputs": [],
   "source": [
    "# 저장한 데이터 다시 불러오기\n",
    "data = pd.read_csv(\"data/appreply2.csv\", index_col=0)\n",
    "data.head()"
   ]
  },
  {
   "cell_type": "markdown",
   "id": "6ab16e53",
   "metadata": {
    "id": "6ab16e53"
   },
   "source": [
    "## 2) 데이터 전처리"
   ]
  },
  {
   "cell_type": "code",
   "execution_count": null,
   "id": "db7059aa",
   "metadata": {
    "id": "db7059aa"
   },
   "outputs": [],
   "source": [
    "from konlpy.tag import Okt\n",
    "\n",
    "okt = Okt()"
   ]
  },
  {
   "cell_type": "code",
   "execution_count": null,
   "id": "943863b0",
   "metadata": {
    "id": "943863b0",
    "outputId": "18a00c99-ffe9-4517-ed7b-3157ba84f26f"
   },
   "outputs": [],
   "source": [
    "# 정규표현식으로 전처리하기\n",
    "text = \"오늘!!!!!!!!!!!!!!!!!!!!!!!!!!! ㅇㅇ ㅏㅏㅛ hello HELLO 010-5796-8426 기분 좋아^^ ㅎㅇ\"\n",
    "\n",
    "import re\n",
    "# new_text = re.sub(\"[^ㄱ-ㅎ]\", \"\", text) # 한글 자음만 출력해주세요\n",
    "# print(new_text)\n",
    "new_text = re.sub(\"[^가-힣a-zA-Z0-9-\\s]\", \"\", text) # 한글 자음만 출력해주세요\n",
    "print(new_text)"
   ]
  },
  {
   "cell_type": "code",
   "execution_count": null,
   "id": "66ce4eb0",
   "metadata": {
    "id": "66ce4eb0",
    "outputId": "827f9858-5ced-4373-e663-d0f8828e0d71"
   },
   "outputs": [],
   "source": [
    "# word_list라는 빈 리스트를 만든다.\n",
    "# 모든 리뷰들을 형태소 분석기에 넣는다.\n",
    "# 그 리뷰들 중에 Noun만 추출한다.\n",
    "# 그 토큰들을 word_list에 담는다.\n",
    "   # 조건: 2글자 이상인 단어만 담는다\n",
    "   # 조건: 불용어(stopwords)가 아닌 단어들만 담는다.\n",
    "\n",
    "word_list = []\n",
    "stopwords = [\"배민\", \"민족\"]\n",
    "\n",
    "for i, review in enumerate(data[\"text\"].tolist()):\n",
    "    # STEP1: 데이터 전처리\n",
    "    new_review = re.sub(\"[^a-zA-Z가-힣\\s]\", \"\", review)\n",
    "    # STEP2: 형태소 분석\n",
    "    result = okt.nouns(new_review)\n",
    "    # STEP3: 조건에 맞는 단어 담기\n",
    "    for word in result:\n",
    "        if len(word) > 1 and word not in stopwords:\n",
    "            word_list.append(word)\n",
    "    ### 출력 메세지 ###\n",
    "    print(f\"{i}번째 리뷰: {new_review}\")\n",
    "print(word_list)"
   ]
  },
  {
   "cell_type": "markdown",
   "id": "7a9631ad",
   "metadata": {
    "id": "7a9631ad"
   },
   "source": [
    "## 3) 워드클라우드"
   ]
  },
  {
   "cell_type": "code",
   "execution_count": null,
   "id": "f9da1a5b",
   "metadata": {
    "id": "f9da1a5b",
    "outputId": "578a7772-3428-4ab1-b2fe-d8c4c2395905"
   },
   "outputs": [],
   "source": [
    "print(word_list)"
   ]
  },
  {
   "cell_type": "code",
   "execution_count": null,
   "id": "9e0c38fd",
   "metadata": {
    "id": "9e0c38fd",
    "outputId": "8781e305-99a2-4a89-eca7-e111535228de"
   },
   "outputs": [],
   "source": [
    "# 키:값 => 단어:빈도 수\n",
    "from collections import Counter\n",
    "\n",
    "counter = Counter(word_list)\n",
    "print(counter)\n",
    "print(counter.most_common(30))"
   ]
  },
  {
   "cell_type": "code",
   "execution_count": null,
   "id": "822747a9",
   "metadata": {
    "id": "822747a9"
   },
   "outputs": [],
   "source": [
    "# (한번 해보기) Counter 없이 딕셔너리로 코딩해보기"
   ]
  },
  {
   "cell_type": "code",
   "execution_count": null,
   "id": "a86b76b2",
   "metadata": {
    "colab": {
     "base_uri": "https://localhost:8080/",
     "height": 405
    },
    "executionInfo": {
     "elapsed": 218,
     "status": "error",
     "timestamp": 1753084972335,
     "user": {
      "displayName": "전민우",
      "userId": "01617348502314037335"
     },
     "user_tz": -540
    },
    "id": "a86b76b2",
    "outputId": "42c89abf-6be0-4c80-b30b-e3273bc5baf8"
   },
   "outputs": [],
   "source": [
    "from wordcloud import WordCloud\n",
    "import matplotlib.pyplot as plt\n",
    "import koreanize_matplotlib\n",
    "\n",
    "## (한번 해보기) Mask로 내가 원하는 모양으로 만들어보기\n",
    "from PIL import Image\n",
    "import numpy as np\n",
    "\n",
    "image = Image.open(\"Images/image.png\")\n",
    "mask_img = np.array(image)\n",
    "\n",
    "wc = WordCloud(\n",
    "    font_path = \"C:\\Windodws\\Fonts\\malgunbd.ttf\",\n",
    "    mask=mask_img,\n",
    "    background_color=\"white\",\n",
    "    width=800,\n",
    "    height=400\n",
    ")\n",
    "\n",
    "## (한번 해보기) 가장 많이 발생한 50개만 워드 클라우드로 그려보기\n",
    "wc.generate_from_frequencies(dict(counter.most_common(50)))\n",
    "\n",
    "plt.figure(figsize=(5,5))\n",
    "plt.imshow(wc, interpolation=\"bilinear\")\n",
    "plt.axis(\"off\")\n",
    "plt.title(\"배달의 민족 워드 클라우드(단어)\", fontsize=15)\n",
    "plt.show()"
   ]
  },
  {
   "cell_type": "markdown",
   "id": "bdee6643",
   "metadata": {
    "id": "bdee6643"
   },
   "source": [
    "## 4) 리뷰 검색"
   ]
  },
  {
   "cell_type": "code",
   "execution_count": null,
   "id": "f97e3eaf",
   "metadata": {
    "id": "f97e3eaf",
    "outputId": "5886e52c-d964-438a-ab89-050266355f2b"
   },
   "outputs": [],
   "source": [
    "data.head()"
   ]
  },
  {
   "cell_type": "code",
   "execution_count": null,
   "id": "38beac9b",
   "metadata": {
    "id": "38beac9b",
    "outputId": "70aef751-da88-4825-a1dd-5d69c771c020"
   },
   "outputs": [],
   "source": [
    "keyword = \"결제\"\n",
    "\n",
    "# 조건: data에 text열에서 keyword가 속해있어야 한다.\n",
    "extract_data = data.loc[data[\"text\"].str.contains(keyword),:]\n",
    "extract_data"
   ]
  },
  {
   "cell_type": "code",
   "execution_count": null,
   "id": "fffe3b72",
   "metadata": {
    "id": "fffe3b72",
    "outputId": "b0bbfa73-97df-4c7b-d680-bf16de1d57f4"
   },
   "outputs": [],
   "source": [
    "for i, review in enumerate(extract_data[\"text\"]):\n",
    "    print(f\"{i}번째 리뷰: {review}\")\n",
    "    print(\"=\"*100)"
   ]
  },
  {
   "cell_type": "markdown",
   "id": "53c507a4",
   "metadata": {
    "id": "53c507a4"
   },
   "source": [
    "# 3. 긍부정 분석"
   ]
  },
  {
   "cell_type": "markdown",
   "id": "a5e8a16c",
   "metadata": {
    "id": "a5e8a16c"
   },
   "source": [
    "## 1) 데이터 불러오기"
   ]
  },
  {
   "cell_type": "code",
   "execution_count": null,
   "id": "6d95a41e",
   "metadata": {
    "id": "6d95a41e",
    "outputId": "8fc8e721-e4c7-44a7-fc23-d1c72886fbdc"
   },
   "outputs": [],
   "source": [
    "import pandas as pd\n",
    "data = pd.read_csv(\"data/appreply2.csv\", index_col=0)\n",
    "data"
   ]
  },
  {
   "cell_type": "code",
   "execution_count": null,
   "id": "82893800",
   "metadata": {
    "id": "82893800",
    "outputId": "0009206d-9d44-4119-d51f-fa0933b8a9aa"
   },
   "outputs": [],
   "source": [
    "# (미션) reaction열을 만드는데 score가 4이상이면 긍정(1), 그 외는 부정(0)으로 나타내주세요\n",
    "data[\"reaction\"] = np.where(data[\"score\"] >= 4, 1, 0)\n",
    "data.head()"
   ]
  },
  {
   "cell_type": "code",
   "execution_count": null,
   "id": "7451c033",
   "metadata": {
    "id": "7451c033"
   },
   "outputs": [],
   "source": [
    "data.to_csv(\"data/appreply3.csv\")"
   ]
  },
  {
   "cell_type": "code",
   "execution_count": null,
   "id": "0f2ee75a",
   "metadata": {
    "id": "0f2ee75a",
    "outputId": "3dfb52d7-d0ba-4ab0-e18c-edc9c95fea3e"
   },
   "outputs": [],
   "source": [
    "import pandas as pd\n",
    "\n",
    "data = pd.read_csv(\"data/appreply3.csv\", index_col=0)\n",
    "data"
   ]
  },
  {
   "cell_type": "markdown",
   "id": "dff6f17a",
   "metadata": {
    "id": "dff6f17a"
   },
   "source": [
    "## 2) 데이터 탐색"
   ]
  },
  {
   "cell_type": "code",
   "execution_count": null,
   "id": "36cb5bb1",
   "metadata": {
    "id": "36cb5bb1",
    "outputId": "b0cd4295-0329-49ed-8776-f2ba9bb07f3c"
   },
   "outputs": [],
   "source": [
    "# 긍부정 비율이 어떻게 되나요?\n",
    "data[\"reaction\"].value_counts()"
   ]
  },
  {
   "cell_type": "code",
   "execution_count": null,
   "id": "1218b61d",
   "metadata": {
    "id": "1218b61d",
    "outputId": "7c2f1a74-b674-4209-fcf4-cc21e0ee94bf"
   },
   "outputs": [],
   "source": [
    "import matplotlib.pyplot as plt\n",
    "import seaborn as sns\n",
    "import koreanize_matplotlib\n",
    "\n",
    "plt.figure(figsize=(5,3))\n",
    "data[\"reaction\"].value_counts().plot(kind=\"bar\")\n",
    "plt.title(\"긍부정 빈도 수\")\n",
    "plt.xticks(ticks=[0, 1], labels=[\"부정\", \"긍정\"], rotation=0)\n",
    "plt.show()"
   ]
  },
  {
   "cell_type": "code",
   "execution_count": null,
   "id": "79b31e46",
   "metadata": {
    "id": "79b31e46",
    "outputId": "859094d8-45fc-4b6f-eed0-e217068293dc"
   },
   "outputs": [],
   "source": [
    "plt.figure(figsize=(5,3))\n",
    "sns.countplot(data=data, x=\"reaction\")\n",
    "plt.title(\"긍부정 빈도 수\")\n",
    "plt.xticks(ticks=[0, 1], labels=[\"부정\", \"긍정\"], rotation=0)\n",
    "plt.show()"
   ]
  },
  {
   "cell_type": "code",
   "execution_count": null,
   "id": "35cd5a95",
   "metadata": {
    "id": "35cd5a95",
    "outputId": "1d28f3a4-2cc7-40d9-e092-862027551670"
   },
   "outputs": [],
   "source": [
    "# reaction==1인 데이터 data_pos\n",
    "# reaction==0인 데이터 data_neg\n",
    "data_pos = data.loc[data[\"reaction\"]==1, :]\n",
    "print(data_pos.shape)\n",
    "data_neg = data.loc[data[\"reaction\"]==0, :]\n",
    "print(data_neg.shape)"
   ]
  },
  {
   "cell_type": "markdown",
   "id": "e778ff55",
   "metadata": {
    "id": "e778ff55"
   },
   "source": [
    "## 3) 데이터 전처리"
   ]
  },
  {
   "cell_type": "code",
   "execution_count": null,
   "id": "d521f3aa",
   "metadata": {
    "id": "d521f3aa"
   },
   "outputs": [],
   "source": [
    "word_list = []\n",
    "stopwords = [\"배민\", \"민족\"]\n",
    "\n",
    "for i, review in enumerate(data[\"text\"].tolist()):\n",
    "    # STEP1: 데이터 전처리\n",
    "    new_review = re.sub(\"[^a-zA-Z가-힣\\s]\", \"\", review)\n",
    "    # STEP2: 형태소 분석\n",
    "    result = okt.nouns(new_review)\n",
    "    # STEP3: 조건에 맞는 단어 담기\n",
    "    for word in result:\n",
    "        if len(word) > 1 and word not in stopwords:\n",
    "            word_list.append(word)\n",
    "    ### 출력 메세지 ###\n",
    "    print(f\"{i}번째 리뷰: {new_review}\")\n",
    "print(word_list)"
   ]
  },
  {
   "cell_type": "code",
   "execution_count": null,
   "id": "41228a55",
   "metadata": {
    "id": "41228a55"
   },
   "outputs": [],
   "source": [
    "def get_word_list(df, stopword_list):\n",
    "    \"\"\"리뷰 데이터프레임과 불용어 리스트를 입력하면 word_list를 반환해주는 함수\"\"\"\n",
    "    word_list = []\n",
    "\n",
    "    for i, review in enumerate(df[\"text\"].tolist()):\n",
    "        # STEP1: 데이터 전처리\n",
    "        new_review = re.sub(\"[^a-zA-Z가-힣\\s]\", \"\", review)\n",
    "        # STEP2: 형태소 분석\n",
    "        result = okt.nouns(new_review)\n",
    "        # STEP3: 조건에 맞는 단어 담기\n",
    "        for word in result:\n",
    "            if len(word) > 1 and word not in stopword_list:\n",
    "                word_list.append(word)\n",
    "        ### 출력 메세지 ###\n",
    "        # print(f\"{i}번째 리뷰: {new_review}\")\n",
    "    return word_list"
   ]
  },
  {
   "cell_type": "code",
   "execution_count": null,
   "id": "182dd7e8",
   "metadata": {
    "id": "182dd7e8"
   },
   "outputs": [],
   "source": [
    "stopwords = [\"배민\", \"민족\"]\n",
    "\n",
    "word_list_pos = get_word_list(data_pos, stopwords)\n",
    "word_list_neg = get_word_list(data_neg, stopwords)"
   ]
  },
  {
   "cell_type": "code",
   "execution_count": null,
   "id": "2941ac0e",
   "metadata": {
    "id": "2941ac0e",
    "outputId": "fe1e60b8-7eb8-429d-f247-4e3e1e98b4a7"
   },
   "outputs": [],
   "source": [
    "print(word_list_pos)\n",
    "print(word_list_neg)"
   ]
  },
  {
   "cell_type": "markdown",
   "id": "ca8fa5d9",
   "metadata": {
    "id": "ca8fa5d9"
   },
   "source": [
    "## 4) 워드클라우드"
   ]
  },
  {
   "cell_type": "code",
   "execution_count": null,
   "id": "76404f43",
   "metadata": {},
   "outputs": [],
   "source": [
    "from wordcloud import WordCloud\n",
    "import matplotlib.pyplot as plt\n",
    "import koreanize_matplotlib\n",
    "from PIL import Image\n",
    "import numpy as np\n",
    "from collections import Counter\n",
    "\n",
    "def draw_wordcloud(word_list, top_n=None):\n",
    "    \"\"\"word_list를 받으면 Counter로 빈도 수를 센 후 워드 클라우드를 그리고 counter를 반환하는 함수\"\"\"\n",
    "    counter = Counter(word_list)\n",
    "    # print(counter)\n",
    "    # print(counter.most_common(30))\n",
    "    \n",
    "    ## (한번 해보기) Mask로 내가 원하는 모양으로 만들어보기\n",
    "    image = Image.open(\"Images/image.png\")\n",
    "    mask_img = np.array(image)\n",
    "\n",
    "    wc = WordCloud(\n",
    "        font_path = \"C:\\Windodws\\Fonts\\malgunbd.ttf\",\n",
    "        mask=mask_img,\n",
    "        background_color=\"white\",\n",
    "        width=800,\n",
    "        height=400\n",
    "    )\n",
    "\n",
    "    ## (한번 해보기) 가장 많이 발생한 50개만 워드 클라우드로 그려보기\n",
    "    wc.generate_from_frequencies(counter)\n",
    "\n",
    "    plt.figure(figsize=(5,5))\n",
    "    plt.imshow(wc, interpolation=\"bilinear\")\n",
    "    plt.axis(\"off\")\n",
    "    plt.title(\"배달의 민족 워드 클라우드(단어)\", fontsize=15)\n",
    "    plt.show()\n",
    "\n",
    "    return counter"
   ]
  },
  {
   "cell_type": "code",
   "execution_count": null,
   "id": "a01fcb01",
   "metadata": {
    "id": "a01fcb01",
    "outputId": "5f395e9c-95cb-4dd9-9836-9a4d794685af"
   },
   "outputs": [],
   "source": [
    "result = draw_wordcloud(word_list_pos)\n",
    "print(result)"
   ]
  },
  {
   "cell_type": "code",
   "execution_count": null,
   "id": "072117d0",
   "metadata": {
    "id": "072117d0",
    "outputId": "7c5aef5e-cea1-469b-8097-d215a39ffd48"
   },
   "outputs": [],
   "source": [
    "result = draw_wordcloud(word_list_neg)\n",
    "print(result)"
   ]
  },
  {
   "cell_type": "markdown",
   "id": "81a34179",
   "metadata": {
    "id": "81a34179"
   },
   "source": [
    "### + 함수 응용(most common 반영하기)"
   ]
  },
  {
   "cell_type": "code",
   "execution_count": null,
   "id": "0db54d8b",
   "metadata": {
    "id": "0db54d8b"
   },
   "outputs": [],
   "source": [
    "from wordcloud import WordCloud\n",
    "import matplotlib.pyplot as plt\n",
    "import koreanize_matplotlib\n",
    "from PIL import Image\n",
    "import numpy as np\n",
    "from collections import Counter\n",
    "\n",
    "def draw_wordcloud(word_list, top_n=None):\n",
    "    \"\"\"word_list를 받으면 Counter로 빈도 수를 센 후 워드 클라우드를 그리고 counter를 반환하는 함수\"\"\"\n",
    "    counter = Counter(word_list)\n",
    "    # print(counter)\n",
    "    # print(counter.most_common(30))\n",
    "\n",
    "    if top_n is not None:\n",
    "        counter = dict(counter.most_common(top_n))\n",
    "\n",
    "    ## (한번 해보기) Mask로 내가 원하는 모양으로 만들어보기\n",
    "    image = Image.open(\"Images/image.png\")\n",
    "    mask_img = np.array(image)\n",
    "\n",
    "    wc = WordCloud(\n",
    "        font_path = \"C:\\Windodws\\Fonts\\malgunbd.ttf\",\n",
    "        mask=mask_img,\n",
    "        background_color=\"white\",\n",
    "        width=800,\n",
    "        height=400\n",
    "    )\n",
    "\n",
    "    ## (한번 해보기) 가장 많이 발생한 50개만 워드 클라우드로 그려보기\n",
    "    wc.generate_from_frequencies(counter)\n",
    "\n",
    "    plt.figure(figsize=(5,5))\n",
    "    plt.imshow(wc, interpolation=\"bilinear\")\n",
    "    plt.axis(\"off\")\n",
    "    plt.title(\"배달의 민족 워드 클라우드(단어)\", fontsize=15)\n",
    "    plt.show()\n",
    "\n",
    "    return counter"
   ]
  },
  {
   "cell_type": "code",
   "execution_count": null,
   "id": "5017aa8d",
   "metadata": {
    "id": "5017aa8d",
    "outputId": "284bd90b-1431-47d9-9ff6-0c3e9e75ad1c"
   },
   "outputs": [],
   "source": [
    "result = draw_wordcloud(word_list_pos, top_n=30)\n",
    "print(result)"
   ]
  },
  {
   "cell_type": "markdown",
   "id": "489e36f6",
   "metadata": {
    "id": "489e36f6"
   },
   "source": [
    "# 4. 장바구니 분석"
   ]
  },
  {
   "cell_type": "markdown",
   "id": "8983cdbf",
   "metadata": {
    "id": "8983cdbf"
   },
   "source": [
    "## 1) 데이터 불러오기"
   ]
  },
  {
   "cell_type": "code",
   "execution_count": null,
   "id": "f0a52875",
   "metadata": {
    "id": "f0a52875",
    "outputId": "a3fa7044-31f3-4dae-c3fb-9461ad0873d4"
   },
   "outputs": [],
   "source": [
    "data = pd.read_csv(\"data/appreply2.csv\", index_col=0)\n",
    "data.head()"
   ]
  },
  {
   "cell_type": "markdown",
   "id": "077462b9",
   "metadata": {
    "id": "077462b9"
   },
   "source": [
    "## 2) 데이터 전처리"
   ]
  },
  {
   "cell_type": "code",
   "execution_count": null,
   "id": "bd24c988",
   "metadata": {
    "id": "bd24c988"
   },
   "outputs": [],
   "source": [
    "# word_list = [리뷰1 단어1, 리뷰1 단어2, 리뷰2 단어1, 리뷰2 단어2, 리뷰2 단어3 ......]"
   ]
  },
  {
   "cell_type": "code",
   "execution_count": null,
   "id": "0176506f",
   "metadata": {
    "id": "0176506f"
   },
   "outputs": [],
   "source": [
    "# main_list = [[리뷰1 단어1 리뷰1 단어2], [리뷰2 단어1, 리뷰2 단어2, 리뷰3 단어3], ....]"
   ]
  },
  {
   "cell_type": "code",
   "execution_count": null,
   "id": "af114980",
   "metadata": {
    "id": "af114980",
    "outputId": "18ce24a7-3254-4339-92ef-380a9e0a7533"
   },
   "outputs": [],
   "source": [
    "main_list = []\n",
    "stopwords = [\"배민\", \"민족\"]\n",
    "\n",
    "for i, review in enumerate(data[\"text\"].tolist()):\n",
    "    # STEP1: 데이터 전처리\n",
    "    new_review = re.sub(\"[^a-zA-Z가-힣\\s]\", \"\", review)\n",
    "    # STEP2: 형태소 분석\n",
    "    result = okt.nouns(new_review)\n",
    "    # STEP3: 조건에 맞는 단어 담기\n",
    "    sub_list = []\n",
    "    for word in result:\n",
    "        if len(word) > 1 and word not in stopwords:\n",
    "            sub_list.append(word)\n",
    "    main_list.append(sub_list)\n",
    "    ### 출력 메세지 ###\n",
    "    print(f\"{i}번째 리뷰: {new_review}\")\n",
    "print(main_list)"
   ]
  },
  {
   "cell_type": "code",
   "execution_count": null,
   "id": "46f29837",
   "metadata": {
    "id": "46f29837",
    "outputId": "e130f1ed-ff02-4a39-be9f-411cd1f34907"
   },
   "outputs": [],
   "source": [
    "print(main_list)\n",
    "for i in main_list:\n",
    "    print(i)"
   ]
  },
  {
   "cell_type": "markdown",
   "id": "f07345a3",
   "metadata": {
    "id": "f07345a3"
   },
   "source": [
    "## 3) 연관성 분석"
   ]
  },
  {
   "cell_type": "markdown",
   "id": "60868ba6",
   "metadata": {
    "id": "60868ba6"
   },
   "source": [
    "```\n",
    "uv add mlxtend\n",
    "```"
   ]
  },
  {
   "cell_type": "code",
   "execution_count": null,
   "id": "52ae869b",
   "metadata": {
    "id": "52ae869b",
    "outputId": "7c7cc9c5-844e-4e24-a487-53f439595c55"
   },
   "outputs": [],
   "source": [
    "import pandas as pd\n",
    "from mlxtend.preprocessing import TransactionEncoder\n",
    "from mlxtend.frequent_patterns import apriori, association_rules\n",
    "\n",
    "te = TransactionEncoder()\n",
    "te_arr = te.fit(main_list).transform(main_list)\n",
    "te_arr"
   ]
  },
  {
   "cell_type": "code",
   "execution_count": null,
   "id": "1fd9574d",
   "metadata": {},
   "outputs": [],
   "source": [
    "df = pd.DataFrame(te_arr, columns=te.columns_)\n",
    "\n",
    "df"
   ]
  },
  {
   "cell_type": "code",
   "execution_count": null,
   "id": "c1cca105",
   "metadata": {
    "id": "c1cca105",
    "outputId": "5e29a7d1-a84a-47a9-d4bc-35f9e7c181c3"
   },
   "outputs": [],
   "source": [
    "# 각 단어가 출현한 횟수\n",
    "df.sum(axis=0)"
   ]
  },
  {
   "cell_type": "code",
   "execution_count": null,
   "id": "a1dbec57",
   "metadata": {
    "id": "a1dbec57",
    "outputId": "cc6b0438-2710-4838-f6d9-250758e607db"
   },
   "outputs": [],
   "source": [
    "frequent_itemsets = apriori(df, min_support=0.05, use_colnames=True, max_len=2)\n",
    "frequent_itemsets"
   ]
  },
  {
   "cell_type": "markdown",
   "id": "a400b09d",
   "metadata": {
    "id": "a400b09d"
   },
   "source": [
    "* support: $P(A\\cap B)$\n",
    "* confidence: $P(B|A)=\\dfrac{P(A\\cap B)}{P(A)}$\n",
    "* lift: $\\dfrac{P(B|A)}{P(B)}$\n",
    "\n",
    "lift 의 값이 높다는 것은   \n",
    "B가 단돈으로 나올 확률보다 A가 있을때 B가 나올 확률이 더 높다는 것"
   ]
  },
  {
   "cell_type": "code",
   "execution_count": null,
   "id": "74e45a7e",
   "metadata": {
    "id": "74e45a7e",
    "outputId": "799a123e-89dc-4e5b-a742-57a2cc3275e6"
   },
   "outputs": [],
   "source": [
    "rules = association_rules(frequent_itemsets, metric=\"lift\", min_threshold=1.0)\n",
    "rules[[\"antecedents\", \"consequents\", \"support\", \"confidence\", \"lift\"]]"
   ]
  },
  {
   "cell_type": "markdown",
   "id": "bc3a01aa",
   "metadata": {
    "id": "bc3a01aa"
   },
   "source": [
    "## 4) 시각화"
   ]
  },
  {
   "cell_type": "code",
   "execution_count": null,
   "id": "ab9f58e7",
   "metadata": {
    "id": "ab9f58e7"
   },
   "outputs": [],
   "source": [
    "# (전화, 취소) => \"전화,취소\"   (주문, 배달) => \"배달,주문\""
   ]
  },
  {
   "cell_type": "code",
   "execution_count": null,
   "id": "ba7127f4",
   "metadata": {
    "id": "ba7127f4",
    "outputId": "9af05ba1-f711-4b6c-d9f8-54734619f80f"
   },
   "outputs": [],
   "source": [
    "import seaborn as sns\n",
    "import matplotlib.pyplot as plt\n",
    "import koreanize_matplotlib\n",
    "\n",
    "rules[\"antecedents_str\"] = rules[\"antecedents\"].apply(lambda x: \",\".join(sorted(list(x)))) # 질문: ,로 join 을 하는 이유는?\n",
    "rules[\"consequents_str\"] = rules[\"consequents\"].apply(lambda x: \",\".join(sorted(list(x))))\n",
    "\n",
    "rules[[\"antecedents_str\", \"consequents_str\", \"support\", \"confidence\", \"lift\"]]"
   ]
  },
  {
   "cell_type": "code",
   "execution_count": null,
   "id": "9348710e",
   "metadata": {
    "id": "9348710e",
    "outputId": "016a70cc-7ff0-400a-a11f-2a9be866cb70"
   },
   "outputs": [],
   "source": [
    "pivot_data = rules.pivot_table(\n",
    "    index=\"antecedents_str\",\n",
    "    columns=\"consequents_str\",\n",
    "    values=\"lift\",\n",
    "    fill_value=0\n",
    ")\n",
    "pivot_data"
   ]
  },
  {
   "cell_type": "code",
   "execution_count": null,
   "id": "4a4f58f3",
   "metadata": {
    "id": "4a4f58f3",
    "outputId": "e5c44b2d-d6ff-4451-911d-5060a73144d7"
   },
   "outputs": [],
   "source": [
    "plt.figure(figsize=(10,10))\n",
    "sns.heatmap(pivot_data, annot=True, cmap=\"YlGnBu\", fmt=\".2f\", linewidths=0.3, square=True)\n",
    "plt.title(\"연관성 분석 시각화(Lift 기준)\")\n",
    "plt.xlabel(\"Consequents\")\n",
    "plt.ylabel(\"Antecedents\")\n",
    "plt.show()"
   ]
  },
  {
   "cell_type": "markdown",
   "id": "2bb6f324",
   "metadata": {
    "id": "2bb6f324"
   },
   "source": [
    "# 5. 네트워크 분석"
   ]
  },
  {
   "cell_type": "markdown",
   "id": "550a6b27",
   "metadata": {
    "id": "550a6b27"
   },
   "source": [
    "```\n",
    "uv add networkx\n",
    "```"
   ]
  },
  {
   "cell_type": "code",
   "execution_count": null,
   "id": "5a8b3d49",
   "metadata": {
    "id": "5a8b3d49",
    "outputId": "45e167e0-2109-49fb-d364-0cad246970a4"
   },
   "outputs": [],
   "source": [
    "rules.head()"
   ]
  },
  {
   "cell_type": "code",
   "execution_count": null,
   "id": "67014074",
   "metadata": {
    "id": "67014074"
   },
   "outputs": [],
   "source": [
    "import networkx as nx\n",
    "import matplotlib.pyplot as plt\n",
    "import koreanize_matplotlib\n",
    "\n",
    "# 1. 그래프 생성\n",
    "G = nx.Graph()\n",
    "\n",
    "# 2. 엣지 추가\n",
    "for _, row in rules.iterrows():\n",
    "    # 단어 추출\n",
    "    antecedent = \",\".join(row[\"antecedents\"])\n",
    "    consequent = \",\".join(row[\"consequents\"])\n",
    "    weight = row[\"lift\"]\n",
    "\n",
    "    # 노드 추가\n",
    "    G.add_edge(antecedent, consequent, weight=weight)"
   ]
  },
  {
   "cell_type": "code",
   "execution_count": null,
   "id": "564fb243",
   "metadata": {
    "id": "564fb243",
    "outputId": "30c26e8e-46a0-4c52-fb5b-05b004c5ddf5"
   },
   "outputs": [],
   "source": [
    "for temp in rules.iterrows():\n",
    "    print(temp)"
   ]
  },
  {
   "cell_type": "code",
   "execution_count": null,
   "id": "490403a2",
   "metadata": {
    "id": "490403a2",
    "outputId": "c2d0521f-1fe4-4984-f27b-58340f3e2d1e"
   },
   "outputs": [],
   "source": [
    "G.edges()"
   ]
  },
  {
   "cell_type": "code",
   "execution_count": null,
   "id": "eeeb369f",
   "metadata": {
    "id": "eeeb369f",
    "outputId": "4497aab5-8ad7-4845-85e1-2a2db173cf6c"
   },
   "outputs": [],
   "source": [
    "G[\"가게\"][\"기능\"]"
   ]
  },
  {
   "cell_type": "code",
   "execution_count": null,
   "id": "a4445df1",
   "metadata": {
    "id": "a4445df1",
    "outputId": "aa2dfeee-26e7-41cd-8374-33b4c6f44654"
   },
   "outputs": [],
   "source": [
    "# 3. 노드 배치\n",
    "# pos = nx.kamada_kawai_layout(G)\n",
    "pos = nx.spring_layout(G, seed=15)\n",
    "\n",
    "# 4. 가중치 추출\n",
    "edge_weights = [G[u][v][\"weight\"] for u, v in G.edges()]\n",
    "\n",
    "# 5. 노드 스타일 지정 및 그리기\n",
    "plt.figure(figsize=(10,10))\n",
    "nx.draw_networkx_nodes(G, pos, node_color=\"lightblue\", node_size=1000)\n",
    "nx.draw_networkx_edges(G, pos, edge_color=\"gray\", width=edge_weights)\n",
    "nx.draw_networkx_labels(G, pos, font_size=12, font_family=\"Malgun Gothic\")\n",
    "\n",
    "# edge_labels = {(u, v): f\"{d['weight']:.2f}\" for u, v, d in G.edges(data=True)}\n",
    "# nx.draw_networkx_edge_labels(G, pos, edge_labels=edge_labels, font_size=8)\n",
    "\n",
    "plt.title(\"단어 간 연관 규칙 기반 네트워크 그래프(Lift 기준)\")\n",
    "plt.axis(\"off\")\n",
    "plt.show()"
   ]
  },
  {
   "cell_type": "markdown",
   "id": "2ea7e5f3",
   "metadata": {
    "id": "2ea7e5f3"
   },
   "source": [
    "# 6. 인코딩/벡터라이징"
   ]
  },
  {
   "cell_type": "markdown",
   "id": "ce410441",
   "metadata": {
    "id": "ce410441"
   },
   "source": [
    "```\n",
    "uv add scikit-learn\n",
    "```"
   ]
  },
  {
   "cell_type": "markdown",
   "id": "2c86532b",
   "metadata": {
    "id": "2c86532b"
   },
   "source": [
    "## 1) 인코딩"
   ]
  },
  {
   "cell_type": "code",
   "execution_count": null,
   "id": "2fdc8d6a",
   "metadata": {
    "id": "2fdc8d6a"
   },
   "outputs": [],
   "source": [
    "sentences = [\n",
    "    \"나는 오늘 기분이 좋다\",\n",
    "    \"오늘 날씨가 좋다\",\n",
    "    \"나는 기분이 나쁘다\"\n",
    "]"
   ]
  },
  {
   "cell_type": "markdown",
   "id": "d59de4ee",
   "metadata": {
    "id": "d59de4ee"
   },
   "source": [
    "### 정수 인코딩"
   ]
  },
  {
   "cell_type": "code",
   "execution_count": null,
   "id": "da02566a",
   "metadata": {
    "id": "da02566a",
    "outputId": "11c4e028-786f-4206-8d3d-e646dc82ebad"
   },
   "outputs": [],
   "source": [
    "# sentences를 스페이스 기준으로 쪼갠다.\n",
    "# 그 단어들의 집합을 만든다.\n",
    "tokens = []\n",
    "\n",
    "for sent in sentences:\n",
    "    temp = sent.split()\n",
    "    tokens.extend(temp)\n",
    "\n",
    "print(tokens)\n",
    "token_set = set(tokens)\n",
    "print(token_set)"
   ]
  },
  {
   "cell_type": "code",
   "execution_count": null,
   "id": "eb858d40",
   "metadata": {
    "id": "eb858d40",
    "outputId": "bc26fe4a-fbde-4bda-df78-9a5f9a7bee48"
   },
   "outputs": [],
   "source": [
    "from sklearn.preprocessing import LabelEncoder\n",
    "\n",
    "print(f\"입력값: {list(token_set)}\")\n",
    "label_encoder = LabelEncoder()\n",
    "encoded = label_encoder.fit_transform(list(token_set))\n",
    "print(f\"출력값: {encoded}\")\n",
    "print(f\"어떤 기준인가요? {label_encoder.classes_}\")"
   ]
  },
  {
   "cell_type": "code",
   "execution_count": null,
   "id": "30b3086d",
   "metadata": {
    "id": "30b3086d",
    "outputId": "ba5ed701-2db0-4c36-81dc-a0ac891fc1cc"
   },
   "outputs": [],
   "source": [
    "mydict = {}\n",
    "for i, key in enumerate(label_encoder.classes_):\n",
    "    mydict[str(key)] = i\n",
    "\n",
    "mydict"
   ]
  },
  {
   "cell_type": "code",
   "execution_count": null,
   "id": "1fc46e5b",
   "metadata": {
    "id": "1fc46e5b",
    "outputId": "c9043cc6-677f-4582-ddfd-6ba60e5f1ffe"
   },
   "outputs": [],
   "source": [
    "label_encoder.transform([\"나는\", \"기분이\", \"나쁘다\"])"
   ]
  },
  {
   "cell_type": "markdown",
   "id": "a589ed01",
   "metadata": {
    "id": "a589ed01"
   },
   "source": [
    "### 원-핫 인코딩"
   ]
  },
  {
   "cell_type": "code",
   "execution_count": null,
   "id": "64199f33",
   "metadata": {
    "id": "64199f33",
    "outputId": "f663b522-31d3-4583-f25b-2d2a2cea2162"
   },
   "outputs": [],
   "source": [
    "from sklearn.preprocessing import OneHotEncoder\n",
    "import numpy as np\n",
    "\n",
    "tokens_numpy = np.array(list(token_set))\n",
    "print(tokens_numpy)\n",
    "print(\"=\"*50)\n",
    "\n",
    "tokens_arr = tokens_numpy.reshape(-1, 1)\n",
    "print(f\"입력값:\\n{tokens_arr}\")\n",
    "print(\"=\"*50)\n",
    "\n",
    "oh_encoder = OneHotEncoder()\n",
    "encoded = oh_encoder.fit_transform(tokens_arr)\n",
    "print(f\"출력값:\\n{encoded.toarray()}\")\n",
    "print(f\"어떤 기준인가요? {oh_encoder.categories_}\")"
   ]
  },
  {
   "cell_type": "code",
   "execution_count": null,
   "id": "63a8c11d",
   "metadata": {
    "id": "63a8c11d",
    "outputId": "c01e84a1-3bf8-4db9-f30a-5271ba9d6b52"
   },
   "outputs": [],
   "source": [
    "oh_encoder.categories_"
   ]
  },
  {
   "cell_type": "markdown",
   "id": "c3b49e92",
   "metadata": {
    "id": "c3b49e92"
   },
   "source": [
    "## 2) 벡터라이징"
   ]
  },
  {
   "cell_type": "markdown",
   "id": "66512ddc",
   "metadata": {
    "id": "66512ddc"
   },
   "source": [
    "### BoW(Bag of Words)"
   ]
  },
  {
   "cell_type": "code",
   "execution_count": null,
   "id": "5a471197",
   "metadata": {
    "id": "5a471197"
   },
   "outputs": [],
   "source": [
    "sentences = [\n",
    "    \"나는 오늘 기분이 좋다\",\n",
    "    \"오늘 날씨가 좋다\",\n",
    "    \"나는 기분이 나쁘다\",\n",
    "    \"집에 가고 싶다\"\n",
    "]"
   ]
  },
  {
   "cell_type": "code",
   "execution_count": null,
   "id": "b99896a7",
   "metadata": {
    "id": "b99896a7",
    "outputId": "b7b7f1da-c0b6-4551-c7eb-9b122e1aeb99"
   },
   "outputs": [],
   "source": [
    "# 미션: 딕셔너리 만들기(단어: 빈도, 형태의 딕셔너리 만들기)\n",
    "mydict = {}\n",
    "for sent in sentences:\n",
    "    # 만약에 word가 mydict의 키에 있으면 +1을 하고, 아니면 word를 키로 만들어서 값을 1로 만든다.\n",
    "    for word in sent.split():\n",
    "        if word in mydict:\n",
    "            mydict[word] += 1\n",
    "        else:\n",
    "            mydict[word] = 1\n",
    "    print(mydict)"
   ]
  },
  {
   "cell_type": "code",
   "execution_count": null,
   "id": "3df6519f",
   "metadata": {
    "id": "3df6519f",
    "outputId": "08d30946-c196-4002-f868-ec4ff2ce7c09"
   },
   "outputs": [],
   "source": [
    "from sklearn.feature_extraction.text import CountVectorizer\n",
    "\n",
    "vectorizer = CountVectorizer()\n",
    "bow_matrix = vectorizer.fit_transform(sentences)\n",
    "print(vectorizer.vocabulary_)\n",
    "print(bow_matrix.toarray())"
   ]
  },
  {
   "cell_type": "markdown",
   "id": "f8b7906e",
   "metadata": {
    "id": "f8b7906e"
   },
   "source": [
    "### TF-IDF"
   ]
  },
  {
   "cell_type": "markdown",
   "id": "e584a0e5",
   "metadata": {},
   "source": [
    "자연어 처리(NLP)에서 텍스트를 숫자 벡터로 바꾸는 방법 중 하나입니다.   \n",
    "다른 벡터라이징 방식들과 비교해볼 때, **\"각 단어가 문서에서 얼마나 중요한지를 수치화\"**한다는 점이 핵심이에요.\n",
    "\n",
    "count 를 기반으로 계산됨\n",
    "\n",
    "TF (Term Frequency)\n",
    "→ 문서 내 특정 단어가 얼마나 자주 나오는가?   \n",
    "예: \"apple apple orange\" → apple의 TF는 2/3\n",
    "   \n",
    "IDF (Inverse Document Frequency)   \n",
    "→ 여러 문서 중 얼마나 희귀한가?   \n",
    "→ 많이 나오는 흔한 단어는 점수가 낮아짐   \n",
    "   \n",
    "TF × IDF = 최종 가중치 (중요도)   \n",
    "→ 자주 나오면서도 희귀한 단어일수록 높은 점수를 받음   "
   ]
  },
  {
   "cell_type": "code",
   "execution_count": null,
   "id": "2d3a4a97",
   "metadata": {
    "id": "2d3a4a97",
    "outputId": "fdcb47ee-f19a-4d60-a64d-2bfc05c74241"
   },
   "outputs": [],
   "source": [
    "# 질문 : 이건 뭐하는 거임?\n",
    "from sklearn.feature_extraction.text import TfidfVectorizer\n",
    "\n",
    "vectorizer = TfidfVectorizer()\n",
    "tfidf_matrix = vectorizer.fit_transform(sentences)\n",
    "print(vectorizer.vocabulary_)\n",
    "print(tfidf_matrix.toarray())"
   ]
  },
  {
   "attachments": {
    "image.png": {
     "image/png": "[encoded data removed]"
    }
   },
   "cell_type": "markdown",
   "id": "d245886f",
   "metadata": {},
   "source": [
    "![image.png](attachment:image.png)"
   ]
  },
  {
   "cell_type": "markdown",
   "id": "32d756ac",
   "metadata": {
    "id": "32d756ac"
   },
   "source": [
    "### 유사도 분석"
   ]
  },
  {
   "cell_type": "code",
   "execution_count": null,
   "id": "7747d2b6",
   "metadata": {
    "id": "7747d2b6",
    "outputId": "023e2405-9fd4-4051-d76e-d2c9cc12c331"
   },
   "outputs": [],
   "source": [
    "print(sentences)"
   ]
  },
  {
   "cell_type": "code",
   "execution_count": null,
   "id": "3033a53c",
   "metadata": {
    "id": "3033a53c",
    "outputId": "eefbc374-6c8b-4efd-85b7-20bcc8046321"
   },
   "outputs": [],
   "source": [
    "# 질문 : 각 열이 의미하는 것은?\n",
    "from sklearn.metrics.pairwise import cosine_similarity\n",
    "\n",
    "similarity = cosine_similarity(tfidf_matrix)\n",
    "print(similarity)"
   ]
  },
  {
   "cell_type": "markdown",
   "id": "30e84a0a",
   "metadata": {
    "id": "30e84a0a"
   },
   "source": [
    "# ======== 구분선 ========"
   ]
  },
  {
   "cell_type": "markdown",
   "id": "fcc14ffa",
   "metadata": {
    "id": "fcc14ffa"
   },
   "source": [
    "---"
   ]
  },
  {
   "cell_type": "markdown",
   "id": "1b5b7163",
   "metadata": {
    "id": "1b5b7163"
   },
   "source": [
    "# 1. 토크나이징"
   ]
  },
  {
   "cell_type": "code",
   "execution_count": null,
   "id": "53be4073",
   "metadata": {
    "id": "53be4073",
    "outputId": "c4dc8f8e-f7d6-444b-bd46-ccb278553a90"
   },
   "outputs": [],
   "source": [
    "# 테스트 코드\n",
    "from konlpy.tag import Kkma\n",
    "from konlpy.utils import pprint\n",
    "\n",
    "kkma = Kkma()\n",
    "pprint(kkma.sentences(u'네, 안녕하세요. 반갑습니다.'))"
   ]
  },
  {
   "cell_type": "code",
   "execution_count": null,
   "id": "e17474d7",
   "metadata": {
    "id": "e17474d7",
    "outputId": "c6ceed92-13ef-4360-ed88-9f2cace45fd2"
   },
   "outputs": [],
   "source": [
    "from konlpy.tag import Okt # Okt, Kkma\n",
    "\n",
    "okt = Okt()\n",
    "\n",
    "text = \"분명 배달이 완료되었는데 나는 받지 않았어\"\n",
    "result = okt.pos(text)\n",
    "\n",
    "for res in result:\n",
    "    print(res)"
   ]
  },
  {
   "cell_type": "code",
   "execution_count": null,
   "id": "93d9abea",
   "metadata": {
    "id": "93d9abea",
    "outputId": "3a209b24-f146-4977-bf9c-5235b470f7c3"
   },
   "outputs": [],
   "source": [
    "from konlpy.tag import Kkma # Okt, Kkma\n",
    "\n",
    "kkma = Kkma()\n",
    "\n",
    "text = \"분명 배달이 완료되었는데 나는 받지 않았어\"\n",
    "result = kkma.pos(text)\n",
    "\n",
    "for res in result:\n",
    "    print(res)"
   ]
  },
  {
   "cell_type": "code",
   "execution_count": null,
   "id": "7ac90cd1",
   "metadata": {
    "id": "7ac90cd1",
    "outputId": "8b4fb436-619a-4092-b519-9367af926ef7"
   },
   "outputs": [],
   "source": [
    "from konlpy.tag import Okt # Okt, Kkma\n",
    "\n",
    "okt = Okt()\n",
    "\n",
    "text = \"분명 배달이 완료되었는데 나는 받지 않았어\"\n",
    "result1 = okt.pos(text) # pos, morphs, nouns\n",
    "result2 = okt.morphs(text)\n",
    "result3 = okt.nouns(text)\n",
    "\n",
    "print(result1)\n",
    "print(result2)\n",
    "print(result3)"
   ]
  },
  {
   "cell_type": "code",
   "execution_count": null,
   "id": "9e5d572e",
   "metadata": {
    "id": "9e5d572e",
    "outputId": "0129eef9-b2b7-4816-ef0e-12fa4581eb6c"
   },
   "outputs": [],
   "source": [
    "text1 = \"나는 밥을 먹었엌ㅋㅋㅋ\"\n",
    "text2 = \"나는 밥을 먹었다\"\n",
    "\n",
    "result1 = okt.pos(text1)\n",
    "result2 = okt.pos(text1, norm=True)\n",
    "result3 = okt.pos(text2, stem=True)\n",
    "\n",
    "print(result1)\n",
    "print(result2)\n",
    "print(result3)"
   ]
  },
  {
   "cell_type": "markdown",
   "id": "3458119f",
   "metadata": {
    "id": "3458119f"
   },
   "source": [
    "## 1) 데이터 불러오기"
   ]
  },
  {
   "cell_type": "code",
   "execution_count": null,
   "id": "c4d6b1ec",
   "metadata": {
    "id": "c4d6b1ec",
    "outputId": "71da4b64-d048-4c8e-9ce0-20f09e68a28a"
   },
   "outputs": [],
   "source": [
    "# 데이터 불러오기\n",
    "# 미션1: 첫번째 데이터 댓글을 형태소 분석기로 쪼개보기\n",
    "# 미션2: 처음부터 5개의 데이터 댓글을 추출해서 반복문으로 형태소 분석기로 쪼개보기\n",
    "import pandas as pd\n",
    "\n",
    "data = pd.read_csv(\"data/배달의민족댓글.csv\", index_col=0)\n",
    "data.head()"
   ]
  },
  {
   "cell_type": "code",
   "execution_count": null,
   "id": "13b510ee",
   "metadata": {
    "id": "13b510ee",
    "outputId": "4b05be9d-68ac-4a39-d2ab-c9c39d97d7ac"
   },
   "outputs": [],
   "source": [
    "# 방법1. 데이터를 인덱스 3부터 끝까지 가져오기\n",
    "data1 = data.iloc[3:,:].reset_index(drop=True)\n",
    "data1.head()"
   ]
  },
  {
   "cell_type": "code",
   "execution_count": null,
   "id": "14339986",
   "metadata": {
    "id": "14339986",
    "outputId": "5be7e97e-27ec-40cd-d0a5-c1580b49083d"
   },
   "outputs": [],
   "source": [
    "# 방법2. 결측치 제거\n",
    "data2 = data.dropna().reset_index(drop=True)\n",
    "data2.head()"
   ]
  },
  {
   "cell_type": "code",
   "execution_count": null,
   "id": "316ea109",
   "metadata": {
    "id": "316ea109"
   },
   "outputs": [],
   "source": [
    "# 데이터 저장하기\n",
    "data1.to_csv(\"data/배달의민족댓글2.csv\")"
   ]
  },
  {
   "cell_type": "code",
   "execution_count": null,
   "id": "f64ca636",
   "metadata": {
    "id": "f64ca636",
    "outputId": "7d67b206-abc7-4c40-eea4-3d1d365a513e"
   },
   "outputs": [],
   "source": [
    "# 데이터 불러오기\n",
    "data = pd.read_csv(\"data/배달의민족댓글2.csv\", index_col=0)\n",
    "data"
   ]
  },
  {
   "cell_type": "code",
   "execution_count": null,
   "id": "3e64168d",
   "metadata": {
    "id": "3e64168d",
    "outputId": "00d1412c-8b4c-4626-bfce-d8f656e8c595"
   },
   "outputs": [],
   "source": [
    "# 첫번째 댓글 가져오기\n",
    "review_one = data[\"댓글\"][0]\n",
    "print(review_one)\n",
    "\n",
    "from konlpy.tag import Okt\n",
    "okt = Okt()\n",
    "\n",
    "result = okt.pos(review_one)\n",
    "print(result)"
   ]
  },
  {
   "cell_type": "code",
   "execution_count": null,
   "id": "ebe5befc",
   "metadata": {
    "id": "ebe5befc",
    "outputId": "2727c7f3-5d4f-4162-ce45-8b122b4baadc"
   },
   "outputs": [],
   "source": [
    "# 처음부터 다섯개의 댓글 가져오기\n",
    "review_five = data[\"댓글\"][:5]\n",
    "\n",
    "for i, review in enumerate(review_five.tolist()):\n",
    "    result = okt.pos(review)\n",
    "    # print(result)\n",
    "    temp_list = []\n",
    "    for word, pos in result:\n",
    "        if pos == \"Noun\":\n",
    "            temp_list.append(word)\n",
    "            # print(word, pos)\n",
    "    print(f\"{i}번째 Noun 형태소 분석기 결과:\\n\\t{temp_list}\")\n",
    "\n",
    "    # print(f\"{i}번째 형태소 분석기 결과:\\n\\t{result}\")"
   ]
  },
  {
   "cell_type": "markdown",
   "id": "3c6b2d7f",
   "metadata": {
    "id": "3c6b2d7f"
   },
   "source": [
    "## 2) 데이터 전처리"
   ]
  },
  {
   "cell_type": "code",
   "execution_count": null,
   "id": "0bc1aeed",
   "metadata": {
    "id": "0bc1aeed",
    "outputId": "bbaf734c-33eb-4567-df9c-59fd8deeba67"
   },
   "outputs": [],
   "source": [
    "text = \"오늘!!!!!!!!!!!!!!!!!! ㅇㅇ너무 ㅓㅣㅗ hello  HELLO 010-7894-5798   기분 좋아^^ ㅎㅇㅎㅇ\"\n",
    "\n",
    "import re\n",
    "new_text = re.sub(\"[^0-9a-zA-Z가-힣ㄱ-ㅎㅏ-ㅣ-\\s]\", \"\", text)\n",
    "# new_text = re.sub(\"[^0-9a-zA-Z가-힣\\s+-]\", \"\", text)\n",
    "print(new_text)"
   ]
  },
  {
   "cell_type": "code",
   "execution_count": null,
   "id": "d9604055",
   "metadata": {
    "id": "d9604055",
    "outputId": "2c0fa03a-23c0-4815-af85-cfafe9a2ff29"
   },
   "outputs": [],
   "source": [
    "# 워드 클라우드\n",
    "# 목표: 데이터의 모든 댓글에 대한 Noun 품사를 가진 단어들을 word_list에 담는 것\n",
    "# 조건1: 전처리 과정(특수문자, 자음, 모음 없애기)\n",
    "# 조건2: 불용어 제거(stopwords)\n",
    "# 조건3: 한 글자인 단어는 포함하지 않는다.\n",
    "\n",
    "word_list = []\n",
    "stopwords = [\"배민\", \"민족\"]\n",
    "\n",
    "for i, review in enumerate(data[\"댓글\"].tolist()):\n",
    "    # 조건1. 정규표현식을 이용한 전처리\n",
    "    new_review = re.sub(\"[^0-9a-zA-Z가-힣\\s]\", \"\", review)\n",
    "    # 형태소 분석기\n",
    "    result = okt.nouns(new_review)\n",
    "    for word in result:\n",
    "        # 조건2 | 조건3\n",
    "        if len(word) == 1 or word in stopwords:\n",
    "            continue\n",
    "        # word_list에 추가\n",
    "        word_list.append(word)\n",
    "    print(f\"{i}번째 리뷰: {result}\")"
   ]
  },
  {
   "cell_type": "code",
   "execution_count": null,
   "id": "c9571393",
   "metadata": {
    "id": "c9571393",
    "outputId": "3d814b85-dd5c-4b9f-e9fe-352d59865edc"
   },
   "outputs": [],
   "source": [
    "word_list"
   ]
  },
  {
   "cell_type": "code",
   "execution_count": null,
   "id": "e681c562",
   "metadata": {
    "id": "e681c562",
    "outputId": "7f390956-14fe-45ae-b5b1-dd4e6120260b"
   },
   "outputs": [],
   "source": [
    "from collections import Counter\n",
    "\n",
    "example = [\"남\", \"여\", \"여\", \"남\", \"남\", \"남\"]\n",
    "counter = Counter(example)\n",
    "print(counter)"
   ]
  },
  {
   "cell_type": "code",
   "execution_count": null,
   "id": "f18f35a0",
   "metadata": {
    "id": "f18f35a0",
    "outputId": "1348597d-865a-4099-c248-cd8ea1aea020"
   },
   "outputs": [],
   "source": [
    "counter = Counter(word_list)\n",
    "print(counter)\n",
    "print(counter.most_common(30)) # 가장 많이 발생한 것 30개"
   ]
  },
  {
   "cell_type": "markdown",
   "id": "fe7fac4b",
   "metadata": {
    "id": "fe7fac4b"
   },
   "source": [
    "## 3) 워드 클라우드"
   ]
  },
  {
   "cell_type": "code",
   "execution_count": null,
   "id": "551684d2",
   "metadata": {
    "id": "551684d2",
    "outputId": "e1fc8ad4-e04e-498a-b21e-b9cd1628897e"
   },
   "outputs": [],
   "source": [
    "# 내 시스템 폰트에서 \"gothic\"인 폰트와 그 경로 찾기\n",
    "from matplotlib import font_manager\n",
    "\n",
    "search_font = \"gothic\"\n",
    "\n",
    "for font in font_manager.findSystemFonts():\n",
    "    font_info = font_manager.FontProperties(fname=font)\n",
    "    font_name = font_info.get_name()\n",
    "    font_path = font_info.get_file()\n",
    "    if search_font in font_name.lower():\n",
    "        print(font_name, font_path )"
   ]
  },
  {
   "cell_type": "markdown",
   "id": "daf3f33f",
   "metadata": {
    "id": "daf3f33f"
   },
   "source": [
    "```\n",
    "uv add wordcloud\n",
    "```"
   ]
  },
  {
   "cell_type": "code",
   "execution_count": null,
   "id": "1f35f9c9",
   "metadata": {
    "id": "1f35f9c9"
   },
   "outputs": [],
   "source": [
    "\"Malgun Gothic\""
   ]
  },
  {
   "cell_type": "code",
   "execution_count": null,
   "id": "d51544d7",
   "metadata": {
    "id": "d51544d7",
    "outputId": "dc673772-0736-472f-cd7d-d148b745ea86"
   },
   "outputs": [],
   "source": [
    "from wordcloud import WordCloud\n",
    "import matplotlib.pyplot as plt\n",
    "import koreanize_matplotlib\n",
    "\n",
    "wc = WordCloud(\n",
    "    font_path = \"C:\\Windows\\Fonts\\H2MJRE.ttf\",\n",
    "    background_color=\"white\",\n",
    "    width=800,\n",
    "    height=400\n",
    ")\n",
    "\n",
    "wc.generate_from_frequencies(counter)\n",
    "\n",
    "plt.figure(figsize=(5,5))\n",
    "plt.imshow(wc, interpolation=\"bilinear\")\n",
    "plt.axis(\"off\")\n",
    "plt.title(\"배달의 민족 워드 클라우드(명사)\", fontsize=20)\n",
    "plt.show()"
   ]
  },
  {
   "cell_type": "code",
   "execution_count": null,
   "id": "6768daf4",
   "metadata": {
    "id": "6768daf4",
    "outputId": "cce9644d-bcd4-482a-e09d-6bafe1e4f0e0"
   },
   "outputs": [],
   "source": [
    "from wordcloud import WordCloud\n",
    "import matplotlib.pyplot as plt\n",
    "import koreanize_matplotlib\n",
    "\n",
    "from PIL import Image\n",
    "import numpy as np\n",
    "\n",
    "image = Image.open(\"Images/image.png\")\n",
    "mask_img = np.array(image)\n",
    "\n",
    "wc = WordCloud(\n",
    "    # font_path = \"C:\\Windows\\Fonts\\NanumBarunpenR.ttf\",\n",
    "    font_path = \"Fonts/NanumBarunpenR.ttf\",\n",
    "    mask=mask_img,\n",
    "    background_color=\"white\",\n",
    "    colormap=\"coolwarm\",\n",
    "    width=800,\n",
    "    height=400\n",
    ")\n",
    "\n",
    "wc.generate_from_frequencies(counter)\n",
    "\n",
    "plt.figure(figsize=(5,5))\n",
    "plt.imshow(wc, interpolation=\"bilinear\")\n",
    "plt.axis(\"off\")\n",
    "plt.title(\"배달의 민족 워드 클라우드(명사)\", fontsize=20)\n",
    "plt.show()"
   ]
  },
  {
   "cell_type": "markdown",
   "id": "435618f4",
   "metadata": {
    "id": "435618f4"
   },
   "source": [
    "## 4) 미션"
   ]
  },
  {
   "cell_type": "code",
   "execution_count": null,
   "id": "7e771da7",
   "metadata": {
    "id": "7e771da7"
   },
   "outputs": [],
   "source": [
    "# 배달의민족 댓글 \"동사\"에 대한 워드 클라우드\n",
    "# norm, stem 옵션 이용\n",
    "# 명사에서 진행한 정규표현식, 1글자는 제외 조건은 동일\n",
    "# gpt이용해서 새로운 마스크 만들어보고 적용해보기"
   ]
  },
  {
   "cell_type": "code",
   "execution_count": null,
   "id": "85688ad3",
   "metadata": {
    "id": "85688ad3",
    "outputId": "af99fa6c-4985-4cd3-f49f-023824cc1e7e"
   },
   "outputs": [],
   "source": [
    "# 워드 클라우드\n",
    "# 목표: 데이터의 모든 댓글에 대한 Noun 품사를 가진 단어들을 word_list에 담는 것\n",
    "# 조건1: 전처리 과정(특수문자, 자음, 모음 없애기)\n",
    "# 조건2: 불용어 제거(stopwords)\n",
    "# 조건3: 한 글자인 단어는 포함하지 않는다.\n",
    "\n",
    "verb_list = []\n",
    "\n",
    "for i, review in enumerate(data[\"댓글\"].tolist()):\n",
    "    # 조건1. 정규표현식을 이용한 전처리\n",
    "    new_review = re.sub(\"[^0-9a-zA-Z가-힣\\s]\", \"\", review)\n",
    "    # 형태소 분석기\n",
    "    result = okt.pos(new_review, stem=True, norm=True)\n",
    "    for word, pos in result:\n",
    "        # 조건2 & 조건3\n",
    "        if len(word) > 1 and pos == \"Verb\":\n",
    "            verb_list.append(word)\n",
    "    print(f\"{i}번째 리뷰: {result}\")"
   ]
  },
  {
   "cell_type": "code",
   "execution_count": null,
   "id": "b7551aa9",
   "metadata": {
    "id": "b7551aa9",
    "outputId": "a6ea1790-5a14-4710-a361-ceb46d5883a4"
   },
   "outputs": [],
   "source": [
    "counter2 = Counter(verb_list)\n",
    "print(counter2)\n",
    "print(counter2.most_common(30)) # 가장 많이 발생한 것 30개"
   ]
  },
  {
   "cell_type": "code",
   "execution_count": null,
   "id": "cfdc0529",
   "metadata": {
    "id": "cfdc0529",
    "outputId": "7d3b4f42-6ad2-48da-ca38-91c5de612ec3"
   },
   "outputs": [],
   "source": [
    "from wordcloud import WordCloud\n",
    "import matplotlib.pyplot as plt\n",
    "import koreanize_matplotlib\n",
    "\n",
    "from PIL import Image\n",
    "import numpy as np\n",
    "\n",
    "image = Image.open(\"Images/image.png\")\n",
    "mask_img = np.array(image)\n",
    "\n",
    "wc = WordCloud(\n",
    "    # font_path = \"C:\\Windows\\Fonts\\malgunsl.ttf\",\n",
    "    font_path = \"Fonts/NanumBarunpenR.ttf\",\n",
    "    mask=mask_img,\n",
    "    background_color=\"white\",\n",
    "    colormap=\"coolwarm\",\n",
    "    width=800,\n",
    "    height=400\n",
    ")\n",
    "\n",
    "wc.generate_from_frequencies(counter2)\n",
    "\n",
    "plt.figure(figsize=(5,5))\n",
    "plt.imshow(wc, interpolation=\"bilinear\")\n",
    "plt.axis(\"off\")\n",
    "plt.title(\"배달의 민족 워드 클라우드(동사)\", fontsize=20)\n",
    "plt.show()"
   ]
  },
  {
   "cell_type": "markdown",
   "id": "87f7d766",
   "metadata": {
    "id": "87f7d766"
   },
   "source": [
    "## 5) 검색"
   ]
  },
  {
   "cell_type": "code",
   "execution_count": null,
   "id": "c10a38ad",
   "metadata": {
    "id": "c10a38ad",
    "outputId": "b965a6e4-74b3-4a44-ead4-d64cb3309211"
   },
   "outputs": [],
   "source": [
    "# 명사들을 추출한 워드클라우드를 생성했다면, 그 명사가 포함된 문장을 어떻게 검색할 수 있을까?\n",
    "# \"취소\" 단어가 있는 문장들만 검색\n",
    "keyword = \"취소\"\n",
    "\n",
    "extract_data = data.loc[data[\"댓글\"].str.contains(keyword),:]\n",
    "extract_data.head()"
   ]
  },
  {
   "cell_type": "code",
   "execution_count": null,
   "id": "e049f7c0",
   "metadata": {
    "id": "e049f7c0",
    "outputId": "faa8820e-15bd-43aa-a82d-f2ac33c5dd42"
   },
   "outputs": [],
   "source": [
    "for review in extract_data[\"댓글\"]:\n",
    "    print(review)\n",
    "    print(\"=\"*100)"
   ]
  },
  {
   "cell_type": "markdown",
   "id": "b0daa1dd",
   "metadata": {
    "id": "b0daa1dd"
   },
   "source": [
    "## + Kiwi 형태소 분석기 체험"
   ]
  },
  {
   "cell_type": "code",
   "execution_count": null,
   "id": "675b5239",
   "metadata": {
    "id": "675b5239",
    "outputId": "2c237ae0-5a96-461a-cbec-7034e365107a"
   },
   "outputs": [],
   "source": [
    "from kiwipiepy import Kiwi\n",
    "\n",
    "kiwi = Kiwi()\n",
    "\n",
    "text = \"분명 배달이 완료되었는데 나는 받지 않았어\"\n",
    "\n",
    "for res, score in kiwi.analyze(text, top_n=5):\n",
    "    print(score, result, sep=\"\\t\")"
   ]
  },
  {
   "cell_type": "code",
   "execution_count": null,
   "id": "0a272df0",
   "metadata": {
    "id": "0a272df0",
    "outputId": "ad5179c0-f79e-4d5c-b1bf-dfc42df695f2"
   },
   "outputs": [],
   "source": [
    "text = \"분명 배달이 완료되었는데 나는 받지 않았어\"\n",
    "\n",
    "kiwi = Kiwi()\n",
    "result = kiwi.tokenize(text)\n",
    "print(result)"
   ]
  },
  {
   "cell_type": "code",
   "execution_count": null,
   "id": "37a3b316",
   "metadata": {
    "id": "37a3b316",
    "outputId": "6c55cc35-5ef2-4e80-8258-ca95abdcef78"
   },
   "outputs": [],
   "source": [
    "# 명사만 추출\n",
    "for res in result:\n",
    "    if res.tag[0] == \"N\":\n",
    "        print(res.form, res.tag)"
   ]
  },
  {
   "cell_type": "markdown",
   "id": "d9c8c792",
   "metadata": {
    "id": "d9c8c792"
   },
   "source": [
    "# 2. 장바구니 분석"
   ]
  },
  {
   "cell_type": "code",
   "execution_count": null,
   "id": "d74f9699",
   "metadata": {
    "id": "d74f9699",
    "outputId": "5f414fcc-be0f-48e9-f594-3f21451635c0"
   },
   "outputs": [],
   "source": [
    "data = pd.read_csv(\"data/배달의민족댓글2.csv\", index_col=0)\n",
    "data.head()"
   ]
  },
  {
   "cell_type": "code",
   "execution_count": null,
   "id": "d3f35ed5",
   "metadata": {
    "id": "d3f35ed5"
   },
   "outputs": [],
   "source": [
    "# 워드 클라우드\n",
    "# 목표: 데이터의 모든 댓글에 대한 Noun 품사를 가진 단어들을 word_list에 담는 것\n",
    "# 조건1: 전처리 과정(특수문자, 자음, 모음 없애기)\n",
    "# 조건2: 불용어 제거(stopwords)\n",
    "# 조건3: 한 글자인 단어는 포함하지 않는다.\n",
    "\n",
    "word_list = []\n",
    "stopwords = [\"배민\", \"민족\"]\n",
    "\n",
    "for i, review in enumerate(data[\"댓글\"].tolist()):\n",
    "    # 조건1. 정규표현식을 이용한 전처리\n",
    "    new_review = re.sub(\"[^0-9a-zA-Z가-힣\\s]\", \"\", review)\n",
    "    # 형태소 분석기\n",
    "    result = okt.nouns(new_review)\n",
    "    for word in result:\n",
    "        # 조건2 | 조건3\n",
    "        if len(word) == 1 or word in stopwords:\n",
    "            continue\n",
    "        # word_list에 추가\n",
    "        word_list.append(word)\n",
    "    print(f\"{i}번째 리뷰: {result}\")"
   ]
  },
  {
   "cell_type": "code",
   "execution_count": null,
   "id": "101bc4a3",
   "metadata": {
    "id": "101bc4a3"
   },
   "outputs": [],
   "source": [
    "from konlpy.tag import Okt\n",
    "okt = Okt()"
   ]
  },
  {
   "cell_type": "code",
   "execution_count": null,
   "id": "64fcdcb0",
   "metadata": {
    "id": "64fcdcb0",
    "outputId": "34d7d1d9-6195-4ca1-90af-f07f8d65b553"
   },
   "outputs": [],
   "source": [
    "# 빈 리스트 만들기 main_list\n",
    "# 댓글을 반복문으로 하나씩 추출\n",
    "# 전처리 과정 그대로\n",
    "# 댓글 형태소 분석\n",
    "# 빈 리스트 만들기 sub_list\n",
    "# 반복문으로 형태소 명사 단어들 담기\n",
    "# sub_list에 명사 단어들 담기\n",
    "# main_list에 sub_list 담기\n",
    "main_list = []\n",
    "\n",
    "for i, review in enumerate(data[\"댓글\"].tolist()):\n",
    "    # 조건 1. 정규표현식을 이용한 전처리\n",
    "    new_review = re.sub(\"[^0-9a-zA-Z가-힣\\s]\", \"\", review)\n",
    "    # 형태소 분석기에 넣기\n",
    "    result = okt.pos(new_review)\n",
    "    sub_list = []\n",
    "    for word, pos in result:\n",
    "        if pos == \"Noun\" and len(word) > 1:\n",
    "            sub_list.append(word)\n",
    "    main_list.append(sub_list)\n",
    "\n",
    "    print(f\"{i}번째 리뷰: {result}\")"
   ]
  },
  {
   "cell_type": "code",
   "execution_count": null,
   "id": "eef95de8",
   "metadata": {
    "id": "eef95de8",
    "outputId": "c2dace6c-19f9-4406-b6eb-05eef4782be7"
   },
   "outputs": [],
   "source": [
    "for temp in main_list:\n",
    "    print(temp)"
   ]
  },
  {
   "cell_type": "code",
   "execution_count": null,
   "id": "c02b8c43",
   "metadata": {
    "id": "c02b8c43"
   },
   "outputs": [],
   "source": [
    "# main_list는 [[리뷰1에 대한 명사 단어들], [리뷰2에 대한 명사 단어들], .....] 형식으로 저장되어야 한다."
   ]
  },
  {
   "cell_type": "markdown",
   "id": "88d6dbc3",
   "metadata": {
    "id": "88d6dbc3"
   },
   "source": [
    "```\n",
    "uv add mlxtend\n",
    "```"
   ]
  },
  {
   "cell_type": "code",
   "execution_count": null,
   "id": "a259057e",
   "metadata": {
    "id": "a259057e",
    "outputId": "4c6b2482-9810-4d34-e6be-415ae49f15bd"
   },
   "outputs": [],
   "source": [
    "import pandas as pd\n",
    "from mlxtend.preprocessing import TransactionEncoder\n",
    "from mlxtend.frequent_patterns import apriori, association_rules\n",
    "\n",
    "te = TransactionEncoder()\n",
    "te_arr = te.fit(main_list).transform(main_list)\n",
    "df = pd.DataFrame(te_arr, columns=te.columns_)\n",
    "\n",
    "df\n"
   ]
  },
  {
   "cell_type": "code",
   "execution_count": null,
   "id": "f4af742d",
   "metadata": {
    "id": "f4af742d",
    "outputId": "2a3af43b-0da6-47b2-eb23-3e21a90f41c3"
   },
   "outputs": [],
   "source": [
    "frequent_itemsets = apriori(df, min_support=0.2, use_colnames=True)\n",
    "print(frequent_itemsets)"
   ]
  },
  {
   "cell_type": "code",
   "execution_count": null,
   "id": "c74eb57f",
   "metadata": {
    "id": "c74eb57f",
    "outputId": "041bfa66-021d-4799-ebd8-cbe2cb2419e6"
   },
   "outputs": [],
   "source": [
    "rules = association_rules(frequent_itemsets, metric=\"support\", min_threshold=1.0)\n",
    "print(rules)"
   ]
  },
  {
   "cell_type": "markdown",
   "id": "2eb34727",
   "metadata": {
    "id": "2eb34727"
   },
   "source": [
    "## + 간단 예제로 보기"
   ]
  },
  {
   "cell_type": "code",
   "execution_count": null,
   "id": "d9aded92",
   "metadata": {
    "id": "d9aded92"
   },
   "outputs": [],
   "source": [
    "main_list = [\n",
    "    [\"밥\", \"국\", \"김치\"],\n",
    "    [\"밥\", \"국\"],\n",
    "    [\"밥\", \"김치\"],\n",
    "    [\"라면\", \"김치\"],\n",
    "    [\"밥\", \"반찬\"],\n",
    "    [\"국\", \"김치\"]\n",
    "]"
   ]
  },
  {
   "cell_type": "markdown",
   "id": "-l81OxxE8sjW",
   "metadata": {
    "id": "-l81OxxE8sjW"
   },
   "source": []
  },
  {
   "cell_type": "code",
   "execution_count": null,
   "id": "e91948ae",
   "metadata": {
    "id": "e91948ae",
    "outputId": "0adf0baa-220b-4587-a340-194f1b5a274c"
   },
   "outputs": [],
   "source": [
    "import pandas as pd\n",
    "from mlxtend.preprocessing import TransactionEncoder\n",
    "from mlxtend.frequent_patterns import apriori, association_rules\n",
    "\n",
    "te = TransactionEncoder()\n",
    "te_arr = te.fit(main_list).transform(main_list)\n",
    "df = pd.DataFrame(te_arr, columns=te.columns_)\n",
    "df"
   ]
  },
  {
   "cell_type": "code",
   "execution_count": null,
   "id": "e9a34b45",
   "metadata": {
    "id": "e9a34b45",
    "outputId": "4488c3cb-1dd3-4f07-afc4-3da1d0097028"
   },
   "outputs": [],
   "source": [
    "frequent_itemsets = apriori(df, min_support=0.3, use_colnames=True)\n",
    "frequent_itemsets"
   ]
  },
  {
   "cell_type": "code",
   "execution_count": null,
   "id": "7727961e",
   "metadata": {
    "id": "7727961e",
    "outputId": "d1ae0d79-7e1a-4c69-b74c-52b01395906c"
   },
   "outputs": [],
   "source": [
    "rules = association_rules(frequent_itemsets, metric=\"lift\", min_threshold=1.0)\n",
    "rules"
   ]
  },
  {
   "cell_type": "code",
   "execution_count": null,
   "id": "d5074050",
   "metadata": {
    "id": "d5074050"
   },
   "outputs": [],
   "source": []
  }
 ],
 "metadata": {
  "colab": {
   "provenance": []
  },
  "kernelspec": {
   "display_name": "testproject (3.11.13)",
   "language": "python",
   "name": "python3"
  },
  "language_info": {
   "codemirror_mode": {
    "name": "ipython",
    "version": 3
   },
   "file_extension": ".py",
   "mimetype": "text/x-python",
   "name": "python",
   "nbconvert_exporter": "python",
   "pygments_lexer": "ipython3",
   "version": "3.11.13"
  }
 },
 "nbformat": 4,
 "nbformat_minor": 5
}
