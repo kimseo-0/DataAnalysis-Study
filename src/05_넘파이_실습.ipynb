{
 "cells": [
  {
   "cell_type": "markdown",
   "id": "ad932eb0",
   "metadata": {},
   "source": [
    "# Numpy"
   ]
  },
  {
   "cell_type": "code",
   "execution_count": 2,
   "id": "219d66b7",
   "metadata": {},
   "outputs": [
    {
     "name": "stdout",
     "output_type": "stream",
     "text": [
      "[1, 2, 3, 4, 5]\n"
     ]
    }
   ],
   "source": [
    "mylist = [1, 2, 3, 4, 5]\n",
    "print(mylist)"
   ]
  },
  {
   "cell_type": "code",
   "execution_count": 3,
   "id": "3c2bc5a5",
   "metadata": {},
   "outputs": [
    {
     "name": "stdout",
     "output_type": "stream",
     "text": [
      "[1, 2, 3, 4, 5, 1, 2, 3, 4, 5]\n"
     ]
    }
   ],
   "source": [
    "print(mylist * 2)"
   ]
  },
  {
   "cell_type": "code",
   "execution_count": null,
   "id": "c1afb02b",
   "metadata": {},
   "outputs": [],
   "source": [
    "from PIL import Image\n",
    "from IPython.display import display\n",
    "\n",
    "image = Image.open(\"Images/QR.jpg\") # BGR\n",
    "display(image)"
   ]
  },
  {
   "cell_type": "code",
   "execution_count": null,
   "id": "5ff0acdb",
   "metadata": {},
   "outputs": [],
   "source": [
    "import numpy as np\n",
    "image_arr = np.array(image)\n",
    "image_arr"
   ]
  },
  {
   "cell_type": "code",
   "execution_count": 22,
   "id": "8ffb0da3",
   "metadata": {},
   "outputs": [
    {
     "name": "stdout",
     "output_type": "stream",
     "text": [
      "(2992, 2992, 3)\n",
      "3\n"
     ]
    }
   ],
   "source": [
    "print(image_arr.shape)\n",
    "print(image_arr.ndim)"
   ]
  },
  {
   "cell_type": "code",
   "execution_count": null,
   "id": "dfb5d6e3",
   "metadata": {},
   "outputs": [],
   "source": [
    "image_arr2 = 255 - image_arr\n",
    "# print(image_arr)\n",
    "\n",
    "image2 = Image.fromarray(image_arr2)\n",
    "\n",
    "display(image2)"
   ]
  }
 ],
 "metadata": {
  "kernelspec": {
   "display_name": "pyton_exercises",
   "language": "python",
   "name": "python3"
  },
  "language_info": {
   "codemirror_mode": {
    "name": "ipython",
    "version": 3
   },
   "file_extension": ".py",
   "mimetype": "text/x-python",
   "name": "python",
   "nbconvert_exporter": "python",
   "pygments_lexer": "ipython3",
   "version": "3.13.5"
  }
 },
 "nbformat": 4,
 "nbformat_minor": 5
}
