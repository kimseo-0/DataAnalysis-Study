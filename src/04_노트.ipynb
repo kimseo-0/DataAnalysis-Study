{
 "cells": [
  {
   "cell_type": "code",
   "execution_count": 5,
   "metadata": {},
   "outputs": [
    {
     "name": "stdout",
     "output_type": "stream",
     "text": [
      "5 -1 0 1000000000000\n"
     ]
    }
   ],
   "source": [
    "# 정수\n",
    "x = 5\n",
    "y = -1\n",
    "z = 0\n",
    "money = 1_000_000_000_000\n",
    "\n",
    "print(x, y, z, money)"
   ]
  },
  {
   "cell_type": "code",
   "execution_count": 7,
   "metadata": {},
   "outputs": [
    {
     "name": "stdout",
     "output_type": "stream",
     "text": [
      "10000000000.0 3e-05\n"
     ]
    }
   ],
   "source": [
    "x = 1e+10\n",
    "y = 3e-5\n",
    "\n",
    "print(x, y)"
   ]
  },
  {
   "cell_type": "markdown",
   "metadata": {
    "id": "xRKpBRBKfpWU"
   },
   "source": [
    "반복할 횟수 구하기: 100개의 게시물을 한 페이지에 30개씩 보여주려면 총 몇 페이지가 필요할까요?"
   ]
  },
  {
   "cell_type": "code",
   "execution_count": null,
   "metadata": {
    "id": "tYff6S7DfpWV"
   },
   "outputs": [
    {
     "name": "stdout",
     "output_type": "stream",
     "text": [
      "3 10\n"
     ]
    }
   ],
   "source": [
    "# 100 나누기 30 = 몫 3 나머지 10\n",
    "# 나머지 10도 페이지로 표현할 수 있다. \n",
    "# 나머지가 있는 경우에는 몫에 1을 더해야 한다.\n",
    "\n",
    "posts = 100\n",
    "posts_per_page = 30 \n",
    "\n",
    "pages = posts // posts_per_page \n",
    "remainder = posts % posts_per_page\n",
    "print(pages, remainder)\n",
    "\n",
    "import math;\n",
    "print(math.ceil(100.0 / 30))\n",
    "\n",
    "pages = posts // posts_per_page + 0 if 100 % 30 == 0 else 1\n",
    "print(pages)"
   ]
  },
  {
   "cell_type": "markdown",
   "metadata": {
    "id": "6zj1iSwefpWV"
   },
   "source": [
    "출생년도가 1982일 때 홀수, 짝수 판단하기"
   ]
  },
  {
   "cell_type": "code",
   "execution_count": 15,
   "metadata": {
    "id": "A0Hb8prSfpWV"
   },
   "outputs": [
    {
     "name": "stdout",
     "output_type": "stream",
     "text": [
      "0\n"
     ]
    }
   ],
   "source": [
    "# 코드로 짝수/홀수 판단하는 방법: 나머지가 1이면 홀수, 0이면 짝수\n",
    "# 나머지 연산자: %\n",
    "\n",
    "birth = 1982\n",
    "\n",
    "result = birth % 2\n",
    "print(result)"
   ]
  },
  {
   "cell_type": "markdown",
   "metadata": {},
   "source": [
    "<img src='https://www.dropbox.com/scl/fi/ixvhz1b0jwtqgz2dp3v9g/_.png?rlkey=2bj00kc0ozcfyh3jiyjd7598z&st=rsppaheg&dl=1' width=70%>"
   ]
  },
  {
   "cell_type": "markdown",
   "metadata": {
    "id": "pdb-uQGQfpWW"
   },
   "source": [
    "문제. 주민등번호 뒷자리에서 성별을 제외하고 *로 표시해주세요."
   ]
  },
  {
   "cell_type": "code",
   "execution_count": 50,
   "metadata": {
    "id": "d5Tm04Y7fpWW"
   },
   "outputs": [
    {
     "name": "stdout",
     "output_type": "stream",
     "text": [
      "901212-1\n",
      "******\n",
      "901212-1******\n"
     ]
    }
   ],
   "source": [
    "regist_num = \"901212-1325221\"\n",
    "\n",
    "# 1. 성별까지 문자열을 추출한다.\n",
    "# 2. 뒤의 6자리를 *로 표현한다. \n",
    "# 1과 2를 합친다.\n",
    "\n",
    "left = regist_num[:8]\n",
    "print(left)\n",
    "right = \"*\" * 6\n",
    "print(right)\n",
    "\n",
    "result = left + right\n",
    "print(result)"
   ]
  },
  {
   "cell_type": "markdown",
   "metadata": {
    "id": "gATEkKPQfpWW"
   },
   "source": [
    "### (4) 문자열 포매팅(f-string)"
   ]
  },
  {
   "cell_type": "code",
   "execution_count": 53,
   "metadata": {
    "id": "NYRqG_0QfpWW"
   },
   "outputs": [
    {
     "name": "stdout",
     "output_type": "stream",
     "text": [
      "홍길동야님 환영합니다.\n"
     ]
    }
   ],
   "source": [
    "name = \"홍길동야\"\n",
    "\n",
    "print(f\"{name}님 환영합니다.\")"
   ]
  },
  {
   "cell_type": "markdown",
   "metadata": {
    "id": "JeI53FmcfpWW"
   },
   "source": [
    "### (5) 관련 메서드"
   ]
  },
  {
   "cell_type": "markdown",
   "metadata": {
    "id": "WcpA-035fpWW"
   },
   "source": [
    "#### 대/소문자 변환(lower, upper)"
   ]
  },
  {
   "cell_type": "code",
   "execution_count": 64,
   "metadata": {
    "id": "BtobhPadfpWW"
   },
   "outputs": [
    {
     "name": "stdout",
     "output_type": "stream",
     "text": [
      "mmffmfmf\n",
      "MMFFMFMF\n"
     ]
    }
   ],
   "source": [
    "gender = \"mmffMFmf\"\n",
    "print(gender.lower())\n",
    "print(gender.upper())"
   ]
  },
  {
   "cell_type": "markdown",
   "metadata": {
    "id": "9_t2Lzt6fpWW"
   },
   "source": [
    "#### 공백 제거(lstrip/rstrip/strip)"
   ]
  },
  {
   "cell_type": "code",
   "execution_count": 66,
   "metadata": {
    "id": "NSZRjfk2fpWW"
   },
   "outputs": [
    {
     "name": "stdout",
     "output_type": "stream",
     "text": [
      "    홍길동    \n",
      "|    홍길동    |\n",
      "|홍길동|\n",
      "|홍길동    |\n",
      "|    홍길동|\n"
     ]
    }
   ],
   "source": [
    "name = \"    홍길동    \" \n",
    "\n",
    "print(name)\n",
    "print(f\"|{name}|\")\n",
    "print(f\"|{name.strip()}|\")\n",
    "print(f\"|{name.lstrip()}|\")\n",
    "print(f\"|{name.rstrip()}|\")"
   ]
  },
  {
   "cell_type": "markdown",
   "metadata": {
    "id": "MDmVNNmlfpWX"
   },
   "source": [
    "#### 카운트 세기(count)"
   ]
  },
  {
   "cell_type": "code",
   "execution_count": 68,
   "metadata": {
    "id": "4OabxfPpfpWX"
   },
   "outputs": [
    {
     "name": "stdout",
     "output_type": "stream",
     "text": [
      "3\n",
      "4\n"
     ]
    }
   ],
   "source": [
    "gender1 = \"mmffMFmf\"\n",
    "gender2 = gender.lower()\n",
    "print(gender1.count(\"m\"))\n",
    "print(gender2.count(\"m\"))"
   ]
  },
  {
   "cell_type": "code",
   "execution_count": 14,
   "metadata": {
    "id": "TTVODq-pfpWc"
   },
   "outputs": [
    {
     "name": "stdout",
     "output_type": "stream",
     "text": [
      "[0, 1, 2, 3, 4, 5, 6, 7, 8, 9]\n",
      "[10, 10, 10, 4, 5, 6, 7, 8, 9]\n",
      "[10, 10, 10, 5, 6, 7, 8, 9]\n"
     ]
    }
   ],
   "source": [
    "num_list = list(range(10))\n",
    "print(num_list)\n",
    "\n",
    "# num_list[2:] = [\"하하하\"] * 7\n",
    "# print(num_list)\n",
    "\n",
    "num_list[:4] = [10] * 3\n",
    "print(num_list)\n",
    "\n",
    "num_list.remove(4)\n",
    "print(num_list)"
   ]
  },
  {
   "cell_type": "markdown",
   "metadata": {
    "id": "s2HGu7VwfpWc"
   },
   "source": [
    "예제. 날씨 데이터\n",
    "* 'city'키 'Busan'으로 수정하기\n",
    "* 미세먼지(`pm10`)키 추가하기 (값: 34)\n",
    "* 'forecast' 키에 ['Rainy', 'Rainy'] 추가하기\n",
    "\n",
    "```\n",
    "weather_data = {\n",
    "    'city': 'Seoul',\n",
    "    'temperature': 22.5,  # 섭씨\n",
    "    'humidity': 60,       # 상대 습도(%)\n",
    "    'forecast': ['Sunny', 'Cloudy', 'Rainy']  # 3일 예보\n",
    "}\n",
    "```"
   ]
  },
  {
   "cell_type": "code",
   "execution_count": 17,
   "metadata": {
    "id": "w3-dH_uTfpWc"
   },
   "outputs": [
    {
     "name": "stdout",
     "output_type": "stream",
     "text": [
      "{'city': 'Busan', 'temperature': 22.5, 'humidity': 60, 'forecast': ['Sunny', 'Cloudy', 'Rainy', 'Rainy', 'Rainy'], 'pm10': 34}\n"
     ]
    }
   ],
   "source": [
    "weather_data = {\n",
    "    'city': 'Seoul',\n",
    "    'temperature': 22.5,  # 섭씨\n",
    "    'humidity': 60,       # 상대 습도(%)\n",
    "    'forecast': ['Sunny', 'Cloudy', 'Rainy']  # 3일 예보\n",
    "}\n",
    "\n",
    "weather_data['city'] = 'Busan'\n",
    "weather_data['pm10'] = 34\n",
    "weather_data['forecast'].extend(['Rainy', 'Rainy'])\n",
    "\n",
    "print(weather_data)"
   ]
  },
  {
   "cell_type": "code",
   "execution_count": null,
   "metadata": {},
   "outputs": [
    {
     "name": "stdout",
     "output_type": "stream",
     "text": [
      "{'노트북': 1200000, '모니터': 290000}\n",
      "{'노트북': 1200000, '모니터': 290000}\n",
      "{'노트북': 1200000, '모니터': 290000}\n",
      "[0, 0, 0, 3, 4, 5, 6, 7, 8, 9]\n",
      "[3, 4, 5, 6, 7, 8, 9]\n"
     ]
    }
   ],
   "source": [
    "# 15만원 이상인 상품들만 딕셔너리로 만들고 싶어요\n",
    "wishlist = {\"노트북\": 1200000, \"마우스\": 33000, \"키보드\": 110000, \"모니터\": 290000}\n",
    "\n",
    "new = {}\n",
    "for key, value in wishlist.items():\n",
    "    if value > 150000:\n",
    "        new[key] = value\n",
    "\n",
    "print(new)\n",
    "\n",
    "print(dict(filter(lambda item: item[1] > 150000, wishlist.items())))\n",
    "\n",
    "print({key: value for key, value in wishlist.items() if value >= 150000})\n",
    "\n",
    "print([x if x > 2 else 0 for x in range(10)])\n",
    "print([x for x in range(10) if x > 2])"
   ]
  },
  {
   "cell_type": "code",
   "execution_count": 11,
   "metadata": {},
   "outputs": [
    {
     "name": "stdout",
     "output_type": "stream",
     "text": [
      "A 1\n",
      "B 2\n",
      "C 3\n"
     ]
    }
   ],
   "source": [
    "a = [\"A\", \"B\", \"C\"]\n",
    "b = [1, 2, 3]\n",
    "\n",
    "for i, j in zip(a,b):\n",
    "    print(i, j)"
   ]
  },
  {
   "cell_type": "code",
   "execution_count": null,
   "metadata": {},
   "outputs": [
    {
     "name": "stdout",
     "output_type": "stream",
     "text": [
      "c:\\Potenup\\pyton_exercises\n"
     ]
    }
   ],
   "source": [
    "import os\n",
    "\n",
    "print(os.getcwd())"
   ]
  },
  {
   "cell_type": "code",
   "execution_count": 19,
   "metadata": {},
   "outputs": [],
   "source": [
    "os.mkdir(\"data\")"
   ]
  },
  {
   "cell_type": "code",
   "execution_count": null,
   "metadata": {},
   "outputs": [
    {
     "name": "stdout",
     "output_type": "stream",
     "text": [
      "hello\n",
      "\n"
     ]
    }
   ],
   "source": [
    "with open(\"data/mytext.txt\", mode=\"w\", encoding=\"utf-8\") as f:\n",
    "    f.write(\"hello\\n\")\n",
    "\n",
    "with open(\"data/mytext.txt\", mode=\"r\", encoding=\"utf-8\") as f:\n",
    "    message = f.read()\n",
    "print(message)\n",
    "\n",
    "with open(\"data/mytext.txt\", mode=\"a\", encoding=\"utf-8\") as f:\n",
    "    f.write(\"hihi\")"
   ]
  },
  {
   "cell_type": "code",
   "execution_count": 47,
   "metadata": {},
   "outputs": [],
   "source": [
    "reviews = [\"안녕안녕\", \"내이름은\", \"김서영\"]\n",
    "\n",
    "with open(\"data/mytext.txt\", \"w\", encoding=\"utf-8\") as f:\n",
    "    for review in reviews:\n",
    "        f.write(review + \"\\n\")"
   ]
  },
  {
   "cell_type": "code",
   "execution_count": null,
   "metadata": {},
   "outputs": [
    {
     "name": "stdout",
     "output_type": "stream",
     "text": [
      "123\n"
     ]
    }
   ],
   "source": [
    "if True:\n",
    "    a = 123\n",
    "print(a)"
   ]
  },
  {
   "cell_type": "code",
   "execution_count": 50,
   "metadata": {},
   "outputs": [
    {
     "name": "stdout",
     "output_type": "stream",
     "text": [
      "잘못된 입력입니다.\n",
      "ZeroDivisionError\n",
      "division by zero\n"
     ]
    }
   ],
   "source": [
    "def devied(x, y):\n",
    "    return x / y\n",
    "    \n",
    "try:\n",
    "    devied(5, 0)\n",
    "except:\n",
    "    pass\n",
    "\n",
    "try:\n",
    "    devied(5, 0)\n",
    "except:\n",
    "    print(\"잘못된 입력입니다.\")\n",
    "\n",
    "try:\n",
    "    devied(5, 0)\n",
    "except Exception as e:\n",
    "    print(type(e).__name__)\n",
    "    print(e)\n"
   ]
  }
 ],
 "metadata": {
  "colab": {
   "provenance": []
  },
  "kernelspec": {
   "display_name": "pyton_exercises",
   "language": "python",
   "name": "python3"
  },
  "language_info": {
   "codemirror_mode": {
    "name": "ipython",
    "version": 3
   },
   "file_extension": ".py",
   "mimetype": "text/x-python",
   "name": "python",
   "nbconvert_exporter": "python",
   "pygments_lexer": "ipython3",
   "version": "3.13.5"
  }
 },
 "nbformat": 4,
 "nbformat_minor": 0
}
