{
 "cells": [
  {
   "cell_type": "markdown",
   "metadata": {},
   "source": [
    "# 제어문"
   ]
  },
  {
   "cell_type": "markdown",
   "metadata": {},
   "source": [
    "# 1. 조건문"
   ]
  },
  {
   "cell_type": "code",
   "execution_count": 2,
   "metadata": {},
   "outputs": [],
   "source": [
    "# 미성년자 판단하기(만 19세이상)\n",
    "# 1. 나이를 age라는 변수로 만들고 age가 19 미만이면 \"미성년자입니다\"라고 출력해주세요.\n",
    "age = 20\n",
    "\n",
    "## if age < 19\n",
    "##    \"미성년자입니다\"를 출력해라\n",
    "\n",
    "if age < 19:\n",
    "    print(\"미성년자입니다.\")"
   ]
  },
  {
   "cell_type": "code",
   "execution_count": 4,
   "metadata": {},
   "outputs": [
    {
     "name": "stdout",
     "output_type": "stream",
     "text": [
      "미성년자입니다.\n"
     ]
    }
   ],
   "source": [
    "# 2. 나이를 age라는 변수로 만들고 age가 19 미만이면 \"미성년자입니다\"라고 출력하고, 이상이면 \"성인입니다\"라고 출력해주세요.\n",
    "age = 10\n",
    "\n",
    "## if age < 19:\n",
    "##    \"미성년자입니다\"를 출력하고\n",
    "## else:\n",
    "##    \"성인입니다\"를 출력해라.\n",
    "\n",
    "if age < 19:\n",
    "    print(\"미성년자입니다.\")\n",
    "else:\n",
    "    print(\"성인입니다.\")"
   ]
  },
  {
   "cell_type": "code",
   "execution_count": 6,
   "metadata": {},
   "outputs": [
    {
     "name": "stdout",
     "output_type": "stream",
     "text": [
      "노력하세요\n"
     ]
    }
   ],
   "source": [
    "# 등급에 따라 메시지 출력하기\n",
    "# A-Perfect, B-Excellent, C-Good, 그 외 노력하세요라고 출력해주세요\n",
    "grade = \"F\"\n",
    "\n",
    "# 만약에 grade가 A이면 Perfect라고 출력하고\n",
    "# 그렇지 않다면 만약에 grade가 B이면 Excellent라고 출력하고\n",
    "# 그렇지 않다면 만약에 grade가 C이면 Good이라고 출력하고\n",
    "# 그렇지 않다면 노력하세요라고 출력해라\n",
    "\n",
    "if grade == \"A\":\n",
    "    print(\"Perfect\")\n",
    "elif grade == \"B\":\n",
    "    print(\"Excellent\")\n",
    "elif grade == \"C\":\n",
    "    print(\"Good\")\n",
    "else:\n",
    "    print(\"노력하세요\")\n"
   ]
  },
  {
   "cell_type": "markdown",
   "metadata": {},
   "source": [
    "## 1) 연산자"
   ]
  },
  {
   "cell_type": "code",
   "execution_count": null,
   "metadata": {},
   "outputs": [],
   "source": [
    "# 조건식만 적어보기 "
   ]
  },
  {
   "cell_type": "markdown",
   "metadata": {},
   "source": [
    "문제. 나이가 10세 이상이고, 키가 120cm 이상일 때만 놀이기구 탑승\n",
    "\n",
    "* 탑승 가능하면 \"통과\" 아니면 \"탑승 불가\"라고 출력하기"
   ]
  },
  {
   "cell_type": "code",
   "execution_count": 7,
   "metadata": {},
   "outputs": [
    {
     "name": "stdout",
     "output_type": "stream",
     "text": [
      "탑승 불가\n"
     ]
    }
   ],
   "source": [
    "age = 14\n",
    "height = 119\n",
    "\n",
    "# 조건1: 나이 >= 10\n",
    "# 조건2: 키 >= 120\n",
    "# 조건식: 조건1 그리고 조건2 -> 나이 >= 10 and 키 >= 120\n",
    "\n",
    "if age >= 10 and height >= 120:\n",
    "    print(\"통과\")\n",
    "else:\n",
    "    print(\"탑승 불가\")"
   ]
  },
  {
   "cell_type": "markdown",
   "metadata": {},
   "source": [
    "문제. 10만원 이상 구매하거나 \"Gold\" 등급이면 \"10% 할인\" 출력\n",
    "\n",
    "* 할인이 가능하면 \"10% 할인 가능\" 아니면 \"10% 할인 불가\" 출력"
   ]
  },
  {
   "cell_type": "code",
   "execution_count": 8,
   "metadata": {},
   "outputs": [
    {
     "name": "stdout",
     "output_type": "stream",
     "text": [
      "10% 할인\n"
     ]
    }
   ],
   "source": [
    "price = 80000\n",
    "level = \"Gold\"\n",
    "\n",
    "# 조건1: price >= 100000\n",
    "# 조건2: level == \"Gold\"\n",
    "# 조건식: 조건1 or 조건2\n",
    "\n",
    "if price >= 100000 or level == \"Gold\":\n",
    "    print(\"10% 할인\")\n",
    "else:\n",
    "    print(\"10% 할인 불가\")"
   ]
  },
  {
   "cell_type": "markdown",
   "metadata": {},
   "source": [
    "## 2) 활용"
   ]
  },
  {
   "cell_type": "code",
   "execution_count": null,
   "metadata": {},
   "outputs": [
    {
     "name": "stdout",
     "output_type": "stream",
     "text": [
      "벌금 대상자\n",
      "카드 납부\n"
     ]
    }
   ],
   "source": [
    "# 지갑 안에 운전면허증(license)이 있다면 통과이고 없으면 벌금이다. \n",
    "# 만약 벌금을 납부하게 되면 지갑에 카드(credit card)가 있으면 카드 결제이고 아니면 현금 납부이다. \n",
    "\n",
    "# 벌금을 납부하게 된다면 \"벌금 대상자\"을 출력하고 아니면 \"통과\"를 출력한다\n",
    "# 그리고 벌금을 납부하게 된다면 \"카드납부\" 아니면 \"현금납부\"를 출력한다.\n",
    "# 이 사람은 어떻게 해야 하는가?\n",
    "wallet = [\"credit card\", \"trash\"]\n",
    "\n",
    "## 예시 답안\n",
    "if \"license\" in wallet:\n",
    "    print(\"통과\")\n",
    "else:\n",
    "    print(\"벌금 대상자\")\n",
    "    if \"credit card\" in wallet:\n",
    "        print(\"카드 납부\")\n",
    "    else:\n",
    "        print(\"현금 납부\")"
   ]
  },
  {
   "cell_type": "markdown",
   "metadata": {},
   "source": [
    "## 4) 예제"
   ]
  },
  {
   "cell_type": "markdown",
   "metadata": {},
   "source": [
    "문제 1. 온도가 15도에서 25도 사이인지 확인하는 예시:"
   ]
  },
  {
   "cell_type": "code",
   "execution_count": 1,
   "metadata": {},
   "outputs": [
    {
     "name": "stdout",
     "output_type": "stream",
     "text": [
      "온도가 15와 25 사이에 없습니다.\n"
     ]
    }
   ],
   "source": [
    "temperature = 50\n",
    "\n",
    "# 15 < temperature < 25\n",
    "# temperature > 15 그리고 temperature < 25 (and)\n",
    "\n",
    "if temperature > 15 and temperature < 25:\n",
    "    print(\"온도가 15와 25 사이에 있습니다.\")\n",
    "else:\n",
    "    print(\"온도가 15와 25 사이에 없습니다.\")\n"
   ]
  },
  {
   "cell_type": "markdown",
   "metadata": {},
   "source": [
    "문제 2. 학생의 성적에 따른 장학금 여부 결정\n",
    "\n",
    "* GPA가 4.0 이상이면 100% 장학금을 받습니다.\n",
    "* GPA가 3.5 이상이면 50% 장학금을 받습니다.\n",
    "* GPA가 3.0 이상이면 30% 장학금을 받습니다.\n",
    "* 그 외에는 장학금을 받을 수 없습니다."
   ]
  },
  {
   "cell_type": "code",
   "execution_count": 3,
   "metadata": {},
   "outputs": [
    {
     "name": "stdout",
     "output_type": "stream",
     "text": [
      "장학금을 받을 수 없습니다.\n"
     ]
    }
   ],
   "source": [
    "# if - elif - else\n",
    "gpa = 1.0\n",
    "\n",
    "if gpa >= 4.0:\n",
    "    print(\"100% 장학금입니다.\")\n",
    "elif gpa >= 3.5:\n",
    "    print(\"50% 장학금입니다.\")\n",
    "elif gpa >= 3.0:\n",
    "    print(\"30% 장학금입니다.\")\n",
    "else:\n",
    "    print(\"장학금을 받을 수 없습니다.\")"
   ]
  },
  {
   "cell_type": "markdown",
   "metadata": {},
   "source": [
    "문제 3. 특정 단어가 문장에서 없는지 확인\n",
    "\n",
    "* search_word가 text에 포함되지 않으면 해당 단어가 문장에 없다는 메시지를 출력합니다."
   ]
  },
  {
   "cell_type": "code",
   "execution_count": 6,
   "metadata": {},
   "outputs": [
    {
     "name": "stdout",
     "output_type": "stream",
     "text": [
      "문장에 포함되어 있지 않습니다\n",
      "포함 안됨\n"
     ]
    }
   ],
   "source": [
    "text = \"데이터 분석은 흥미롭고 중요한 분야입니다.\"\n",
    "search_word = \"AI\"\n",
    "\n",
    "# 조건식 search_word in text\n",
    "if search_word in text:\n",
    "    print(\"문장에 포함되어 있습니다.\")\n",
    "else:\n",
    "    print(\"문장에 포함되어 있지 않습니다\")\n",
    "\n",
    "if search_word not in text:\n",
    "    print(\"포함 안됨\")\n",
    "else:\n",
    "    print(\"포함됨\")"
   ]
  },
  {
   "cell_type": "markdown",
   "metadata": {},
   "source": [
    "# 2. 반복문"
   ]
  },
  {
   "cell_type": "markdown",
   "metadata": {},
   "source": [
    "## 1) While 문"
   ]
  },
  {
   "cell_type": "markdown",
   "metadata": {},
   "source": [
    "<img src='https://www.dropbox.com/scl/fi/r0815e20gb2hv6a599i00/_-while.png?rlkey=dexzbwy3xu4phnzvo65cb6hbq&st=ykavuhx3&dl=1' width=30%>"
   ]
  },
  {
   "cell_type": "markdown",
   "metadata": {},
   "source": [
    "### (1) 표현"
   ]
  },
  {
   "cell_type": "code",
   "execution_count": 7,
   "metadata": {},
   "outputs": [
    {
     "name": "stdout",
     "output_type": "stream",
     "text": [
      "0\n",
      "1\n",
      "2\n"
     ]
    }
   ],
   "source": [
    "count = 0\n",
    "while count < 3:\n",
    "    print(count)\n",
    "    count += 1"
   ]
  },
  {
   "cell_type": "code",
   "execution_count": null,
   "metadata": {},
   "outputs": [],
   "source": [
    "# 작동 흐름\n",
    "# count = 0 -> 조건식 count < 3 True -> print(0) -> count = 1\n",
    "# count = 1 -> 조건식 count < 3 True -> print(1) -> count = 2\n",
    "# count = 2 -> 조건식 count < 3 True -> print(2) -> count = 3\n",
    "# count = 3 -> 조건식 count < 3 False"
   ]
  },
  {
   "cell_type": "markdown",
   "metadata": {},
   "source": [
    "### (2) break"
   ]
  },
  {
   "cell_type": "code",
   "execution_count": 12,
   "metadata": {},
   "outputs": [
    {
     "name": "stdout",
     "output_type": "stream",
     "text": [
      "1\n",
      "2\n",
      "3\n",
      "4\n"
     ]
    }
   ],
   "source": [
    "count = 0\n",
    "while True:\n",
    "    count += 1\n",
    "    print(count)\n",
    "\n",
    "    if count > 3:\n",
    "        break"
   ]
  },
  {
   "cell_type": "code",
   "execution_count": 13,
   "metadata": {},
   "outputs": [
    {
     "name": "stdout",
     "output_type": "stream",
     "text": [
      "1\n",
      "2\n",
      "3\n"
     ]
    }
   ],
   "source": [
    "count = 0\n",
    "while True:\n",
    "    count += 1\n",
    "\n",
    "    if count > 3:\n",
    "        break\n",
    "\n",
    "    print(count)"
   ]
  },
  {
   "cell_type": "markdown",
   "metadata": {},
   "source": [
    "### (2) continue"
   ]
  },
  {
   "cell_type": "code",
   "execution_count": 15,
   "metadata": {},
   "outputs": [
    {
     "name": "stdout",
     "output_type": "stream",
     "text": [
      "2\n"
     ]
    }
   ],
   "source": [
    "count = 0\n",
    "while count < 3:\n",
    "    count += 1\n",
    "\n",
    "    if count % 2 != 0:\n",
    "        continue\n",
    "\n",
    "    print(count)"
   ]
  },
  {
   "cell_type": "code",
   "execution_count": null,
   "metadata": {},
   "outputs": [],
   "source": [
    "# 작동 흐름\n",
    "# count = 0 -> 반복조건식 count < 3 True -> count = 1 -> 조건식 홀수이냐 True\n",
    "# count = 1 -> 반복조건식 count < 3 True -> count = 2 -> 조건식 홀수이냐 False -> print(2)\n",
    "# count = 2 -> 반복조건식 count < 3 Ture -> count = 3 -> 조건식 홀수이냐 True\n",
    "# count = 3 -> 반복조건식 count < 3 False"
   ]
  },
  {
   "cell_type": "markdown",
   "metadata": {},
   "source": [
    "## 2) For 문"
   ]
  },
  {
   "cell_type": "markdown",
   "metadata": {},
   "source": [
    "<img src='https://www.dropbox.com/scl/fi/eezsh68wobwm87rhh7209/_-for.png?rlkey=w1mhrm40cg413ajdajix0bb9m&st=ptyurj6a&dl=1' width='30%'>"
   ]
  },
  {
   "cell_type": "markdown",
   "metadata": {},
   "source": [
    "### (1) 표현"
   ]
  },
  {
   "cell_type": "code",
   "execution_count": 16,
   "metadata": {},
   "outputs": [
    {
     "name": "stdout",
     "output_type": "stream",
     "text": [
      "1\n",
      "2\n",
      "3\n"
     ]
    }
   ],
   "source": [
    "num_list = [1, 2, 3]\n",
    "for num in num_list:\n",
    "    print(num)"
   ]
  },
  {
   "cell_type": "markdown",
   "metadata": {},
   "source": [
    "### (2) 관련 주요 함수"
   ]
  },
  {
   "cell_type": "code",
   "execution_count": 18,
   "metadata": {},
   "outputs": [
    {
     "name": "stdout",
     "output_type": "stream",
     "text": [
      "[1, 2, 3, 4, 5]\n",
      "1\n",
      "2\n",
      "3\n",
      "4\n",
      "5\n"
     ]
    }
   ],
   "source": [
    "# range(n): 0부터 n-1까지 1씩 증가하는 연속적인 범위를 생성해줌\n",
    "# range()를 이용해서 다음 출력이 나오도록 코딩해주세요\n",
    "# 출력 결과\n",
    "# 1\n",
    "# 2\n",
    "# 3\n",
    "# 4\n",
    "# 5 \n",
    "\n",
    "# 1. range를 이용해서 [1, 2, 3, 4, 5]를 만들어보기\n",
    "# 2. 반복문 만들기\n",
    "num_list = list(range(1, 6))\n",
    "print(num_list)\n",
    "\n",
    "for num in num_list:\n",
    "    print(num)"
   ]
  },
  {
   "cell_type": "code",
   "execution_count": 19,
   "metadata": {},
   "outputs": [
    {
     "name": "stdout",
     "output_type": "stream",
     "text": [
      "1\n",
      "2\n",
      "3\n",
      "4\n",
      "5\n"
     ]
    }
   ],
   "source": [
    "for num in range(1, 6):\n",
    "    print(num)"
   ]
  },
  {
   "cell_type": "code",
   "execution_count": 21,
   "metadata": {},
   "outputs": [
    {
     "name": "stdout",
     "output_type": "stream",
     "text": [
      "1\n",
      "2\n",
      "3\n",
      "4\n",
      "5\n"
     ]
    }
   ],
   "source": [
    "for num in range(5):\n",
    "    print(num+1)"
   ]
  },
  {
   "cell_type": "code",
   "execution_count": 23,
   "metadata": {},
   "outputs": [
    {
     "name": "stdout",
     "output_type": "stream",
     "text": [
      "홍길동\n",
      "김철수\n",
      "한유리\n",
      "정성우\n"
     ]
    }
   ],
   "source": [
    "students = [\"홍길동\", \"김철수\", \"한유리\", \"정성우\"]\n",
    "\n",
    "for student in students:\n",
    "    print(student)"
   ]
  },
  {
   "cell_type": "code",
   "execution_count": 27,
   "metadata": {},
   "outputs": [
    {
     "name": "stdout",
     "output_type": "stream",
     "text": [
      "0 홍길동\n",
      "1 김철수\n",
      "2 한유리\n",
      "3 정성우\n"
     ]
    }
   ],
   "source": [
    "# 위치 이름\n",
    "count = len(students)\n",
    "# print(count)\n",
    "\n",
    "for i in range(count):\n",
    "    print(i, students[i])"
   ]
  },
  {
   "cell_type": "code",
   "execution_count": 30,
   "metadata": {},
   "outputs": [
    {
     "name": "stdout",
     "output_type": "stream",
     "text": [
      "0 홍길동\n",
      "1 김철수\n",
      "2 한유리\n",
      "3 정성우\n"
     ]
    }
   ],
   "source": [
    "for i, student in enumerate(students):\n",
    "    print(i, student)"
   ]
  },
  {
   "cell_type": "code",
   "execution_count": null,
   "metadata": {},
   "outputs": [
    {
     "name": "stdout",
     "output_type": "stream",
     "text": [
      "홍길동 68점\n",
      "최수연 44점\n",
      "김철수 90점\n"
     ]
    }
   ],
   "source": [
    "# 미션\n",
    "score_data = {\"홍길동\": 68, \"최수연\": 44, \"김철수\": 90}\n",
    "\n",
    "## 출력 결과\n",
    "# for name in score_data.keys():\n",
    "#     print(name)\n",
    "\n",
    "# for name in score_data:\n",
    "#     print(name)\n",
    "\n",
    "## 출력 결과\n",
    "# 68\n",
    "# 44\n",
    "# 90\n",
    "# for name in score_data.values():\n",
    "#     print(name)\n",
    "\n",
    "# ## 출력 결과\n",
    "# 홍길동 68점\n",
    "# 최수연 44점\n",
    "# 김철수 90점\n",
    "for name, score in score_data.items():\n",
    "    # print(name, score, \"점\")\n",
    "    print(f\"{name} {score}점\")"
   ]
  },
  {
   "cell_type": "code",
   "execution_count": 39,
   "metadata": {},
   "outputs": [
    {
     "name": "stdout",
     "output_type": "stream",
     "text": [
      "홍길동 68\n",
      "최수연 44\n",
      "김철수 90\n"
     ]
    }
   ],
   "source": [
    "names = [\"홍길동\", \"최수연\", \"김철수\"]\n",
    "scores = [68, 44, 90]\n",
    "\n",
    "# ## 출력 결과\n",
    "# 홍길동 68점\n",
    "# 최수연 44점\n",
    "# 김철수 90점\n",
    "for name, score in zip(names, scores):\n",
    "    print(name, score)"
   ]
  },
  {
   "cell_type": "markdown",
   "metadata": {},
   "source": [
    "### (3) break/continue"
   ]
  },
  {
   "cell_type": "markdown",
   "metadata": {},
   "source": [
    "#### break"
   ]
  },
  {
   "cell_type": "code",
   "execution_count": 41,
   "metadata": {},
   "outputs": [
    {
     "name": "stdout",
     "output_type": "stream",
     "text": [
      "1\n",
      "2\n",
      "3\n",
      "4\n",
      "5\n",
      "6\n"
     ]
    }
   ],
   "source": [
    "# 1부터 10까지 숫자를 하나씩 출력 만약 7이 나오면 반복문 중지\n",
    "for i in range(1, 11):\n",
    "    if i == 7:\n",
    "        break\n",
    "    print(i)"
   ]
  },
  {
   "cell_type": "code",
   "execution_count": 42,
   "metadata": {},
   "outputs": [
    {
     "name": "stdout",
     "output_type": "stream",
     "text": [
      "1\n",
      "2\n",
      "3\n",
      "4\n",
      "5\n",
      "6\n",
      "7\n"
     ]
    }
   ],
   "source": [
    "for i in range(1, 11):\n",
    "    print(i)\n",
    "    if i == 7:\n",
    "        break"
   ]
  },
  {
   "cell_type": "markdown",
   "metadata": {},
   "source": [
    "#### continue"
   ]
  },
  {
   "cell_type": "code",
   "execution_count": 45,
   "metadata": {},
   "outputs": [
    {
     "name": "stdout",
     "output_type": "stream",
     "text": [
      "1\n",
      "2\n",
      "3\n",
      "4\n",
      "건너뛰기\n",
      "6\n",
      "7\n",
      "8\n",
      "9\n",
      "10\n"
     ]
    }
   ],
   "source": [
    "# 1부터 10까지 숫자 중에서 5만 빼고 출력하기\n",
    "for i in range(1, 11):\n",
    "    if i == 5:\n",
    "        print(\"건너뛰기\")\n",
    "        continue\n",
    "    print(i)"
   ]
  },
  {
   "cell_type": "markdown",
   "metadata": {},
   "source": [
    "## 3) 예제"
   ]
  },
  {
   "cell_type": "markdown",
   "metadata": {},
   "source": [
    "예제1. 학생 성적 딕셔너리\n",
    "\n",
    "반복문을 사용해서 \"홍길동님의 성적은 85점입니다\" 형태로 출력하세요.\n",
    "\n",
    "```\n",
    "grades = {\n",
    "    \"John\": 85,\n",
    "    \"Emily\": 92,\n",
    "    \"Tom\": 78,\n",
    "    \"Lucy\": 88\n",
    "}\n",
    "```"
   ]
  },
  {
   "cell_type": "markdown",
   "metadata": {},
   "source": [
    "예제2. 센서 온도 데이터\n",
    "\n",
    "30도 이상인 데이터만 출력하세요\n",
    "\n",
    "```\n",
    "temperature_data = [22.5, 35.2, 28.4, 40.1, 25.3]\n",
    "```"
   ]
  },
  {
   "cell_type": "markdown",
   "metadata": {},
   "source": [
    "예제 3. 고객 주문 데이터\n",
    "\n",
    "반복문을 사용해서 총 매출을 계산하세요.\n",
    "\n",
    "```\n",
    "orders = [\n",
    "    {\"customer\": \"Kim\", \"amount\": 120000},\n",
    "    {\"customer\": \"Lee\", \"amount\": 85000},\n",
    "    {\"customer\": \"Park\", \"amount\": 99000},\n",
    "]\n",
    "```"
   ]
  },
  {
   "cell_type": "markdown",
   "metadata": {},
   "source": [
    "예제 4. 리뷰 데이터\n",
    "\n",
    "짜장면이 언급된 데이터만 출력하세요\n",
    "\n",
    "```\n",
    "reviews = [\n",
    "    \"맛있어요! 짜장면 최고예요!\",\n",
    "    \"배달이 느렸지만 짬뽕은 맛있었어요.\",\n",
    "    \"탕수육은 별로였지만 전체적으로 만족!\",\n",
    "    \"짜장면이 너무 짰어요.\",\n",
    "]\n",
    "```"
   ]
  },
  {
   "cell_type": "markdown",
   "metadata": {},
   "source": [
    "## 4) List Comprehension"
   ]
  },
  {
   "cell_type": "code",
   "execution_count": 48,
   "metadata": {},
   "outputs": [
    {
     "name": "stdout",
     "output_type": "stream",
     "text": [
      "1\n",
      "2\n",
      "3\n",
      "4\n",
      "5\n",
      "6\n",
      "7\n",
      "8\n",
      "9\n",
      "10\n",
      "[1, 2, 3, 4, 5, 6, 7, 8, 9, 10]\n"
     ]
    }
   ],
   "source": [
    "num_list = []\n",
    "for i in range(1, 11):\n",
    "    print(i)\n",
    "    num_list.append(i)\n",
    "\n",
    "print(num_list)"
   ]
  },
  {
   "cell_type": "code",
   "execution_count": null,
   "metadata": {},
   "outputs": [
    {
     "name": "stdout",
     "output_type": "stream",
     "text": [
      "[1, 2, 3, 4, 5, 6, 7, 8, 9, 10]\n"
     ]
    }
   ],
   "source": [
    "# 1~10까지의 숫자 리스트를 만들고 싶다.\n",
    "num_list = [i for i in range(1, 11)]\n",
    "print(num_list)"
   ]
  },
  {
   "cell_type": "code",
   "execution_count": 51,
   "metadata": {},
   "outputs": [
    {
     "name": "stdout",
     "output_type": "stream",
     "text": [
      "[1, 4, 9, 16, 25, 36, 49, 64, 81, 100]\n"
     ]
    }
   ],
   "source": [
    "# 1~10까지의 숫자의 제곱을 리스트를 만들고 싶다.\n",
    "num_list = [i**2 for i in range(1, 11)]\n",
    "print(num_list)"
   ]
  },
  {
   "cell_type": "code",
   "execution_count": 53,
   "metadata": {},
   "outputs": [
    {
     "name": "stdout",
     "output_type": "stream",
     "text": [
      "[2, 4, 6, 8, 10]\n"
     ]
    }
   ],
   "source": [
    "# 1~10까지의 짝수 리스트를 만들고 싶다.\n",
    "# i % 2 == 0\n",
    "num_list = [i for i in range(1, 11) if i % 2 == 0]\n",
    "print(num_list)"
   ]
  },
  {
   "cell_type": "code",
   "execution_count": 56,
   "metadata": {},
   "outputs": [
    {
     "name": "stdout",
     "output_type": "stream",
     "text": [
      "['홀수', '짝수', '홀수', '짝수', '홀수', '짝수', '홀수', '짝수', '홀수', '짝수']\n"
     ]
    }
   ],
   "source": [
    "# 1~10까지 짝수는 \"짝수\", 홀수는 \"홀수\"라고 써진 리스트를 만들고 싶다.\n",
    "num_list = [\"짝수\" if i % 2 == 0 else \"홀수\" for i in range(1, 11)]\n",
    "print(num_list)"
   ]
  }
 ],
 "metadata": {
  "kernelspec": {
   "display_name": "potenup",
   "language": "python",
   "name": "python3"
  },
  "language_info": {
   "codemirror_mode": {
    "name": "ipython",
    "version": 3
   },
   "file_extension": ".py",
   "mimetype": "text/x-python",
   "name": "python",
   "nbconvert_exporter": "python",
   "pygments_lexer": "ipython3",
   "version": "3.9.21"
  }
 },
 "nbformat": 4,
 "nbformat_minor": 2
}
