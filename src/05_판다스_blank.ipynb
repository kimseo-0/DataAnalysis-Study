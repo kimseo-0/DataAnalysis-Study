{
 "cells": [
  {
   "cell_type": "markdown",
   "metadata": {},
   "source": [
    "# 판다스(Pandas)"
   ]
  },
  {
   "cell_type": "markdown",
   "metadata": {},
   "source": [
    "`uv add pandas`"
   ]
  },
  {
   "cell_type": "code",
   "execution_count": 2,
   "metadata": {},
   "outputs": [],
   "source": [
    "import pandas as pd"
   ]
  },
  {
   "cell_type": "markdown",
   "metadata": {},
   "source": [
    "# 1. 시리즈(Series)"
   ]
  },
  {
   "cell_type": "markdown",
   "metadata": {},
   "source": [
    "## 1) 생성 및 조회"
   ]
  },
  {
   "cell_type": "markdown",
   "metadata": {},
   "source": [
    "<table>\n",
    "    <thead>\n",
    "        <tr>\n",
    "            <th>이름</th><th>나이</th><th>키</th>\n",
    "        </tr>\n",
    "    </thead>\n",
    "    <tbody>\n",
    "        <tr><td>김영철</td><td>24</td><td>179.4</td></tr>\n",
    "        <tr><td>송윤지</td><td>31</td><td>161.0</td></tr>\n",
    "        <tr><td>임수현</td><td>26</td><td>174</td></tr>\n",
    "    </tbody>\n",
    "</table>"
   ]
  },
  {
   "cell_type": "markdown",
   "metadata": {},
   "source": [
    "### (1) 데이터만 생성"
   ]
  },
  {
   "cell_type": "code",
   "execution_count": 3,
   "metadata": {},
   "outputs": [
    {
     "name": "stdout",
     "output_type": "stream",
     "text": [
      "0    김영철\n",
      "1    송윤지\n",
      "2    임수형\n",
      "dtype: object\n",
      "0    24\n",
      "1    31\n",
      "2    26\n",
      "dtype: int64\n",
      "0    179.4\n",
      "1    161.0\n",
      "2    174.0\n",
      "dtype: float64\n"
     ]
    }
   ],
   "source": [
    "name_data = pd.Series(data = [\"김영철\", \"송윤지\", \"임수형\"])\n",
    "age_data = pd.Series(data = [24, 31, 26])\n",
    "height_data = pd.Series(data = [179.4, 161.0, 174])\n",
    "print(name_data)\n",
    "print(age_data)\n",
    "print(height_data)"
   ]
  },
  {
   "cell_type": "markdown",
   "metadata": {},
   "source": [
    "### (2) 인덱스와 함께 생성"
   ]
  },
  {
   "cell_type": "code",
   "execution_count": 4,
   "metadata": {},
   "outputs": [
    {
     "name": "stdout",
     "output_type": "stream",
     "text": [
      "김영철    24\n",
      "송윤지    31\n",
      "임수형    26\n",
      "dtype: int64\n"
     ]
    }
   ],
   "source": [
    "age_data = pd.Series(\n",
    "    data=[24, 31, 26],\n",
    "    index=[\"김영철\", \"송윤지\", \"임수형\"]\n",
    ")\n",
    "print(age_data)"
   ]
  },
  {
   "cell_type": "code",
   "execution_count": 5,
   "metadata": {},
   "outputs": [
    {
     "data": {
      "text/plain": [
       "Index(['김영철', '송윤지', '임수형'], dtype='object')"
      ]
     },
     "execution_count": 5,
     "metadata": {},
     "output_type": "execute_result"
    }
   ],
   "source": [
    "age_data.index"
   ]
  },
  {
   "cell_type": "code",
   "execution_count": 6,
   "metadata": {},
   "outputs": [
    {
     "name": "stdout",
     "output_type": "stream",
     "text": [
      "[24 31 26]\n",
      "<class 'numpy.ndarray'>\n"
     ]
    }
   ],
   "source": [
    "print(age_data.values)\n",
    "print(type(age_data.values))"
   ]
  },
  {
   "cell_type": "markdown",
   "metadata": {},
   "source": [
    "## 2) 연산"
   ]
  },
  {
   "cell_type": "code",
   "execution_count": 7,
   "metadata": {},
   "outputs": [
    {
     "name": "stdout",
     "output_type": "stream",
     "text": [
      "0       10\n",
      "1      400\n",
      "2    27000\n",
      "dtype: int64\n"
     ]
    }
   ],
   "source": [
    "data1 = pd.Series(data=[10, 20, 30])\n",
    "data2 = pd.Series(data=[1, 2, 3])\n",
    "\n",
    "data3 = data1 ** data2\n",
    "print(data3)"
   ]
  },
  {
   "cell_type": "markdown",
   "metadata": {},
   "source": [
    "## 3) 결측치"
   ]
  },
  {
   "cell_type": "code",
   "execution_count": 8,
   "metadata": {},
   "outputs": [
    {
     "name": "stdout",
     "output_type": "stream",
     "text": [
      "0    11.0\n",
      "1    22.0\n",
      "2    33.0\n",
      "3     NaN\n",
      "dtype: float64\n"
     ]
    }
   ],
   "source": [
    "import pandas as pd\n",
    "import numpy as np\n",
    "\n",
    "data1 = pd.Series([10, 20, 30])\n",
    "data2 = pd.Series([1, 2, 3, 4])\n",
    "print(data1 + data2)"
   ]
  },
  {
   "cell_type": "markdown",
   "metadata": {},
   "source": [
    "### (1) 결측치 발생"
   ]
  },
  {
   "cell_type": "markdown",
   "metadata": {},
   "source": [
    "예제\n",
    "* 데이터가 10, 20, 30인 시리즈 생성, 인덱스는 부산, 울산, 대구으로 설정\n",
    "* 데이터가 1, 2, 3, 4인 시리즈 생성, 인덱스는 광주, 부산, 울산, 대구으로 설정\n",
    "* 데이터의 덧셈"
   ]
  },
  {
   "cell_type": "code",
   "execution_count": 9,
   "metadata": {},
   "outputs": [
    {
     "name": "stdout",
     "output_type": "stream",
     "text": [
      "광주     NaN\n",
      "대구    34.0\n",
      "부산    12.0\n",
      "울산    23.0\n",
      "dtype: float64\n"
     ]
    }
   ],
   "source": [
    "data1 = pd.Series([10, 20, 30], index = [\"부산\", \"울산\", \"대구\"])\n",
    "data2 = pd.Series([1, 2, 3, 4], index = [\"광주\", \"부산\", \"울산\", \"대구\"])\n",
    "data3 = data1 + data2\n",
    "print(data3)\n",
    "# 인덱스 기준으로 연산이 된다.\n",
    "# =교집합에 포함되지 않는 인덱스는 결측치(NaN) 이 된다."
   ]
  },
  {
   "cell_type": "markdown",
   "metadata": {},
   "source": [
    "### (2) 결측치 파악"
   ]
  },
  {
   "cell_type": "code",
   "execution_count": 10,
   "metadata": {},
   "outputs": [
    {
     "name": "stdout",
     "output_type": "stream",
     "text": [
      "<class 'pandas.core.series.Series'>\n",
      "Index: 4 entries, 광주 to 울산\n",
      "Series name: None\n",
      "Non-Null Count  Dtype  \n",
      "--------------  -----  \n",
      "3 non-null      float64\n",
      "dtypes: float64(1)\n",
      "memory usage: 64.0+ bytes\n"
     ]
    }
   ],
   "source": [
    "data3.info()\n",
    "\n",
    "# Index: 4 entries\n",
    "# Non-Null Count : 3 non-null \n",
    "# 결측치가 한개 있음을 알 수 있다."
   ]
  },
  {
   "cell_type": "code",
   "execution_count": 11,
   "metadata": {},
   "outputs": [
    {
     "data": {
      "text/plain": [
       "광주     True\n",
       "대구    False\n",
       "부산    False\n",
       "울산    False\n",
       "dtype: bool"
      ]
     },
     "execution_count": 11,
     "metadata": {},
     "output_type": "execute_result"
    }
   ],
   "source": [
    "data3.isna()"
   ]
  },
  {
   "cell_type": "code",
   "execution_count": 12,
   "metadata": {},
   "outputs": [
    {
     "data": {
      "text/plain": [
       "np.int64(1)"
      ]
     },
     "execution_count": 12,
     "metadata": {},
     "output_type": "execute_result"
    }
   ],
   "source": [
    "# 결측치 갯수 구하기\n",
    "# True : 1, False : 0 로 연산된다\n",
    "data3.isna().sum()"
   ]
  },
  {
   "cell_type": "markdown",
   "metadata": {},
   "source": [
    "### (3) 결측치 채우기"
   ]
  },
  {
   "cell_type": "code",
   "execution_count": 13,
   "metadata": {},
   "outputs": [
    {
     "data": {
      "text/plain": [
       "광주     0.0\n",
       "대구    34.0\n",
       "부산    12.0\n",
       "울산    23.0\n",
       "dtype: float64"
      ]
     },
     "execution_count": 13,
     "metadata": {},
     "output_type": "execute_result"
    }
   ],
   "source": [
    "# 원본데이터를 변경하지 않으므로, 덮어쓰기가 필요하다\n",
    "data4 = data3.fillna(0)\n",
    "data4"
   ]
  },
  {
   "cell_type": "markdown",
   "metadata": {},
   "source": [
    "### (4) 결측치 삭제"
   ]
  },
  {
   "cell_type": "code",
   "execution_count": 14,
   "metadata": {},
   "outputs": [
    {
     "data": {
      "text/plain": [
       "대구    34.0\n",
       "부산    12.0\n",
       "울산    23.0\n",
       "dtype: float64"
      ]
     },
     "execution_count": 14,
     "metadata": {},
     "output_type": "execute_result"
    }
   ],
   "source": [
    "data4 = data3.dropna()\n",
    "data4"
   ]
  },
  {
   "cell_type": "code",
   "execution_count": 15,
   "metadata": {},
   "outputs": [
    {
     "data": {
      "text/plain": [
       "대구    34.0\n",
       "부산    12.0\n",
       "울산    23.0\n",
       "dtype: float64"
      ]
     },
     "execution_count": 15,
     "metadata": {},
     "output_type": "execute_result"
    }
   ],
   "source": [
    "# 일관성 있는 코드 작성을 하는게 좋다\n",
    "# 메모리 관점에서 inplace 를 사용하는게 좋을 듯\n",
    "data3.dropna(inplace=True)\n",
    "data3"
   ]
  },
  {
   "cell_type": "markdown",
   "metadata": {},
   "source": [
    "## 4) 통계"
   ]
  },
  {
   "cell_type": "code",
   "execution_count": 16,
   "metadata": {},
   "outputs": [
    {
     "name": "stdout",
     "output_type": "stream",
     "text": [
      "23.0\n",
      "12.0\n",
      "121.0\n",
      "11.0\n",
      "34.0\n"
     ]
    }
   ],
   "source": [
    "print(data3.mean()) # 최소\n",
    "print(data3.min())  # 평균\n",
    "print(data3.var())  # 분산\n",
    "print(data3.std())  # 표준편차\n",
    "print(data3.max())  # 최대"
   ]
  },
  {
   "cell_type": "code",
   "execution_count": 17,
   "metadata": {},
   "outputs": [
    {
     "data": {
      "text/plain": [
       "count     3.0\n",
       "mean     23.0\n",
       "std      11.0\n",
       "min      12.0\n",
       "25%      17.5\n",
       "50%      23.0\n",
       "75%      28.5\n",
       "max      34.0\n",
       "dtype: float64"
      ]
     },
     "execution_count": 17,
     "metadata": {},
     "output_type": "execute_result"
    }
   ],
   "source": [
    "data3.describe()"
   ]
  },
  {
   "cell_type": "markdown",
   "metadata": {},
   "source": [
    "예제. 문자 데이터\n",
    "\n",
    "```\n",
    "['HR', 'Engineering', 'HR', 'Engineering', 'HR', 'Marketing', 'Engineering', 'Marketing', 'HR']\n",
    "```"
   ]
  },
  {
   "cell_type": "code",
   "execution_count": 18,
   "metadata": {},
   "outputs": [
    {
     "data": {
      "text/plain": [
       "count      9\n",
       "unique     3\n",
       "top       HR\n",
       "freq       4\n",
       "dtype: object"
      ]
     },
     "execution_count": 18,
     "metadata": {},
     "output_type": "execute_result"
    }
   ],
   "source": [
    "wordData = ['HR', 'Engineering', 'HR', 'Engineering', 'HR', 'Marketing', 'Engineering', 'Marketing', 'HR']\n",
    "data = pd.Series(wordData)\n",
    "data.describe()\n",
    "\n",
    "# top : the most common value, 가장 많이 등장한 데이터\n",
    "# freq : the most common value’s frequency, 가장 많이 등장한 데이터의 빈도수"
   ]
  },
  {
   "cell_type": "code",
   "execution_count": 19,
   "metadata": {},
   "outputs": [
    {
     "data": {
      "text/plain": [
       "Marketing      2\n",
       "Engineering    3\n",
       "HR             4\n",
       "dtype: int64"
      ]
     },
     "execution_count": 19,
     "metadata": {},
     "output_type": "execute_result"
    }
   ],
   "source": [
    "# 각 문자의 빈도 수를 구하여 시리즈를 만드시오\n",
    "wordData = ['HR', 'Engineering', 'HR', 'Engineering', 'HR', 'Marketing', 'Engineering', 'Marketing', 'HR']\n",
    "indexData = set(wordData)\n",
    "frequencyData = [ wordData.count(index) for index in indexData]\n",
    "\n",
    "pd.Series(data = frequencyData, index = indexData)"
   ]
  },
  {
   "cell_type": "markdown",
   "metadata": {},
   "source": [
    "# 2. 데이터프레임(DataFrame)"
   ]
  },
  {
   "cell_type": "markdown",
   "metadata": {},
   "source": [
    "## 1) 생성"
   ]
  },
  {
   "cell_type": "markdown",
   "metadata": {},
   "source": [
    "<table>\n",
    "    <thead>\n",
    "        <tr>\n",
    "            <th>이름</th><th>성별</th><th>나이</th><th>키</th>\n",
    "        </tr>\n",
    "    </thead>\n",
    "    <tbody>\n",
    "        <tr><td>김영철</td><th>M</th><td>24</td><td>179.4</td></tr>\n",
    "        <tr><td>송윤지</td><th>F</th><td>31</td><td>161.0</td></tr>\n",
    "        <tr><td>임수현</td><th>F</th><td>26</td><td>174</td></tr>\n",
    "    </tbody>\n",
    "</table>"
   ]
  },
  {
   "cell_type": "code",
   "execution_count": 20,
   "metadata": {},
   "outputs": [
    {
     "data": {
      "text/html": [
       "<div>\n",
       "<style scoped>\n",
       "    .dataframe tbody tr th:only-of-type {\n",
       "        vertical-align: middle;\n",
       "    }\n",
       "\n",
       "    .dataframe tbody tr th {\n",
       "        vertical-align: top;\n",
       "    }\n",
       "\n",
       "    .dataframe thead th {\n",
       "        text-align: right;\n",
       "    }\n",
       "</style>\n",
       "<table border=\"1\" class=\"dataframe\">\n",
       "  <thead>\n",
       "    <tr style=\"text-align: right;\">\n",
       "      <th></th>\n",
       "      <th>이름</th>\n",
       "      <th>성별</th>\n",
       "      <th>나이</th>\n",
       "      <th>키</th>\n",
       "    </tr>\n",
       "  </thead>\n",
       "  <tbody>\n",
       "    <tr>\n",
       "      <th>0</th>\n",
       "      <td>김영철</td>\n",
       "      <td>M</td>\n",
       "      <td>24</td>\n",
       "      <td>179.4</td>\n",
       "    </tr>\n",
       "    <tr>\n",
       "      <th>1</th>\n",
       "      <td>송윤지</td>\n",
       "      <td>F</td>\n",
       "      <td>31</td>\n",
       "      <td>161.0</td>\n",
       "    </tr>\n",
       "    <tr>\n",
       "      <th>2</th>\n",
       "      <td>임수현</td>\n",
       "      <td>F</td>\n",
       "      <td>26</td>\n",
       "      <td>174.0</td>\n",
       "    </tr>\n",
       "  </tbody>\n",
       "</table>\n",
       "</div>"
      ],
      "text/plain": [
       "    이름 성별  나이      키\n",
       "0  김영철  M  24  179.4\n",
       "1  송윤지  F  31  161.0\n",
       "2  임수현  F  26  174.0"
      ]
     },
     "execution_count": 20,
     "metadata": {},
     "output_type": "execute_result"
    }
   ],
   "source": [
    "# 2차원 리스트를 이용\n",
    "import pandas as pd \n",
    "\n",
    "data_list = [\n",
    "    [\"김영철\", \"M\", 24, 179.4],\n",
    "    [\"송윤지\", \"F\", 31, 161.0],\n",
    "    [\"임수현\", \"F\", 26, 174]\n",
    "]\n",
    "data1 = pd.DataFrame(data_list, columns=[\"이름\", \"성별\", \"나이\", \"키\"])\n",
    "# data1.columns = [\"이름\", \"성별\", \"나이\", \"키\"]\n",
    "data1"
   ]
  },
  {
   "cell_type": "code",
   "execution_count": 21,
   "metadata": {},
   "outputs": [
    {
     "data": {
      "text/html": [
       "<div>\n",
       "<style scoped>\n",
       "    .dataframe tbody tr th:only-of-type {\n",
       "        vertical-align: middle;\n",
       "    }\n",
       "\n",
       "    .dataframe tbody tr th {\n",
       "        vertical-align: top;\n",
       "    }\n",
       "\n",
       "    .dataframe thead th {\n",
       "        text-align: right;\n",
       "    }\n",
       "</style>\n",
       "<table border=\"1\" class=\"dataframe\">\n",
       "  <thead>\n",
       "    <tr style=\"text-align: right;\">\n",
       "      <th></th>\n",
       "      <th>이름</th>\n",
       "      <th>성별</th>\n",
       "      <th>나이</th>\n",
       "      <th>키</th>\n",
       "    </tr>\n",
       "  </thead>\n",
       "  <tbody>\n",
       "    <tr>\n",
       "      <th>0</th>\n",
       "      <td>김영철</td>\n",
       "      <td>M</td>\n",
       "      <td>24</td>\n",
       "      <td>179.4</td>\n",
       "    </tr>\n",
       "    <tr>\n",
       "      <th>1</th>\n",
       "      <td>송윤지</td>\n",
       "      <td>F</td>\n",
       "      <td>31</td>\n",
       "      <td>161.0</td>\n",
       "    </tr>\n",
       "    <tr>\n",
       "      <th>2</th>\n",
       "      <td>임수현</td>\n",
       "      <td>F</td>\n",
       "      <td>26</td>\n",
       "      <td>174.0</td>\n",
       "    </tr>\n",
       "  </tbody>\n",
       "</table>\n",
       "</div>"
      ],
      "text/plain": [
       "    이름 성별  나이      키\n",
       "0  김영철  M  24  179.4\n",
       "1  송윤지  F  31  161.0\n",
       "2  임수현  F  26  174.0"
      ]
     },
     "execution_count": 21,
     "metadata": {},
     "output_type": "execute_result"
    }
   ],
   "source": [
    "# 열 딕셔너리 이용\n",
    "data_col_dict = {\n",
    "    \"이름\": [\"김영철\", \"송윤지\", \"임수현\"],\n",
    "    \"성별\": [\"M\", \"F\", \"F\"],\n",
    "    \"나이\": [24, 31, 26],\n",
    "    \"키\": [179.4, 161.0, 174]\n",
    "}\n",
    "data2 = pd.DataFrame(data_col_dict)\n",
    "data2"
   ]
  },
  {
   "cell_type": "code",
   "execution_count": 22,
   "metadata": {},
   "outputs": [
    {
     "data": {
      "text/html": [
       "<div>\n",
       "<style scoped>\n",
       "    .dataframe tbody tr th:only-of-type {\n",
       "        vertical-align: middle;\n",
       "    }\n",
       "\n",
       "    .dataframe tbody tr th {\n",
       "        vertical-align: top;\n",
       "    }\n",
       "\n",
       "    .dataframe thead th {\n",
       "        text-align: right;\n",
       "    }\n",
       "</style>\n",
       "<table border=\"1\" class=\"dataframe\">\n",
       "  <thead>\n",
       "    <tr style=\"text-align: right;\">\n",
       "      <th></th>\n",
       "      <th>이름</th>\n",
       "      <th>성별</th>\n",
       "      <th>나이</th>\n",
       "      <th>키</th>\n",
       "    </tr>\n",
       "  </thead>\n",
       "  <tbody>\n",
       "    <tr>\n",
       "      <th>0</th>\n",
       "      <td>김영철</td>\n",
       "      <td>M</td>\n",
       "      <td>24</td>\n",
       "      <td>179.4</td>\n",
       "    </tr>\n",
       "    <tr>\n",
       "      <th>1</th>\n",
       "      <td>송윤지</td>\n",
       "      <td>F</td>\n",
       "      <td>31</td>\n",
       "      <td>161.0</td>\n",
       "    </tr>\n",
       "    <tr>\n",
       "      <th>2</th>\n",
       "      <td>임수현</td>\n",
       "      <td>F</td>\n",
       "      <td>26</td>\n",
       "      <td>174.0</td>\n",
       "    </tr>\n",
       "  </tbody>\n",
       "</table>\n",
       "</div>"
      ],
      "text/plain": [
       "    이름 성별  나이      키\n",
       "0  김영철  M  24  179.4\n",
       "1  송윤지  F  31  161.0\n",
       "2  임수현  F  26  174.0"
      ]
     },
     "execution_count": 22,
     "metadata": {},
     "output_type": "execute_result"
    }
   ],
   "source": [
    "# 행 딕셔너리 이용\n",
    "data_row_list = [\n",
    "    {\"이름\": \"김영철\", \"성별\": \"M\", \"나이\": 24, \"키\": 179.4},\n",
    "    {\"이름\": \"송윤지\", \"성별\": \"F\", \"나이\": 31, \"키\": 161.0},\n",
    "    {\"이름\": \"임수현\", \"성별\": \"F\", \"나이\": 26, \"키\": 174},\n",
    "]\n",
    "data3 = pd.DataFrame(data_row_list)\n",
    "data3"
   ]
  },
  {
   "cell_type": "code",
   "execution_count": 23,
   "metadata": {},
   "outputs": [
    {
     "data": {
      "text/html": [
       "<div>\n",
       "<style scoped>\n",
       "    .dataframe tbody tr th:only-of-type {\n",
       "        vertical-align: middle;\n",
       "    }\n",
       "\n",
       "    .dataframe tbody tr th {\n",
       "        vertical-align: top;\n",
       "    }\n",
       "\n",
       "    .dataframe thead th {\n",
       "        text-align: right;\n",
       "    }\n",
       "</style>\n",
       "<table border=\"1\" class=\"dataframe\">\n",
       "  <thead>\n",
       "    <tr style=\"text-align: right;\">\n",
       "      <th></th>\n",
       "      <th>성별</th>\n",
       "      <th>나이</th>\n",
       "      <th>키</th>\n",
       "    </tr>\n",
       "    <tr>\n",
       "      <th>이름</th>\n",
       "      <th></th>\n",
       "      <th></th>\n",
       "      <th></th>\n",
       "    </tr>\n",
       "  </thead>\n",
       "  <tbody>\n",
       "    <tr>\n",
       "      <th>김영철</th>\n",
       "      <td>M</td>\n",
       "      <td>24</td>\n",
       "      <td>179.4</td>\n",
       "    </tr>\n",
       "    <tr>\n",
       "      <th>송윤지</th>\n",
       "      <td>F</td>\n",
       "      <td>31</td>\n",
       "      <td>161.0</td>\n",
       "    </tr>\n",
       "    <tr>\n",
       "      <th>임수현</th>\n",
       "      <td>F</td>\n",
       "      <td>26</td>\n",
       "      <td>174.0</td>\n",
       "    </tr>\n",
       "  </tbody>\n",
       "</table>\n",
       "</div>"
      ],
      "text/plain": [
       "    성별  나이      키\n",
       "이름               \n",
       "김영철  M  24  179.4\n",
       "송윤지  F  31  161.0\n",
       "임수현  F  26  174.0"
      ]
     },
     "execution_count": 23,
     "metadata": {},
     "output_type": "execute_result"
    }
   ],
   "source": [
    "# 이름 열을 인덱스로 설정하기\n",
    "data4 = data1.set_index(\"이름\")\n",
    "data4"
   ]
  },
  {
   "cell_type": "code",
   "execution_count": 24,
   "metadata": {},
   "outputs": [
    {
     "data": {
      "text/html": [
       "<div>\n",
       "<style scoped>\n",
       "    .dataframe tbody tr th:only-of-type {\n",
       "        vertical-align: middle;\n",
       "    }\n",
       "\n",
       "    .dataframe tbody tr th {\n",
       "        vertical-align: top;\n",
       "    }\n",
       "\n",
       "    .dataframe thead th {\n",
       "        text-align: right;\n",
       "    }\n",
       "</style>\n",
       "<table border=\"1\" class=\"dataframe\">\n",
       "  <thead>\n",
       "    <tr style=\"text-align: right;\">\n",
       "      <th></th>\n",
       "      <th>이름</th>\n",
       "      <th>성별</th>\n",
       "      <th>나이</th>\n",
       "      <th>키</th>\n",
       "    </tr>\n",
       "  </thead>\n",
       "  <tbody>\n",
       "    <tr>\n",
       "      <th>0</th>\n",
       "      <td>김영철</td>\n",
       "      <td>M</td>\n",
       "      <td>24</td>\n",
       "      <td>179.4</td>\n",
       "    </tr>\n",
       "    <tr>\n",
       "      <th>1</th>\n",
       "      <td>송윤지</td>\n",
       "      <td>F</td>\n",
       "      <td>31</td>\n",
       "      <td>161.0</td>\n",
       "    </tr>\n",
       "    <tr>\n",
       "      <th>2</th>\n",
       "      <td>임수현</td>\n",
       "      <td>F</td>\n",
       "      <td>26</td>\n",
       "      <td>174.0</td>\n",
       "    </tr>\n",
       "  </tbody>\n",
       "</table>\n",
       "</div>"
      ],
      "text/plain": [
       "    이름 성별  나이      키\n",
       "0  김영철  M  24  179.4\n",
       "1  송윤지  F  31  161.0\n",
       "2  임수현  F  26  174.0"
      ]
     },
     "execution_count": 24,
     "metadata": {},
     "output_type": "execute_result"
    }
   ],
   "source": [
    "# 이름 인덴스를 다시 열로 바꾸기\n",
    "data5 = data4.reset_index()\n",
    "data5"
   ]
  },
  {
   "cell_type": "code",
   "execution_count": 25,
   "metadata": {},
   "outputs": [
    {
     "name": "stdout",
     "output_type": "stream",
     "text": [
      "object\n"
     ]
    }
   ],
   "source": [
    "print(name_data.dtypes)"
   ]
  },
  {
   "cell_type": "markdown",
   "metadata": {},
   "source": [
    "## 2) 조회"
   ]
  },
  {
   "cell_type": "code",
   "execution_count": 26,
   "metadata": {},
   "outputs": [
    {
     "data": {
      "text/html": [
       "<div>\n",
       "<style scoped>\n",
       "    .dataframe tbody tr th:only-of-type {\n",
       "        vertical-align: middle;\n",
       "    }\n",
       "\n",
       "    .dataframe tbody tr th {\n",
       "        vertical-align: top;\n",
       "    }\n",
       "\n",
       "    .dataframe thead th {\n",
       "        text-align: right;\n",
       "    }\n",
       "</style>\n",
       "<table border=\"1\" class=\"dataframe\">\n",
       "  <thead>\n",
       "    <tr style=\"text-align: right;\">\n",
       "      <th></th>\n",
       "      <th>이름</th>\n",
       "      <th>성별</th>\n",
       "      <th>나이</th>\n",
       "      <th>키</th>\n",
       "    </tr>\n",
       "  </thead>\n",
       "  <tbody>\n",
       "    <tr>\n",
       "      <th>0</th>\n",
       "      <td>김영철</td>\n",
       "      <td>M</td>\n",
       "      <td>24</td>\n",
       "      <td>179.4</td>\n",
       "    </tr>\n",
       "    <tr>\n",
       "      <th>1</th>\n",
       "      <td>송윤지</td>\n",
       "      <td>F</td>\n",
       "      <td>31</td>\n",
       "      <td>161.0</td>\n",
       "    </tr>\n",
       "    <tr>\n",
       "      <th>2</th>\n",
       "      <td>임수현</td>\n",
       "      <td>F</td>\n",
       "      <td>26</td>\n",
       "      <td>174.0</td>\n",
       "    </tr>\n",
       "  </tbody>\n",
       "</table>\n",
       "</div>"
      ],
      "text/plain": [
       "    이름 성별  나이      키\n",
       "0  김영철  M  24  179.4\n",
       "1  송윤지  F  31  161.0\n",
       "2  임수현  F  26  174.0"
      ]
     },
     "execution_count": 26,
     "metadata": {},
     "output_type": "execute_result"
    }
   ],
   "source": [
    "data1"
   ]
  },
  {
   "cell_type": "markdown",
   "metadata": {},
   "source": [
    "### (1) 이름으로 조회"
   ]
  },
  {
   "cell_type": "markdown",
   "metadata": {},
   "source": [
    "#### 열 조회"
   ]
  },
  {
   "cell_type": "code",
   "execution_count": 27,
   "metadata": {},
   "outputs": [
    {
     "data": {
      "text/plain": [
       "0    김영철\n",
       "1    송윤지\n",
       "2    임수현\n",
       "Name: 이름, dtype: object"
      ]
     },
     "execution_count": 27,
     "metadata": {},
     "output_type": "execute_result"
    }
   ],
   "source": [
    "data1[\"이름\"]"
   ]
  },
  {
   "cell_type": "code",
   "execution_count": 28,
   "metadata": {},
   "outputs": [
    {
     "data": {
      "text/html": [
       "<div>\n",
       "<style scoped>\n",
       "    .dataframe tbody tr th:only-of-type {\n",
       "        vertical-align: middle;\n",
       "    }\n",
       "\n",
       "    .dataframe tbody tr th {\n",
       "        vertical-align: top;\n",
       "    }\n",
       "\n",
       "    .dataframe thead th {\n",
       "        text-align: right;\n",
       "    }\n",
       "</style>\n",
       "<table border=\"1\" class=\"dataframe\">\n",
       "  <thead>\n",
       "    <tr style=\"text-align: right;\">\n",
       "      <th></th>\n",
       "      <th>나이</th>\n",
       "      <th>키</th>\n",
       "    </tr>\n",
       "  </thead>\n",
       "  <tbody>\n",
       "    <tr>\n",
       "      <th>0</th>\n",
       "      <td>24</td>\n",
       "      <td>179.4</td>\n",
       "    </tr>\n",
       "    <tr>\n",
       "      <th>1</th>\n",
       "      <td>31</td>\n",
       "      <td>161.0</td>\n",
       "    </tr>\n",
       "    <tr>\n",
       "      <th>2</th>\n",
       "      <td>26</td>\n",
       "      <td>174.0</td>\n",
       "    </tr>\n",
       "  </tbody>\n",
       "</table>\n",
       "</div>"
      ],
      "text/plain": [
       "   나이      키\n",
       "0  24  179.4\n",
       "1  31  161.0\n",
       "2  26  174.0"
      ]
     },
     "execution_count": 28,
     "metadata": {},
     "output_type": "execute_result"
    }
   ],
   "source": [
    "data1[[\"나이\", \"키\"]]"
   ]
  },
  {
   "cell_type": "markdown",
   "metadata": {},
   "source": [
    "#### 행 조회"
   ]
  },
  {
   "cell_type": "code",
   "execution_count": 29,
   "metadata": {},
   "outputs": [
    {
     "data": {
      "text/html": [
       "<div>\n",
       "<style scoped>\n",
       "    .dataframe tbody tr th:only-of-type {\n",
       "        vertical-align: middle;\n",
       "    }\n",
       "\n",
       "    .dataframe tbody tr th {\n",
       "        vertical-align: top;\n",
       "    }\n",
       "\n",
       "    .dataframe thead th {\n",
       "        text-align: right;\n",
       "    }\n",
       "</style>\n",
       "<table border=\"1\" class=\"dataframe\">\n",
       "  <thead>\n",
       "    <tr style=\"text-align: right;\">\n",
       "      <th></th>\n",
       "      <th>성별</th>\n",
       "      <th>나이</th>\n",
       "      <th>키</th>\n",
       "    </tr>\n",
       "    <tr>\n",
       "      <th>이름</th>\n",
       "      <th></th>\n",
       "      <th></th>\n",
       "      <th></th>\n",
       "    </tr>\n",
       "  </thead>\n",
       "  <tbody>\n",
       "    <tr>\n",
       "      <th>김영철</th>\n",
       "      <td>M</td>\n",
       "      <td>24</td>\n",
       "      <td>179.4</td>\n",
       "    </tr>\n",
       "    <tr>\n",
       "      <th>송윤지</th>\n",
       "      <td>F</td>\n",
       "      <td>31</td>\n",
       "      <td>161.0</td>\n",
       "    </tr>\n",
       "    <tr>\n",
       "      <th>임수현</th>\n",
       "      <td>F</td>\n",
       "      <td>26</td>\n",
       "      <td>174.0</td>\n",
       "    </tr>\n",
       "  </tbody>\n",
       "</table>\n",
       "</div>"
      ],
      "text/plain": [
       "    성별  나이      키\n",
       "이름               \n",
       "김영철  M  24  179.4\n",
       "송윤지  F  31  161.0\n",
       "임수현  F  26  174.0"
      ]
     },
     "execution_count": 29,
     "metadata": {},
     "output_type": "execute_result"
    }
   ],
   "source": [
    "data4"
   ]
  },
  {
   "cell_type": "code",
   "execution_count": 30,
   "metadata": {},
   "outputs": [
    {
     "name": "stdout",
     "output_type": "stream",
     "text": [
      "성별        F\n",
      "나이       31\n",
      "키     161.0\n",
      "Name: 송윤지, dtype: object\n",
      "<class 'pandas.core.series.Series'>\n"
     ]
    }
   ],
   "source": [
    "print(data4.loc[\"송윤지\"])\n",
    "\n",
    "print(type(data4.loc[\"송윤지\"]))"
   ]
  },
  {
   "cell_type": "code",
   "execution_count": 31,
   "metadata": {},
   "outputs": [
    {
     "data": {
      "text/html": [
       "<div>\n",
       "<style scoped>\n",
       "    .dataframe tbody tr th:only-of-type {\n",
       "        vertical-align: middle;\n",
       "    }\n",
       "\n",
       "    .dataframe tbody tr th {\n",
       "        vertical-align: top;\n",
       "    }\n",
       "\n",
       "    .dataframe thead th {\n",
       "        text-align: right;\n",
       "    }\n",
       "</style>\n",
       "<table border=\"1\" class=\"dataframe\">\n",
       "  <thead>\n",
       "    <tr style=\"text-align: right;\">\n",
       "      <th></th>\n",
       "      <th>성별</th>\n",
       "      <th>나이</th>\n",
       "      <th>키</th>\n",
       "    </tr>\n",
       "    <tr>\n",
       "      <th>이름</th>\n",
       "      <th></th>\n",
       "      <th></th>\n",
       "      <th></th>\n",
       "    </tr>\n",
       "  </thead>\n",
       "  <tbody>\n",
       "    <tr>\n",
       "      <th>송윤지</th>\n",
       "      <td>F</td>\n",
       "      <td>31</td>\n",
       "      <td>161.0</td>\n",
       "    </tr>\n",
       "    <tr>\n",
       "      <th>김영철</th>\n",
       "      <td>M</td>\n",
       "      <td>24</td>\n",
       "      <td>179.4</td>\n",
       "    </tr>\n",
       "  </tbody>\n",
       "</table>\n",
       "</div>"
      ],
      "text/plain": [
       "    성별  나이      키\n",
       "이름               \n",
       "송윤지  F  31  161.0\n",
       "김영철  M  24  179.4"
      ]
     },
     "execution_count": 31,
     "metadata": {},
     "output_type": "execute_result"
    }
   ],
   "source": [
    "data4.loc[[\"송윤지\", \"김영철\"]]"
   ]
  },
  {
   "cell_type": "markdown",
   "metadata": {},
   "source": [
    "#### 셀 조회"
   ]
  },
  {
   "cell_type": "code",
   "execution_count": 32,
   "metadata": {},
   "outputs": [
    {
     "data": {
      "text/html": [
       "<div>\n",
       "<style scoped>\n",
       "    .dataframe tbody tr th:only-of-type {\n",
       "        vertical-align: middle;\n",
       "    }\n",
       "\n",
       "    .dataframe tbody tr th {\n",
       "        vertical-align: top;\n",
       "    }\n",
       "\n",
       "    .dataframe thead th {\n",
       "        text-align: right;\n",
       "    }\n",
       "</style>\n",
       "<table border=\"1\" class=\"dataframe\">\n",
       "  <thead>\n",
       "    <tr style=\"text-align: right;\">\n",
       "      <th></th>\n",
       "      <th>성별</th>\n",
       "      <th>나이</th>\n",
       "      <th>키</th>\n",
       "    </tr>\n",
       "    <tr>\n",
       "      <th>이름</th>\n",
       "      <th></th>\n",
       "      <th></th>\n",
       "      <th></th>\n",
       "    </tr>\n",
       "  </thead>\n",
       "  <tbody>\n",
       "    <tr>\n",
       "      <th>김영철</th>\n",
       "      <td>M</td>\n",
       "      <td>24</td>\n",
       "      <td>179.4</td>\n",
       "    </tr>\n",
       "    <tr>\n",
       "      <th>송윤지</th>\n",
       "      <td>F</td>\n",
       "      <td>31</td>\n",
       "      <td>161.0</td>\n",
       "    </tr>\n",
       "    <tr>\n",
       "      <th>임수현</th>\n",
       "      <td>F</td>\n",
       "      <td>26</td>\n",
       "      <td>174.0</td>\n",
       "    </tr>\n",
       "  </tbody>\n",
       "</table>\n",
       "</div>"
      ],
      "text/plain": [
       "    성별  나이      키\n",
       "이름               \n",
       "김영철  M  24  179.4\n",
       "송윤지  F  31  161.0\n",
       "임수현  F  26  174.0"
      ]
     },
     "execution_count": 32,
     "metadata": {},
     "output_type": "execute_result"
    }
   ],
   "source": [
    "data4"
   ]
  },
  {
   "cell_type": "code",
   "execution_count": 33,
   "metadata": {},
   "outputs": [
    {
     "data": {
      "text/plain": [
       "np.float64(174.0)"
      ]
     },
     "execution_count": 33,
     "metadata": {},
     "output_type": "execute_result"
    }
   ],
   "source": [
    "data4.loc[\"임수현\", \"키\"]"
   ]
  },
  {
   "cell_type": "code",
   "execution_count": 34,
   "metadata": {},
   "outputs": [
    {
     "data": {
      "text/plain": [
       "'F'"
      ]
     },
     "execution_count": 34,
     "metadata": {},
     "output_type": "execute_result"
    }
   ],
   "source": [
    "data4.loc[\"송윤지\", \"성별\"]"
   ]
  },
  {
   "cell_type": "markdown",
   "metadata": {},
   "source": [
    "### (2) 인덱스로 조회"
   ]
  },
  {
   "cell_type": "markdown",
   "metadata": {},
   "source": [
    "#### 열 조회"
   ]
  },
  {
   "cell_type": "code",
   "execution_count": 35,
   "metadata": {},
   "outputs": [
    {
     "data": {
      "text/html": [
       "<div>\n",
       "<style scoped>\n",
       "    .dataframe tbody tr th:only-of-type {\n",
       "        vertical-align: middle;\n",
       "    }\n",
       "\n",
       "    .dataframe tbody tr th {\n",
       "        vertical-align: top;\n",
       "    }\n",
       "\n",
       "    .dataframe thead th {\n",
       "        text-align: right;\n",
       "    }\n",
       "</style>\n",
       "<table border=\"1\" class=\"dataframe\">\n",
       "  <thead>\n",
       "    <tr style=\"text-align: right;\">\n",
       "      <th></th>\n",
       "      <th>이름</th>\n",
       "      <th>성별</th>\n",
       "      <th>나이</th>\n",
       "      <th>키</th>\n",
       "    </tr>\n",
       "  </thead>\n",
       "  <tbody>\n",
       "    <tr>\n",
       "      <th>0</th>\n",
       "      <td>김영철</td>\n",
       "      <td>M</td>\n",
       "      <td>24</td>\n",
       "      <td>179.4</td>\n",
       "    </tr>\n",
       "    <tr>\n",
       "      <th>1</th>\n",
       "      <td>송윤지</td>\n",
       "      <td>F</td>\n",
       "      <td>31</td>\n",
       "      <td>161.0</td>\n",
       "    </tr>\n",
       "    <tr>\n",
       "      <th>2</th>\n",
       "      <td>임수현</td>\n",
       "      <td>F</td>\n",
       "      <td>26</td>\n",
       "      <td>174.0</td>\n",
       "    </tr>\n",
       "  </tbody>\n",
       "</table>\n",
       "</div>"
      ],
      "text/plain": [
       "    이름 성별  나이      키\n",
       "0  김영철  M  24  179.4\n",
       "1  송윤지  F  31  161.0\n",
       "2  임수현  F  26  174.0"
      ]
     },
     "execution_count": 35,
     "metadata": {},
     "output_type": "execute_result"
    }
   ],
   "source": [
    "data1"
   ]
  },
  {
   "cell_type": "code",
   "execution_count": 36,
   "metadata": {},
   "outputs": [
    {
     "data": {
      "text/plain": [
       "0    24\n",
       "1    31\n",
       "2    26\n",
       "Name: 나이, dtype: int64"
      ]
     },
     "execution_count": 36,
     "metadata": {},
     "output_type": "execute_result"
    }
   ],
   "source": [
    "# 나이 열 조회\n",
    "data1.iloc[:,2]"
   ]
  },
  {
   "cell_type": "code",
   "execution_count": 37,
   "metadata": {},
   "outputs": [
    {
     "data": {
      "text/html": [
       "<div>\n",
       "<style scoped>\n",
       "    .dataframe tbody tr th:only-of-type {\n",
       "        vertical-align: middle;\n",
       "    }\n",
       "\n",
       "    .dataframe tbody tr th {\n",
       "        vertical-align: top;\n",
       "    }\n",
       "\n",
       "    .dataframe thead th {\n",
       "        text-align: right;\n",
       "    }\n",
       "</style>\n",
       "<table border=\"1\" class=\"dataframe\">\n",
       "  <thead>\n",
       "    <tr style=\"text-align: right;\">\n",
       "      <th></th>\n",
       "      <th>성별</th>\n",
       "      <th>키</th>\n",
       "    </tr>\n",
       "  </thead>\n",
       "  <tbody>\n",
       "    <tr>\n",
       "      <th>0</th>\n",
       "      <td>M</td>\n",
       "      <td>179.4</td>\n",
       "    </tr>\n",
       "    <tr>\n",
       "      <th>1</th>\n",
       "      <td>F</td>\n",
       "      <td>161.0</td>\n",
       "    </tr>\n",
       "    <tr>\n",
       "      <th>2</th>\n",
       "      <td>F</td>\n",
       "      <td>174.0</td>\n",
       "    </tr>\n",
       "  </tbody>\n",
       "</table>\n",
       "</div>"
      ],
      "text/plain": [
       "  성별      키\n",
       "0  M  179.4\n",
       "1  F  161.0\n",
       "2  F  174.0"
      ]
     },
     "execution_count": 37,
     "metadata": {},
     "output_type": "execute_result"
    }
   ],
   "source": [
    "# 성별, 키 열 조회\n",
    "data1.iloc[:,[1,3]]"
   ]
  },
  {
   "cell_type": "markdown",
   "metadata": {},
   "source": [
    "#### 행 조회"
   ]
  },
  {
   "cell_type": "code",
   "execution_count": 38,
   "metadata": {},
   "outputs": [
    {
     "data": {
      "text/html": [
       "<div>\n",
       "<style scoped>\n",
       "    .dataframe tbody tr th:only-of-type {\n",
       "        vertical-align: middle;\n",
       "    }\n",
       "\n",
       "    .dataframe tbody tr th {\n",
       "        vertical-align: top;\n",
       "    }\n",
       "\n",
       "    .dataframe thead th {\n",
       "        text-align: right;\n",
       "    }\n",
       "</style>\n",
       "<table border=\"1\" class=\"dataframe\">\n",
       "  <thead>\n",
       "    <tr style=\"text-align: right;\">\n",
       "      <th></th>\n",
       "      <th>성별</th>\n",
       "      <th>나이</th>\n",
       "      <th>키</th>\n",
       "    </tr>\n",
       "    <tr>\n",
       "      <th>이름</th>\n",
       "      <th></th>\n",
       "      <th></th>\n",
       "      <th></th>\n",
       "    </tr>\n",
       "  </thead>\n",
       "  <tbody>\n",
       "    <tr>\n",
       "      <th>김영철</th>\n",
       "      <td>M</td>\n",
       "      <td>24</td>\n",
       "      <td>179.4</td>\n",
       "    </tr>\n",
       "    <tr>\n",
       "      <th>송윤지</th>\n",
       "      <td>F</td>\n",
       "      <td>31</td>\n",
       "      <td>161.0</td>\n",
       "    </tr>\n",
       "    <tr>\n",
       "      <th>임수현</th>\n",
       "      <td>F</td>\n",
       "      <td>26</td>\n",
       "      <td>174.0</td>\n",
       "    </tr>\n",
       "  </tbody>\n",
       "</table>\n",
       "</div>"
      ],
      "text/plain": [
       "    성별  나이      키\n",
       "이름               \n",
       "김영철  M  24  179.4\n",
       "송윤지  F  31  161.0\n",
       "임수현  F  26  174.0"
      ]
     },
     "execution_count": 38,
     "metadata": {},
     "output_type": "execute_result"
    }
   ],
   "source": [
    "data4"
   ]
  },
  {
   "cell_type": "code",
   "execution_count": 39,
   "metadata": {},
   "outputs": [
    {
     "name": "stdout",
     "output_type": "stream",
     "text": [
      "이름      송윤지\n",
      "성별        F\n",
      "나이       31\n",
      "키     161.0\n",
      "Name: 1, dtype: object\n",
      "==============\n"
     ]
    },
    {
     "data": {
      "text/html": [
       "<div>\n",
       "<style scoped>\n",
       "    .dataframe tbody tr th:only-of-type {\n",
       "        vertical-align: middle;\n",
       "    }\n",
       "\n",
       "    .dataframe tbody tr th {\n",
       "        vertical-align: top;\n",
       "    }\n",
       "\n",
       "    .dataframe thead th {\n",
       "        text-align: right;\n",
       "    }\n",
       "</style>\n",
       "<table border=\"1\" class=\"dataframe\">\n",
       "  <thead>\n",
       "    <tr style=\"text-align: right;\">\n",
       "      <th></th>\n",
       "      <th>이름</th>\n",
       "      <th>성별</th>\n",
       "      <th>나이</th>\n",
       "      <th>키</th>\n",
       "    </tr>\n",
       "  </thead>\n",
       "  <tbody>\n",
       "    <tr>\n",
       "      <th>1</th>\n",
       "      <td>송윤지</td>\n",
       "      <td>F</td>\n",
       "      <td>31</td>\n",
       "      <td>161.0</td>\n",
       "    </tr>\n",
       "  </tbody>\n",
       "</table>\n",
       "</div>"
      ],
      "text/plain": [
       "    이름 성별  나이      키\n",
       "1  송윤지  F  31  161.0"
      ]
     },
     "execution_count": 39,
     "metadata": {},
     "output_type": "execute_result"
    }
   ],
   "source": [
    "# 송윤지 학생의 데이터를 인덱스로 조회\n",
    "print(data1.iloc[1,:]) # > series\n",
    "print(\"==============\")\n",
    "data1.iloc[1:2,:] # > dataframe"
   ]
  },
  {
   "cell_type": "code",
   "execution_count": 40,
   "metadata": {},
   "outputs": [
    {
     "data": {
      "text/html": [
       "<div>\n",
       "<style scoped>\n",
       "    .dataframe tbody tr th:only-of-type {\n",
       "        vertical-align: middle;\n",
       "    }\n",
       "\n",
       "    .dataframe tbody tr th {\n",
       "        vertical-align: top;\n",
       "    }\n",
       "\n",
       "    .dataframe thead th {\n",
       "        text-align: right;\n",
       "    }\n",
       "</style>\n",
       "<table border=\"1\" class=\"dataframe\">\n",
       "  <thead>\n",
       "    <tr style=\"text-align: right;\">\n",
       "      <th></th>\n",
       "      <th>이름</th>\n",
       "      <th>성별</th>\n",
       "      <th>나이</th>\n",
       "      <th>키</th>\n",
       "    </tr>\n",
       "  </thead>\n",
       "  <tbody>\n",
       "    <tr>\n",
       "      <th>1</th>\n",
       "      <td>송윤지</td>\n",
       "      <td>F</td>\n",
       "      <td>31</td>\n",
       "      <td>161.0</td>\n",
       "    </tr>\n",
       "    <tr>\n",
       "      <th>2</th>\n",
       "      <td>임수현</td>\n",
       "      <td>F</td>\n",
       "      <td>26</td>\n",
       "      <td>174.0</td>\n",
       "    </tr>\n",
       "  </tbody>\n",
       "</table>\n",
       "</div>"
      ],
      "text/plain": [
       "    이름 성별  나이      키\n",
       "1  송윤지  F  31  161.0\n",
       "2  임수현  F  26  174.0"
      ]
     },
     "execution_count": 40,
     "metadata": {},
     "output_type": "execute_result"
    }
   ],
   "source": [
    "# 송윤지, 임수현 학생의 데이터를 인덱스로 조회\n",
    "data1.iloc[1:3,:]"
   ]
  },
  {
   "cell_type": "markdown",
   "metadata": {},
   "source": [
    "#### 셀 조회"
   ]
  },
  {
   "cell_type": "code",
   "execution_count": 41,
   "metadata": {},
   "outputs": [
    {
     "data": {
      "text/html": [
       "<div>\n",
       "<style scoped>\n",
       "    .dataframe tbody tr th:only-of-type {\n",
       "        vertical-align: middle;\n",
       "    }\n",
       "\n",
       "    .dataframe tbody tr th {\n",
       "        vertical-align: top;\n",
       "    }\n",
       "\n",
       "    .dataframe thead th {\n",
       "        text-align: right;\n",
       "    }\n",
       "</style>\n",
       "<table border=\"1\" class=\"dataframe\">\n",
       "  <thead>\n",
       "    <tr style=\"text-align: right;\">\n",
       "      <th></th>\n",
       "      <th>성별</th>\n",
       "      <th>나이</th>\n",
       "      <th>키</th>\n",
       "    </tr>\n",
       "    <tr>\n",
       "      <th>이름</th>\n",
       "      <th></th>\n",
       "      <th></th>\n",
       "      <th></th>\n",
       "    </tr>\n",
       "  </thead>\n",
       "  <tbody>\n",
       "    <tr>\n",
       "      <th>김영철</th>\n",
       "      <td>M</td>\n",
       "      <td>24</td>\n",
       "      <td>179.4</td>\n",
       "    </tr>\n",
       "    <tr>\n",
       "      <th>송윤지</th>\n",
       "      <td>F</td>\n",
       "      <td>31</td>\n",
       "      <td>161.0</td>\n",
       "    </tr>\n",
       "    <tr>\n",
       "      <th>임수현</th>\n",
       "      <td>F</td>\n",
       "      <td>26</td>\n",
       "      <td>174.0</td>\n",
       "    </tr>\n",
       "  </tbody>\n",
       "</table>\n",
       "</div>"
      ],
      "text/plain": [
       "    성별  나이      키\n",
       "이름               \n",
       "김영철  M  24  179.4\n",
       "송윤지  F  31  161.0\n",
       "임수현  F  26  174.0"
      ]
     },
     "execution_count": 41,
     "metadata": {},
     "output_type": "execute_result"
    }
   ],
   "source": [
    "data4"
   ]
  },
  {
   "cell_type": "code",
   "execution_count": 42,
   "metadata": {},
   "outputs": [
    {
     "data": {
      "text/plain": [
       "'F'"
      ]
     },
     "execution_count": 42,
     "metadata": {},
     "output_type": "execute_result"
    }
   ],
   "source": [
    "# 임수현 학생의 성별을 인덱스로 조회\n",
    "data4.iloc[2,0]"
   ]
  },
  {
   "cell_type": "code",
   "execution_count": 43,
   "metadata": {},
   "outputs": [
    {
     "data": {
      "text/plain": [
       "np.float64(179.4)"
      ]
     },
     "execution_count": 43,
     "metadata": {},
     "output_type": "execute_result"
    }
   ],
   "source": [
    "# 김영철 학생의 키를 인덱스로 조회\n",
    "data4.iloc[0,2]"
   ]
  },
  {
   "cell_type": "markdown",
   "metadata": {},
   "source": [
    "### (3) 조건부 조회"
   ]
  },
  {
   "cell_type": "code",
   "execution_count": 44,
   "metadata": {},
   "outputs": [
    {
     "data": {
      "text/html": [
       "<div>\n",
       "<style scoped>\n",
       "    .dataframe tbody tr th:only-of-type {\n",
       "        vertical-align: middle;\n",
       "    }\n",
       "\n",
       "    .dataframe tbody tr th {\n",
       "        vertical-align: top;\n",
       "    }\n",
       "\n",
       "    .dataframe thead th {\n",
       "        text-align: right;\n",
       "    }\n",
       "</style>\n",
       "<table border=\"1\" class=\"dataframe\">\n",
       "  <thead>\n",
       "    <tr style=\"text-align: right;\">\n",
       "      <th></th>\n",
       "      <th>이름</th>\n",
       "      <th>성별</th>\n",
       "      <th>나이</th>\n",
       "      <th>키</th>\n",
       "    </tr>\n",
       "  </thead>\n",
       "  <tbody>\n",
       "    <tr>\n",
       "      <th>0</th>\n",
       "      <td>김영철</td>\n",
       "      <td>M</td>\n",
       "      <td>24</td>\n",
       "      <td>179.4</td>\n",
       "    </tr>\n",
       "    <tr>\n",
       "      <th>1</th>\n",
       "      <td>송윤지</td>\n",
       "      <td>F</td>\n",
       "      <td>31</td>\n",
       "      <td>161.0</td>\n",
       "    </tr>\n",
       "    <tr>\n",
       "      <th>2</th>\n",
       "      <td>임수현</td>\n",
       "      <td>F</td>\n",
       "      <td>26</td>\n",
       "      <td>174.0</td>\n",
       "    </tr>\n",
       "  </tbody>\n",
       "</table>\n",
       "</div>"
      ],
      "text/plain": [
       "    이름 성별  나이      키\n",
       "0  김영철  M  24  179.4\n",
       "1  송윤지  F  31  161.0\n",
       "2  임수현  F  26  174.0"
      ]
     },
     "execution_count": 44,
     "metadata": {},
     "output_type": "execute_result"
    }
   ],
   "source": [
    "data1"
   ]
  },
  {
   "cell_type": "code",
   "execution_count": 45,
   "metadata": {},
   "outputs": [
    {
     "data": {
      "text/html": [
       "<div>\n",
       "<style scoped>\n",
       "    .dataframe tbody tr th:only-of-type {\n",
       "        vertical-align: middle;\n",
       "    }\n",
       "\n",
       "    .dataframe tbody tr th {\n",
       "        vertical-align: top;\n",
       "    }\n",
       "\n",
       "    .dataframe thead th {\n",
       "        text-align: right;\n",
       "    }\n",
       "</style>\n",
       "<table border=\"1\" class=\"dataframe\">\n",
       "  <thead>\n",
       "    <tr style=\"text-align: right;\">\n",
       "      <th></th>\n",
       "      <th>이름</th>\n",
       "      <th>성별</th>\n",
       "      <th>나이</th>\n",
       "      <th>키</th>\n",
       "    </tr>\n",
       "  </thead>\n",
       "  <tbody>\n",
       "    <tr>\n",
       "      <th>0</th>\n",
       "      <td>김영철</td>\n",
       "      <td>M</td>\n",
       "      <td>24</td>\n",
       "      <td>179.4</td>\n",
       "    </tr>\n",
       "  </tbody>\n",
       "</table>\n",
       "</div>"
      ],
      "text/plain": [
       "    이름 성별  나이      키\n",
       "0  김영철  M  24  179.4"
      ]
     },
     "execution_count": 45,
     "metadata": {},
     "output_type": "execute_result"
    }
   ],
   "source": [
    "# 성별이 M인 데이터 조회\n",
    "\n",
    "data1[data1['성별'] == \"M\"]"
   ]
  },
  {
   "cell_type": "code",
   "execution_count": 46,
   "metadata": {},
   "outputs": [
    {
     "data": {
      "text/html": [
       "<div>\n",
       "<style scoped>\n",
       "    .dataframe tbody tr th:only-of-type {\n",
       "        vertical-align: middle;\n",
       "    }\n",
       "\n",
       "    .dataframe tbody tr th {\n",
       "        vertical-align: top;\n",
       "    }\n",
       "\n",
       "    .dataframe thead th {\n",
       "        text-align: right;\n",
       "    }\n",
       "</style>\n",
       "<table border=\"1\" class=\"dataframe\">\n",
       "  <thead>\n",
       "    <tr style=\"text-align: right;\">\n",
       "      <th></th>\n",
       "      <th>이름</th>\n",
       "      <th>성별</th>\n",
       "      <th>나이</th>\n",
       "      <th>키</th>\n",
       "    </tr>\n",
       "  </thead>\n",
       "  <tbody>\n",
       "    <tr>\n",
       "      <th>0</th>\n",
       "      <td>김영철</td>\n",
       "      <td>M</td>\n",
       "      <td>24</td>\n",
       "      <td>179.4</td>\n",
       "    </tr>\n",
       "  </tbody>\n",
       "</table>\n",
       "</div>"
      ],
      "text/plain": [
       "    이름 성별  나이      키\n",
       "0  김영철  M  24  179.4"
      ]
     },
     "execution_count": 46,
     "metadata": {},
     "output_type": "execute_result"
    }
   ],
   "source": [
    "data1.loc[data1['성별'] == \"M\"]"
   ]
  },
  {
   "cell_type": "code",
   "execution_count": 47,
   "metadata": {},
   "outputs": [
    {
     "data": {
      "text/html": [
       "<div>\n",
       "<style scoped>\n",
       "    .dataframe tbody tr th:only-of-type {\n",
       "        vertical-align: middle;\n",
       "    }\n",
       "\n",
       "    .dataframe tbody tr th {\n",
       "        vertical-align: top;\n",
       "    }\n",
       "\n",
       "    .dataframe thead th {\n",
       "        text-align: right;\n",
       "    }\n",
       "</style>\n",
       "<table border=\"1\" class=\"dataframe\">\n",
       "  <thead>\n",
       "    <tr style=\"text-align: right;\">\n",
       "      <th></th>\n",
       "      <th>이름</th>\n",
       "      <th>성별</th>\n",
       "      <th>나이</th>\n",
       "      <th>키</th>\n",
       "    </tr>\n",
       "  </thead>\n",
       "  <tbody>\n",
       "    <tr>\n",
       "      <th>0</th>\n",
       "      <td>김영철</td>\n",
       "      <td>M</td>\n",
       "      <td>24</td>\n",
       "      <td>179.4</td>\n",
       "    </tr>\n",
       "    <tr>\n",
       "      <th>2</th>\n",
       "      <td>임수현</td>\n",
       "      <td>F</td>\n",
       "      <td>26</td>\n",
       "      <td>174.0</td>\n",
       "    </tr>\n",
       "  </tbody>\n",
       "</table>\n",
       "</div>"
      ],
      "text/plain": [
       "    이름 성별  나이      키\n",
       "0  김영철  M  24  179.4\n",
       "2  임수현  F  26  174.0"
      ]
     },
     "execution_count": 47,
     "metadata": {},
     "output_type": "execute_result"
    }
   ],
   "source": [
    "# 키가 170이 넘는 사람들 조회\n",
    "\n",
    "data1[data1['키'] > 170]"
   ]
  },
  {
   "cell_type": "code",
   "execution_count": 48,
   "metadata": {},
   "outputs": [
    {
     "data": {
      "text/html": [
       "<div>\n",
       "<style scoped>\n",
       "    .dataframe tbody tr th:only-of-type {\n",
       "        vertical-align: middle;\n",
       "    }\n",
       "\n",
       "    .dataframe tbody tr th {\n",
       "        vertical-align: top;\n",
       "    }\n",
       "\n",
       "    .dataframe thead th {\n",
       "        text-align: right;\n",
       "    }\n",
       "</style>\n",
       "<table border=\"1\" class=\"dataframe\">\n",
       "  <thead>\n",
       "    <tr style=\"text-align: right;\">\n",
       "      <th></th>\n",
       "      <th>이름</th>\n",
       "      <th>성별</th>\n",
       "      <th>나이</th>\n",
       "      <th>키</th>\n",
       "    </tr>\n",
       "  </thead>\n",
       "  <tbody>\n",
       "    <tr>\n",
       "      <th>2</th>\n",
       "      <td>임수현</td>\n",
       "      <td>F</td>\n",
       "      <td>26</td>\n",
       "      <td>174.0</td>\n",
       "    </tr>\n",
       "  </tbody>\n",
       "</table>\n",
       "</div>"
      ],
      "text/plain": [
       "    이름 성별  나이      키\n",
       "2  임수현  F  26  174.0"
      ]
     },
     "execution_count": 48,
     "metadata": {},
     "output_type": "execute_result"
    }
   ],
   "source": [
    "# 성별이 F이면서 키가 170 이상인 사람 조회\n",
    "\n",
    "data1[(data1['성별'] == \"F\") & (data1['키'] > 170)]"
   ]
  },
  {
   "cell_type": "code",
   "execution_count": 49,
   "metadata": {},
   "outputs": [
    {
     "data": {
      "text/html": [
       "<div>\n",
       "<style scoped>\n",
       "    .dataframe tbody tr th:only-of-type {\n",
       "        vertical-align: middle;\n",
       "    }\n",
       "\n",
       "    .dataframe tbody tr th {\n",
       "        vertical-align: top;\n",
       "    }\n",
       "\n",
       "    .dataframe thead th {\n",
       "        text-align: right;\n",
       "    }\n",
       "</style>\n",
       "<table border=\"1\" class=\"dataframe\">\n",
       "  <thead>\n",
       "    <tr style=\"text-align: right;\">\n",
       "      <th></th>\n",
       "      <th>이름</th>\n",
       "      <th>성별</th>\n",
       "      <th>나이</th>\n",
       "      <th>키</th>\n",
       "    </tr>\n",
       "  </thead>\n",
       "  <tbody>\n",
       "    <tr>\n",
       "      <th>2</th>\n",
       "      <td>임수현</td>\n",
       "      <td>F</td>\n",
       "      <td>26</td>\n",
       "      <td>174.0</td>\n",
       "    </tr>\n",
       "  </tbody>\n",
       "</table>\n",
       "</div>"
      ],
      "text/plain": [
       "    이름 성별  나이      키\n",
       "2  임수현  F  26  174.0"
      ]
     },
     "execution_count": 49,
     "metadata": {},
     "output_type": "execute_result"
    }
   ],
   "source": [
    "# python에서 and 사용 가능하지만 pandas 에서는 & 사용\n",
    "# and 사용시 에러 발생\n",
    "data1.loc[(data1['성별'] == \"F\") & (data1['키'] > 170)]"
   ]
  },
  {
   "cell_type": "code",
   "execution_count": 50,
   "metadata": {},
   "outputs": [
    {
     "data": {
      "text/html": [
       "<div>\n",
       "<style scoped>\n",
       "    .dataframe tbody tr th:only-of-type {\n",
       "        vertical-align: middle;\n",
       "    }\n",
       "\n",
       "    .dataframe tbody tr th {\n",
       "        vertical-align: top;\n",
       "    }\n",
       "\n",
       "    .dataframe thead th {\n",
       "        text-align: right;\n",
       "    }\n",
       "</style>\n",
       "<table border=\"1\" class=\"dataframe\">\n",
       "  <thead>\n",
       "    <tr style=\"text-align: right;\">\n",
       "      <th></th>\n",
       "      <th>이름</th>\n",
       "      <th>나이</th>\n",
       "      <th>지역</th>\n",
       "    </tr>\n",
       "  </thead>\n",
       "  <tbody>\n",
       "    <tr>\n",
       "      <th>0</th>\n",
       "      <td>홍길동</td>\n",
       "      <td>25</td>\n",
       "      <td>서울</td>\n",
       "    </tr>\n",
       "    <tr>\n",
       "      <th>1</th>\n",
       "      <td>김준기</td>\n",
       "      <td>21</td>\n",
       "      <td>서울</td>\n",
       "    </tr>\n",
       "    <tr>\n",
       "      <th>2</th>\n",
       "      <td>이명식</td>\n",
       "      <td>22</td>\n",
       "      <td>부산</td>\n",
       "    </tr>\n",
       "    <tr>\n",
       "      <th>3</th>\n",
       "      <td>이준혁</td>\n",
       "      <td>24</td>\n",
       "      <td>광주</td>\n",
       "    </tr>\n",
       "    <tr>\n",
       "      <th>4</th>\n",
       "      <td>최명기</td>\n",
       "      <td>31</td>\n",
       "      <td>부산</td>\n",
       "    </tr>\n",
       "  </tbody>\n",
       "</table>\n",
       "</div>"
      ],
      "text/plain": [
       "    이름  나이  지역\n",
       "0  홍길동  25  서울\n",
       "1  김준기  21  서울\n",
       "2  이명식  22  부산\n",
       "3  이준혁  24  광주\n",
       "4  최명기  31  부산"
      ]
     },
     "execution_count": 50,
     "metadata": {},
     "output_type": "execute_result"
    }
   ],
   "source": [
    "data = pd.read_csv(\"data/cdata_nohead.csv\", header=None,\n",
    "                   names=['index', 'no', '이름', '나이', '지역'])\n",
    "data = data[[\"이름\", \"나이\", \"지역\"]]\n",
    "data.iloc[3,0] = \"이준혁\"\n",
    "data"
   ]
  },
  {
   "cell_type": "code",
   "execution_count": 51,
   "metadata": {},
   "outputs": [],
   "source": [
    "# 위에 있는 데이터프레임을 직접 써서 생성해주세요"
   ]
  },
  {
   "cell_type": "code",
   "execution_count": 52,
   "metadata": {},
   "outputs": [
    {
     "data": {
      "text/html": [
       "<div>\n",
       "<style scoped>\n",
       "    .dataframe tbody tr th:only-of-type {\n",
       "        vertical-align: middle;\n",
       "    }\n",
       "\n",
       "    .dataframe tbody tr th {\n",
       "        vertical-align: top;\n",
       "    }\n",
       "\n",
       "    .dataframe thead th {\n",
       "        text-align: right;\n",
       "    }\n",
       "</style>\n",
       "<table border=\"1\" class=\"dataframe\">\n",
       "  <thead>\n",
       "    <tr style=\"text-align: right;\">\n",
       "      <th></th>\n",
       "      <th>이름</th>\n",
       "      <th>나이</th>\n",
       "      <th>지역</th>\n",
       "    </tr>\n",
       "  </thead>\n",
       "  <tbody>\n",
       "    <tr>\n",
       "      <th>0</th>\n",
       "      <td>홍길동</td>\n",
       "      <td>25</td>\n",
       "      <td>서울</td>\n",
       "    </tr>\n",
       "    <tr>\n",
       "      <th>1</th>\n",
       "      <td>김준기</td>\n",
       "      <td>21</td>\n",
       "      <td>서울</td>\n",
       "    </tr>\n",
       "    <tr>\n",
       "      <th>2</th>\n",
       "      <td>이명식</td>\n",
       "      <td>22</td>\n",
       "      <td>부산</td>\n",
       "    </tr>\n",
       "    <tr>\n",
       "      <th>3</th>\n",
       "      <td>이준혁</td>\n",
       "      <td>24</td>\n",
       "      <td>광주</td>\n",
       "    </tr>\n",
       "    <tr>\n",
       "      <th>4</th>\n",
       "      <td>최명기</td>\n",
       "      <td>31</td>\n",
       "      <td>부산</td>\n",
       "    </tr>\n",
       "  </tbody>\n",
       "</table>\n",
       "</div>"
      ],
      "text/plain": [
       "    이름  나이  지역\n",
       "0  홍길동  25  서울\n",
       "1  김준기  21  서울\n",
       "2  이명식  22  부산\n",
       "3  이준혁  24  광주\n",
       "4  최명기  31  부산"
      ]
     },
     "execution_count": 52,
     "metadata": {},
     "output_type": "execute_result"
    }
   ],
   "source": [
    "data = pd.DataFrame({\n",
    "    \"이름\" : [\"홍길동\", \"김준기\", \"이명식\", \"이준혁\", \"최명기\"],\n",
    "    \"나이\" : [25, 21, 22, 24, 31],\n",
    "    \"지역\": [\"서울\", \"서울\", \"부산\",\"광주\", '부산']\n",
    "})\n",
    "data"
   ]
  },
  {
   "cell_type": "code",
   "execution_count": 53,
   "metadata": {},
   "outputs": [
    {
     "data": {
      "text/html": [
       "<div>\n",
       "<style scoped>\n",
       "    .dataframe tbody tr th:only-of-type {\n",
       "        vertical-align: middle;\n",
       "    }\n",
       "\n",
       "    .dataframe tbody tr th {\n",
       "        vertical-align: top;\n",
       "    }\n",
       "\n",
       "    .dataframe thead th {\n",
       "        text-align: right;\n",
       "    }\n",
       "</style>\n",
       "<table border=\"1\" class=\"dataframe\">\n",
       "  <thead>\n",
       "    <tr style=\"text-align: right;\">\n",
       "      <th></th>\n",
       "      <th>이름</th>\n",
       "      <th>나이</th>\n",
       "      <th>지역</th>\n",
       "    </tr>\n",
       "  </thead>\n",
       "  <tbody>\n",
       "    <tr>\n",
       "      <th>4</th>\n",
       "      <td>최명기</td>\n",
       "      <td>31</td>\n",
       "      <td>부산</td>\n",
       "    </tr>\n",
       "  </tbody>\n",
       "</table>\n",
       "</div>"
      ],
      "text/plain": [
       "    이름  나이  지역\n",
       "4  최명기  31  부산"
      ]
     },
     "execution_count": 53,
     "metadata": {},
     "output_type": "execute_result"
    }
   ],
   "source": [
    "# 나이가 30이상인 데이터를 조회해주세요\n",
    "data[data[\"나이\"] >= 30]"
   ]
  },
  {
   "cell_type": "code",
   "execution_count": 54,
   "metadata": {},
   "outputs": [
    {
     "data": {
      "text/html": [
       "<div>\n",
       "<style scoped>\n",
       "    .dataframe tbody tr th:only-of-type {\n",
       "        vertical-align: middle;\n",
       "    }\n",
       "\n",
       "    .dataframe tbody tr th {\n",
       "        vertical-align: top;\n",
       "    }\n",
       "\n",
       "    .dataframe thead th {\n",
       "        text-align: right;\n",
       "    }\n",
       "</style>\n",
       "<table border=\"1\" class=\"dataframe\">\n",
       "  <thead>\n",
       "    <tr style=\"text-align: right;\">\n",
       "      <th></th>\n",
       "      <th>이름</th>\n",
       "      <th>나이</th>\n",
       "      <th>지역</th>\n",
       "    </tr>\n",
       "  </thead>\n",
       "  <tbody>\n",
       "    <tr>\n",
       "      <th>2</th>\n",
       "      <td>이명식</td>\n",
       "      <td>22</td>\n",
       "      <td>부산</td>\n",
       "    </tr>\n",
       "    <tr>\n",
       "      <th>3</th>\n",
       "      <td>이준혁</td>\n",
       "      <td>24</td>\n",
       "      <td>광주</td>\n",
       "    </tr>\n",
       "  </tbody>\n",
       "</table>\n",
       "</div>"
      ],
      "text/plain": [
       "    이름  나이  지역\n",
       "2  이명식  22  부산\n",
       "3  이준혁  24  광주"
      ]
     },
     "execution_count": 54,
     "metadata": {},
     "output_type": "execute_result"
    }
   ],
   "source": [
    "# '이'씨 성을 가진 데이터를 조회해주세요\n",
    "data[data[\"이름\"].str.startswith(\"이\")]"
   ]
  },
  {
   "cell_type": "code",
   "execution_count": 55,
   "metadata": {},
   "outputs": [
    {
     "data": {
      "text/html": [
       "<div>\n",
       "<style scoped>\n",
       "    .dataframe tbody tr th:only-of-type {\n",
       "        vertical-align: middle;\n",
       "    }\n",
       "\n",
       "    .dataframe tbody tr th {\n",
       "        vertical-align: top;\n",
       "    }\n",
       "\n",
       "    .dataframe thead th {\n",
       "        text-align: right;\n",
       "    }\n",
       "</style>\n",
       "<table border=\"1\" class=\"dataframe\">\n",
       "  <thead>\n",
       "    <tr style=\"text-align: right;\">\n",
       "      <th></th>\n",
       "      <th>이름</th>\n",
       "      <th>나이</th>\n",
       "      <th>지역</th>\n",
       "    </tr>\n",
       "  </thead>\n",
       "  <tbody>\n",
       "    <tr>\n",
       "      <th>0</th>\n",
       "      <td>홍길동</td>\n",
       "      <td>25</td>\n",
       "      <td>서울</td>\n",
       "    </tr>\n",
       "    <tr>\n",
       "      <th>1</th>\n",
       "      <td>김준기</td>\n",
       "      <td>21</td>\n",
       "      <td>서울</td>\n",
       "    </tr>\n",
       "  </tbody>\n",
       "</table>\n",
       "</div>"
      ],
      "text/plain": [
       "    이름  나이  지역\n",
       "0  홍길동  25  서울\n",
       "1  김준기  21  서울"
      ]
     },
     "execution_count": 55,
     "metadata": {},
     "output_type": "execute_result"
    }
   ],
   "source": [
    "# 지역이 서울인 데이터를 조회해주세요\n",
    "data[data[\"지역\"] == \"서울\"]"
   ]
  },
  {
   "cell_type": "code",
   "execution_count": 56,
   "metadata": {},
   "outputs": [
    {
     "data": {
      "text/html": [
       "<div>\n",
       "<style scoped>\n",
       "    .dataframe tbody tr th:only-of-type {\n",
       "        vertical-align: middle;\n",
       "    }\n",
       "\n",
       "    .dataframe tbody tr th {\n",
       "        vertical-align: top;\n",
       "    }\n",
       "\n",
       "    .dataframe thead th {\n",
       "        text-align: right;\n",
       "    }\n",
       "</style>\n",
       "<table border=\"1\" class=\"dataframe\">\n",
       "  <thead>\n",
       "    <tr style=\"text-align: right;\">\n",
       "      <th></th>\n",
       "      <th>이름</th>\n",
       "      <th>나이</th>\n",
       "      <th>지역</th>\n",
       "    </tr>\n",
       "  </thead>\n",
       "  <tbody>\n",
       "    <tr>\n",
       "      <th>4</th>\n",
       "      <td>최명기</td>\n",
       "      <td>31</td>\n",
       "      <td>부산</td>\n",
       "    </tr>\n",
       "  </tbody>\n",
       "</table>\n",
       "</div>"
      ],
      "text/plain": [
       "    이름  나이  지역\n",
       "4  최명기  31  부산"
      ]
     },
     "execution_count": 56,
     "metadata": {},
     "output_type": "execute_result"
    }
   ],
   "source": [
    "# 지역이 부산이고 '최'씨 성을 가진 사람의 나이를 조회해주세요\n",
    "data[(data[\"지역\"] == \"부산\") & (data[\"이름\"].str.startswith(\"최\"))]"
   ]
  },
  {
   "cell_type": "markdown",
   "metadata": {},
   "source": [
    "## 3) 편집"
   ]
  },
  {
   "cell_type": "markdown",
   "metadata": {},
   "source": [
    "### (1) 인덱스 제거"
   ]
  },
  {
   "cell_type": "code",
   "execution_count": 57,
   "metadata": {},
   "outputs": [
    {
     "data": {
      "text/html": [
       "<div>\n",
       "<style scoped>\n",
       "    .dataframe tbody tr th:only-of-type {\n",
       "        vertical-align: middle;\n",
       "    }\n",
       "\n",
       "    .dataframe tbody tr th {\n",
       "        vertical-align: top;\n",
       "    }\n",
       "\n",
       "    .dataframe thead th {\n",
       "        text-align: right;\n",
       "    }\n",
       "</style>\n",
       "<table border=\"1\" class=\"dataframe\">\n",
       "  <thead>\n",
       "    <tr style=\"text-align: right;\">\n",
       "      <th></th>\n",
       "      <th>이름</th>\n",
       "      <th>성별</th>\n",
       "      <th>나이</th>\n",
       "      <th>키</th>\n",
       "    </tr>\n",
       "  </thead>\n",
       "  <tbody>\n",
       "    <tr>\n",
       "      <th>0</th>\n",
       "      <td>김영철</td>\n",
       "      <td>M</td>\n",
       "      <td>24</td>\n",
       "      <td>179.4</td>\n",
       "    </tr>\n",
       "    <tr>\n",
       "      <th>1</th>\n",
       "      <td>송윤지</td>\n",
       "      <td>F</td>\n",
       "      <td>31</td>\n",
       "      <td>161.0</td>\n",
       "    </tr>\n",
       "    <tr>\n",
       "      <th>2</th>\n",
       "      <td>임수현</td>\n",
       "      <td>F</td>\n",
       "      <td>26</td>\n",
       "      <td>174.0</td>\n",
       "    </tr>\n",
       "  </tbody>\n",
       "</table>\n",
       "</div>"
      ],
      "text/plain": [
       "    이름 성별  나이      키\n",
       "0  김영철  M  24  179.4\n",
       "1  송윤지  F  31  161.0\n",
       "2  임수현  F  26  174.0"
      ]
     },
     "execution_count": 57,
     "metadata": {},
     "output_type": "execute_result"
    }
   ],
   "source": [
    "data4.reset_index()"
   ]
  },
  {
   "cell_type": "code",
   "execution_count": 58,
   "metadata": {},
   "outputs": [
    {
     "data": {
      "text/html": [
       "<div>\n",
       "<style scoped>\n",
       "    .dataframe tbody tr th:only-of-type {\n",
       "        vertical-align: middle;\n",
       "    }\n",
       "\n",
       "    .dataframe tbody tr th {\n",
       "        vertical-align: top;\n",
       "    }\n",
       "\n",
       "    .dataframe thead th {\n",
       "        text-align: right;\n",
       "    }\n",
       "</style>\n",
       "<table border=\"1\" class=\"dataframe\">\n",
       "  <thead>\n",
       "    <tr style=\"text-align: right;\">\n",
       "      <th></th>\n",
       "      <th>성별</th>\n",
       "      <th>나이</th>\n",
       "      <th>키</th>\n",
       "    </tr>\n",
       "    <tr>\n",
       "      <th>이름</th>\n",
       "      <th></th>\n",
       "      <th></th>\n",
       "      <th></th>\n",
       "    </tr>\n",
       "  </thead>\n",
       "  <tbody>\n",
       "    <tr>\n",
       "      <th>김영철</th>\n",
       "      <td>M</td>\n",
       "      <td>24</td>\n",
       "      <td>179.4</td>\n",
       "    </tr>\n",
       "    <tr>\n",
       "      <th>송윤지</th>\n",
       "      <td>F</td>\n",
       "      <td>31</td>\n",
       "      <td>161.0</td>\n",
       "    </tr>\n",
       "    <tr>\n",
       "      <th>임수현</th>\n",
       "      <td>F</td>\n",
       "      <td>26</td>\n",
       "      <td>174.0</td>\n",
       "    </tr>\n",
       "  </tbody>\n",
       "</table>\n",
       "</div>"
      ],
      "text/plain": [
       "    성별  나이      키\n",
       "이름               \n",
       "김영철  M  24  179.4\n",
       "송윤지  F  31  161.0\n",
       "임수현  F  26  174.0"
      ]
     },
     "execution_count": 58,
     "metadata": {},
     "output_type": "execute_result"
    }
   ],
   "source": [
    "data4"
   ]
  },
  {
   "cell_type": "markdown",
   "metadata": {},
   "source": [
    "### (2) 데이터 병합"
   ]
  },
  {
   "cell_type": "code",
   "execution_count": 59,
   "metadata": {},
   "outputs": [
    {
     "data": {
      "text/html": [
       "<div>\n",
       "<style scoped>\n",
       "    .dataframe tbody tr th:only-of-type {\n",
       "        vertical-align: middle;\n",
       "    }\n",
       "\n",
       "    .dataframe tbody tr th {\n",
       "        vertical-align: top;\n",
       "    }\n",
       "\n",
       "    .dataframe thead th {\n",
       "        text-align: right;\n",
       "    }\n",
       "</style>\n",
       "<table border=\"1\" class=\"dataframe\">\n",
       "  <thead>\n",
       "    <tr style=\"text-align: right;\">\n",
       "      <th></th>\n",
       "      <th>지역명</th>\n",
       "      <th>지점수</th>\n",
       "      <th>매출</th>\n",
       "    </tr>\n",
       "  </thead>\n",
       "  <tbody>\n",
       "    <tr>\n",
       "      <th>0</th>\n",
       "      <td>강남</td>\n",
       "      <td>1</td>\n",
       "      <td>2</td>\n",
       "    </tr>\n",
       "    <tr>\n",
       "      <th>1</th>\n",
       "      <td>서초</td>\n",
       "      <td>4</td>\n",
       "      <td>5</td>\n",
       "    </tr>\n",
       "    <tr>\n",
       "      <th>2</th>\n",
       "      <td>노원</td>\n",
       "      <td>5</td>\n",
       "      <td>6</td>\n",
       "    </tr>\n",
       "  </tbody>\n",
       "</table>\n",
       "</div>"
      ],
      "text/plain": [
       "  지역명  지점수  매출\n",
       "0  강남    1   2\n",
       "1  서초    4   5\n",
       "2  노원    5   6"
      ]
     },
     "execution_count": 59,
     "metadata": {},
     "output_type": "execute_result"
    }
   ],
   "source": [
    "data1 = pd.DataFrame(\n",
    "    [[\"강남\", 1, 2], [\"서초\", 4, 5], [\"노원\", 5, 6]],\n",
    "    columns = [\"지역명\", \"지점수\", \"매출\"]\n",
    ")\n",
    "data1"
   ]
  },
  {
   "cell_type": "code",
   "execution_count": 60,
   "metadata": {},
   "outputs": [
    {
     "data": {
      "text/html": [
       "<div>\n",
       "<style scoped>\n",
       "    .dataframe tbody tr th:only-of-type {\n",
       "        vertical-align: middle;\n",
       "    }\n",
       "\n",
       "    .dataframe tbody tr th {\n",
       "        vertical-align: top;\n",
       "    }\n",
       "\n",
       "    .dataframe thead th {\n",
       "        text-align: right;\n",
       "    }\n",
       "</style>\n",
       "<table border=\"1\" class=\"dataframe\">\n",
       "  <thead>\n",
       "    <tr style=\"text-align: right;\">\n",
       "      <th></th>\n",
       "      <th>지역명</th>\n",
       "      <th>지점수</th>\n",
       "      <th>매출</th>\n",
       "    </tr>\n",
       "  </thead>\n",
       "  <tbody>\n",
       "    <tr>\n",
       "      <th>0</th>\n",
       "      <td>강남</td>\n",
       "      <td>10</td>\n",
       "      <td>20</td>\n",
       "    </tr>\n",
       "    <tr>\n",
       "      <th>1</th>\n",
       "      <td>도봉</td>\n",
       "      <td>40</td>\n",
       "      <td>50</td>\n",
       "    </tr>\n",
       "    <tr>\n",
       "      <th>2</th>\n",
       "      <td>노원</td>\n",
       "      <td>50</td>\n",
       "      <td>60</td>\n",
       "    </tr>\n",
       "  </tbody>\n",
       "</table>\n",
       "</div>"
      ],
      "text/plain": [
       "  지역명  지점수  매출\n",
       "0  강남   10  20\n",
       "1  도봉   40  50\n",
       "2  노원   50  60"
      ]
     },
     "execution_count": 60,
     "metadata": {},
     "output_type": "execute_result"
    }
   ],
   "source": [
    "data2 = pd.DataFrame(\n",
    "    [[\"강남\", 10, 20], [\"도봉\", 40, 50], [\"노원\", 50, 60]],\n",
    "    columns = [\"지역명\", \"지점수\", \"매출\"]\n",
    ")\n",
    "data2"
   ]
  },
  {
   "cell_type": "code",
   "execution_count": 61,
   "metadata": {},
   "outputs": [
    {
     "data": {
      "text/html": [
       "<div>\n",
       "<style scoped>\n",
       "    .dataframe tbody tr th:only-of-type {\n",
       "        vertical-align: middle;\n",
       "    }\n",
       "\n",
       "    .dataframe tbody tr th {\n",
       "        vertical-align: top;\n",
       "    }\n",
       "\n",
       "    .dataframe thead th {\n",
       "        text-align: right;\n",
       "    }\n",
       "</style>\n",
       "<table border=\"1\" class=\"dataframe\">\n",
       "  <thead>\n",
       "    <tr style=\"text-align: right;\">\n",
       "      <th></th>\n",
       "      <th>지역명</th>\n",
       "      <th>지점수</th>\n",
       "      <th>매출</th>\n",
       "    </tr>\n",
       "  </thead>\n",
       "  <tbody>\n",
       "    <tr>\n",
       "      <th>0</th>\n",
       "      <td>강남강남</td>\n",
       "      <td>11</td>\n",
       "      <td>22</td>\n",
       "    </tr>\n",
       "    <tr>\n",
       "      <th>1</th>\n",
       "      <td>서초도봉</td>\n",
       "      <td>44</td>\n",
       "      <td>55</td>\n",
       "    </tr>\n",
       "    <tr>\n",
       "      <th>2</th>\n",
       "      <td>노원노원</td>\n",
       "      <td>55</td>\n",
       "      <td>66</td>\n",
       "    </tr>\n",
       "  </tbody>\n",
       "</table>\n",
       "</div>"
      ],
      "text/plain": [
       "    지역명  지점수  매출\n",
       "0  강남강남   11  22\n",
       "1  서초도봉   44  55\n",
       "2  노원노원   55  66"
      ]
     },
     "execution_count": 61,
     "metadata": {},
     "output_type": "execute_result"
    }
   ],
   "source": [
    "data1 + data2\n",
    "# 동일한 위치에 있는 값끼리 더해짐\n",
    "# 문자열도 그대로 합쳐진다"
   ]
  },
  {
   "cell_type": "code",
   "execution_count": 62,
   "metadata": {},
   "outputs": [
    {
     "data": {
      "text/html": [
       "<div>\n",
       "<style scoped>\n",
       "    .dataframe tbody tr th:only-of-type {\n",
       "        vertical-align: middle;\n",
       "    }\n",
       "\n",
       "    .dataframe tbody tr th {\n",
       "        vertical-align: top;\n",
       "    }\n",
       "\n",
       "    .dataframe thead th {\n",
       "        text-align: right;\n",
       "    }\n",
       "</style>\n",
       "<table border=\"1\" class=\"dataframe\">\n",
       "  <thead>\n",
       "    <tr style=\"text-align: right;\">\n",
       "      <th></th>\n",
       "      <th>지역명</th>\n",
       "      <th>지점수_x</th>\n",
       "      <th>매출_x</th>\n",
       "      <th>지점수_y</th>\n",
       "      <th>매출_y</th>\n",
       "    </tr>\n",
       "  </thead>\n",
       "  <tbody>\n",
       "    <tr>\n",
       "      <th>0</th>\n",
       "      <td>강남</td>\n",
       "      <td>1</td>\n",
       "      <td>2</td>\n",
       "      <td>10.0</td>\n",
       "      <td>20.0</td>\n",
       "    </tr>\n",
       "    <tr>\n",
       "      <th>1</th>\n",
       "      <td>서초</td>\n",
       "      <td>4</td>\n",
       "      <td>5</td>\n",
       "      <td>NaN</td>\n",
       "      <td>NaN</td>\n",
       "    </tr>\n",
       "    <tr>\n",
       "      <th>2</th>\n",
       "      <td>노원</td>\n",
       "      <td>5</td>\n",
       "      <td>6</td>\n",
       "      <td>50.0</td>\n",
       "      <td>60.0</td>\n",
       "    </tr>\n",
       "  </tbody>\n",
       "</table>\n",
       "</div>"
      ],
      "text/plain": [
       "  지역명  지점수_x  매출_x  지점수_y  매출_y\n",
       "0  강남      1     2   10.0  20.0\n",
       "1  서초      4     5    NaN   NaN\n",
       "2  노원      5     6   50.0  60.0"
      ]
     },
     "execution_count": 62,
     "metadata": {},
     "output_type": "execute_result"
    }
   ],
   "source": [
    "total_data1 = pd.merge(\n",
    "    left = data1, \n",
    "    right = data2, \n",
    "    how=\"left\", # right, inner, outer\n",
    "    on = \"지역명\"\n",
    "    )\n",
    "total_data1\n",
    "\n",
    "# left, right : 각 테이블을 기준으로 해당 테이블에 있는 on 을 기준으로 merge"
   ]
  },
  {
   "cell_type": "code",
   "execution_count": 63,
   "metadata": {},
   "outputs": [
    {
     "data": {
      "text/html": [
       "<div>\n",
       "<style scoped>\n",
       "    .dataframe tbody tr th:only-of-type {\n",
       "        vertical-align: middle;\n",
       "    }\n",
       "\n",
       "    .dataframe tbody tr th {\n",
       "        vertical-align: top;\n",
       "    }\n",
       "\n",
       "    .dataframe thead th {\n",
       "        text-align: right;\n",
       "    }\n",
       "</style>\n",
       "<table border=\"1\" class=\"dataframe\">\n",
       "  <thead>\n",
       "    <tr style=\"text-align: right;\">\n",
       "      <th></th>\n",
       "      <th>지역명</th>\n",
       "      <th>지점수_x</th>\n",
       "      <th>매출_x</th>\n",
       "      <th>지점수_y</th>\n",
       "      <th>매출_y</th>\n",
       "    </tr>\n",
       "  </thead>\n",
       "  <tbody>\n",
       "    <tr>\n",
       "      <th>0</th>\n",
       "      <td>강남</td>\n",
       "      <td>1.0</td>\n",
       "      <td>2.0</td>\n",
       "      <td>10</td>\n",
       "      <td>20</td>\n",
       "    </tr>\n",
       "    <tr>\n",
       "      <th>1</th>\n",
       "      <td>도봉</td>\n",
       "      <td>NaN</td>\n",
       "      <td>NaN</td>\n",
       "      <td>40</td>\n",
       "      <td>50</td>\n",
       "    </tr>\n",
       "    <tr>\n",
       "      <th>2</th>\n",
       "      <td>노원</td>\n",
       "      <td>5.0</td>\n",
       "      <td>6.0</td>\n",
       "      <td>50</td>\n",
       "      <td>60</td>\n",
       "    </tr>\n",
       "  </tbody>\n",
       "</table>\n",
       "</div>"
      ],
      "text/plain": [
       "  지역명  지점수_x  매출_x  지점수_y  매출_y\n",
       "0  강남    1.0   2.0     10    20\n",
       "1  도봉    NaN   NaN     40    50\n",
       "2  노원    5.0   6.0     50    60"
      ]
     },
     "execution_count": 63,
     "metadata": {},
     "output_type": "execute_result"
    }
   ],
   "source": [
    "total_data2 = pd.merge(\n",
    "    left = data1, \n",
    "    right = data2, \n",
    "    how=\"right\", # right, inner, outer\n",
    "    on = \"지역명\"\n",
    "    )\n",
    "total_data2"
   ]
  },
  {
   "cell_type": "code",
   "execution_count": 64,
   "metadata": {},
   "outputs": [
    {
     "data": {
      "text/html": [
       "<div>\n",
       "<style scoped>\n",
       "    .dataframe tbody tr th:only-of-type {\n",
       "        vertical-align: middle;\n",
       "    }\n",
       "\n",
       "    .dataframe tbody tr th {\n",
       "        vertical-align: top;\n",
       "    }\n",
       "\n",
       "    .dataframe thead th {\n",
       "        text-align: right;\n",
       "    }\n",
       "</style>\n",
       "<table border=\"1\" class=\"dataframe\">\n",
       "  <thead>\n",
       "    <tr style=\"text-align: right;\">\n",
       "      <th></th>\n",
       "      <th>지역명</th>\n",
       "      <th>지점수_x</th>\n",
       "      <th>매출_x</th>\n",
       "      <th>지점수_y</th>\n",
       "      <th>매출_y</th>\n",
       "    </tr>\n",
       "  </thead>\n",
       "  <tbody>\n",
       "    <tr>\n",
       "      <th>0</th>\n",
       "      <td>강남</td>\n",
       "      <td>1</td>\n",
       "      <td>2</td>\n",
       "      <td>10</td>\n",
       "      <td>20</td>\n",
       "    </tr>\n",
       "    <tr>\n",
       "      <th>1</th>\n",
       "      <td>노원</td>\n",
       "      <td>5</td>\n",
       "      <td>6</td>\n",
       "      <td>50</td>\n",
       "      <td>60</td>\n",
       "    </tr>\n",
       "  </tbody>\n",
       "</table>\n",
       "</div>"
      ],
      "text/plain": [
       "  지역명  지점수_x  매출_x  지점수_y  매출_y\n",
       "0  강남      1     2     10    20\n",
       "1  노원      5     6     50    60"
      ]
     },
     "execution_count": 64,
     "metadata": {},
     "output_type": "execute_result"
    }
   ],
   "source": [
    "total_data3 = pd.merge(\n",
    "    left = data1, \n",
    "    right = data2, \n",
    "    how=\"inner\", # right, inner, outer\n",
    "    on = \"지역명\"\n",
    "    )\n",
    "total_data3\n",
    "\n",
    "# inner : 두 테이블에서 on 에 대해서 공통되는 행만 머지"
   ]
  },
  {
   "cell_type": "code",
   "execution_count": 65,
   "metadata": {},
   "outputs": [
    {
     "data": {
      "text/html": [
       "<div>\n",
       "<style scoped>\n",
       "    .dataframe tbody tr th:only-of-type {\n",
       "        vertical-align: middle;\n",
       "    }\n",
       "\n",
       "    .dataframe tbody tr th {\n",
       "        vertical-align: top;\n",
       "    }\n",
       "\n",
       "    .dataframe thead th {\n",
       "        text-align: right;\n",
       "    }\n",
       "</style>\n",
       "<table border=\"1\" class=\"dataframe\">\n",
       "  <thead>\n",
       "    <tr style=\"text-align: right;\">\n",
       "      <th></th>\n",
       "      <th>지역명</th>\n",
       "      <th>지점수_x</th>\n",
       "      <th>매출_x</th>\n",
       "      <th>지점수_y</th>\n",
       "      <th>매출_y</th>\n",
       "    </tr>\n",
       "  </thead>\n",
       "  <tbody>\n",
       "    <tr>\n",
       "      <th>0</th>\n",
       "      <td>강남</td>\n",
       "      <td>1.0</td>\n",
       "      <td>2.0</td>\n",
       "      <td>10.0</td>\n",
       "      <td>20.0</td>\n",
       "    </tr>\n",
       "    <tr>\n",
       "      <th>1</th>\n",
       "      <td>노원</td>\n",
       "      <td>5.0</td>\n",
       "      <td>6.0</td>\n",
       "      <td>50.0</td>\n",
       "      <td>60.0</td>\n",
       "    </tr>\n",
       "    <tr>\n",
       "      <th>2</th>\n",
       "      <td>도봉</td>\n",
       "      <td>NaN</td>\n",
       "      <td>NaN</td>\n",
       "      <td>40.0</td>\n",
       "      <td>50.0</td>\n",
       "    </tr>\n",
       "    <tr>\n",
       "      <th>3</th>\n",
       "      <td>서초</td>\n",
       "      <td>4.0</td>\n",
       "      <td>5.0</td>\n",
       "      <td>NaN</td>\n",
       "      <td>NaN</td>\n",
       "    </tr>\n",
       "  </tbody>\n",
       "</table>\n",
       "</div>"
      ],
      "text/plain": [
       "  지역명  지점수_x  매출_x  지점수_y  매출_y\n",
       "0  강남    1.0   2.0   10.0  20.0\n",
       "1  노원    5.0   6.0   50.0  60.0\n",
       "2  도봉    NaN   NaN   40.0  50.0\n",
       "3  서초    4.0   5.0    NaN   NaN"
      ]
     },
     "execution_count": 65,
     "metadata": {},
     "output_type": "execute_result"
    }
   ],
   "source": [
    "total_data4 = pd.merge(\n",
    "    left = data1, \n",
    "    right = data2, \n",
    "    how=\"outer\", # right, inner, outer\n",
    "    on = \"지역명\"\n",
    "    )\n",
    "total_data4\n",
    "\n",
    "# outer : 두 테이블에서 on에 대해서 공통되는 행을 머지하고, \n",
    "# 공통되지 않는 경우 Nan 으로 처리"
   ]
  },
  {
   "cell_type": "markdown",
   "metadata": {},
   "source": [
    "### (3) 결측치 처리"
   ]
  },
  {
   "cell_type": "code",
   "execution_count": 66,
   "metadata": {},
   "outputs": [
    {
     "name": "stdout",
     "output_type": "stream",
     "text": [
      "<class 'pandas.core.frame.DataFrame'>\n",
      "RangeIndex: 4 entries, 0 to 3\n",
      "Data columns (total 5 columns):\n",
      " #   Column  Non-Null Count  Dtype  \n",
      "---  ------  --------------  -----  \n",
      " 0   지역명     4 non-null      object \n",
      " 1   지점수_x   3 non-null      float64\n",
      " 2   매출_x    3 non-null      float64\n",
      " 3   지점수_y   3 non-null      float64\n",
      " 4   매출_y    3 non-null      float64\n",
      "dtypes: float64(4), object(1)\n",
      "memory usage: 292.0+ bytes\n"
     ]
    }
   ],
   "source": [
    "total_data4.info()"
   ]
  },
  {
   "cell_type": "code",
   "execution_count": 67,
   "metadata": {},
   "outputs": [
    {
     "data": {
      "text/html": [
       "<div>\n",
       "<style scoped>\n",
       "    .dataframe tbody tr th:only-of-type {\n",
       "        vertical-align: middle;\n",
       "    }\n",
       "\n",
       "    .dataframe tbody tr th {\n",
       "        vertical-align: top;\n",
       "    }\n",
       "\n",
       "    .dataframe thead th {\n",
       "        text-align: right;\n",
       "    }\n",
       "</style>\n",
       "<table border=\"1\" class=\"dataframe\">\n",
       "  <thead>\n",
       "    <tr style=\"text-align: right;\">\n",
       "      <th></th>\n",
       "      <th>지역명</th>\n",
       "      <th>지점수_x</th>\n",
       "      <th>매출_x</th>\n",
       "      <th>지점수_y</th>\n",
       "      <th>매출_y</th>\n",
       "    </tr>\n",
       "  </thead>\n",
       "  <tbody>\n",
       "    <tr>\n",
       "      <th>0</th>\n",
       "      <td>False</td>\n",
       "      <td>False</td>\n",
       "      <td>False</td>\n",
       "      <td>False</td>\n",
       "      <td>False</td>\n",
       "    </tr>\n",
       "    <tr>\n",
       "      <th>1</th>\n",
       "      <td>False</td>\n",
       "      <td>False</td>\n",
       "      <td>False</td>\n",
       "      <td>False</td>\n",
       "      <td>False</td>\n",
       "    </tr>\n",
       "    <tr>\n",
       "      <th>2</th>\n",
       "      <td>False</td>\n",
       "      <td>True</td>\n",
       "      <td>True</td>\n",
       "      <td>False</td>\n",
       "      <td>False</td>\n",
       "    </tr>\n",
       "    <tr>\n",
       "      <th>3</th>\n",
       "      <td>False</td>\n",
       "      <td>False</td>\n",
       "      <td>False</td>\n",
       "      <td>True</td>\n",
       "      <td>True</td>\n",
       "    </tr>\n",
       "  </tbody>\n",
       "</table>\n",
       "</div>"
      ],
      "text/plain": [
       "     지역명  지점수_x   매출_x  지점수_y   매출_y\n",
       "0  False  False  False  False  False\n",
       "1  False  False  False  False  False\n",
       "2  False   True   True  False  False\n",
       "3  False  False  False   True   True"
      ]
     },
     "execution_count": 67,
     "metadata": {},
     "output_type": "execute_result"
    }
   ],
   "source": [
    "total_data4.isna()"
   ]
  },
  {
   "cell_type": "code",
   "execution_count": 68,
   "metadata": {},
   "outputs": [
    {
     "data": {
      "text/plain": [
       "지역명      0\n",
       "지점수_x    1\n",
       "매출_x     1\n",
       "지점수_y    1\n",
       "매출_y     1\n",
       "dtype: int64"
      ]
     },
     "execution_count": 68,
     "metadata": {},
     "output_type": "execute_result"
    }
   ],
   "source": [
    "total_data4.isna().sum(axis=0)"
   ]
  },
  {
   "cell_type": "code",
   "execution_count": 69,
   "metadata": {},
   "outputs": [
    {
     "data": {
      "text/plain": [
       "0    0\n",
       "1    0\n",
       "2    2\n",
       "3    2\n",
       "dtype: int64"
      ]
     },
     "execution_count": 69,
     "metadata": {},
     "output_type": "execute_result"
    }
   ],
   "source": [
    "total_data4.isna().sum(axis=1)"
   ]
  },
  {
   "cell_type": "code",
   "execution_count": 70,
   "metadata": {},
   "outputs": [
    {
     "data": {
      "text/html": [
       "<div>\n",
       "<style scoped>\n",
       "    .dataframe tbody tr th:only-of-type {\n",
       "        vertical-align: middle;\n",
       "    }\n",
       "\n",
       "    .dataframe tbody tr th {\n",
       "        vertical-align: top;\n",
       "    }\n",
       "\n",
       "    .dataframe thead th {\n",
       "        text-align: right;\n",
       "    }\n",
       "</style>\n",
       "<table border=\"1\" class=\"dataframe\">\n",
       "  <thead>\n",
       "    <tr style=\"text-align: right;\">\n",
       "      <th></th>\n",
       "      <th>지역명</th>\n",
       "      <th>지점수_x</th>\n",
       "      <th>매출_x</th>\n",
       "      <th>지점수_y</th>\n",
       "      <th>매출_y</th>\n",
       "    </tr>\n",
       "  </thead>\n",
       "  <tbody>\n",
       "    <tr>\n",
       "      <th>0</th>\n",
       "      <td>강남</td>\n",
       "      <td>1.0</td>\n",
       "      <td>2.0</td>\n",
       "      <td>10.0</td>\n",
       "      <td>20.0</td>\n",
       "    </tr>\n",
       "    <tr>\n",
       "      <th>1</th>\n",
       "      <td>노원</td>\n",
       "      <td>5.0</td>\n",
       "      <td>6.0</td>\n",
       "      <td>50.0</td>\n",
       "      <td>60.0</td>\n",
       "    </tr>\n",
       "  </tbody>\n",
       "</table>\n",
       "</div>"
      ],
      "text/plain": [
       "  지역명  지점수_x  매출_x  지점수_y  매출_y\n",
       "0  강남    1.0   2.0   10.0  20.0\n",
       "1  노원    5.0   6.0   50.0  60.0"
      ]
     },
     "execution_count": 70,
     "metadata": {},
     "output_type": "execute_result"
    }
   ],
   "source": [
    "# 결측치 삭제 - 결측치가 하나라도 발생한 행은 삭제\n",
    "total_data4.dropna()"
   ]
  },
  {
   "cell_type": "code",
   "execution_count": 71,
   "metadata": {},
   "outputs": [],
   "source": [
    "# 특정 열의 결측치 발생한 데이터 삭제"
   ]
  },
  {
   "cell_type": "code",
   "execution_count": 72,
   "metadata": {},
   "outputs": [
    {
     "data": {
      "text/html": [
       "<div>\n",
       "<style scoped>\n",
       "    .dataframe tbody tr th:only-of-type {\n",
       "        vertical-align: middle;\n",
       "    }\n",
       "\n",
       "    .dataframe tbody tr th {\n",
       "        vertical-align: top;\n",
       "    }\n",
       "\n",
       "    .dataframe thead th {\n",
       "        text-align: right;\n",
       "    }\n",
       "</style>\n",
       "<table border=\"1\" class=\"dataframe\">\n",
       "  <thead>\n",
       "    <tr style=\"text-align: right;\">\n",
       "      <th></th>\n",
       "      <th>지역명</th>\n",
       "      <th>지점수_x</th>\n",
       "      <th>매출_x</th>\n",
       "      <th>지점수_y</th>\n",
       "      <th>매출_y</th>\n",
       "    </tr>\n",
       "  </thead>\n",
       "  <tbody>\n",
       "    <tr>\n",
       "      <th>0</th>\n",
       "      <td>강남</td>\n",
       "      <td>1.0</td>\n",
       "      <td>2.0</td>\n",
       "      <td>10.0</td>\n",
       "      <td>20.0</td>\n",
       "    </tr>\n",
       "    <tr>\n",
       "      <th>1</th>\n",
       "      <td>노원</td>\n",
       "      <td>5.0</td>\n",
       "      <td>6.0</td>\n",
       "      <td>50.0</td>\n",
       "      <td>60.0</td>\n",
       "    </tr>\n",
       "    <tr>\n",
       "      <th>2</th>\n",
       "      <td>도봉</td>\n",
       "      <td>NaN</td>\n",
       "      <td>NaN</td>\n",
       "      <td>40.0</td>\n",
       "      <td>50.0</td>\n",
       "    </tr>\n",
       "    <tr>\n",
       "      <th>3</th>\n",
       "      <td>서초</td>\n",
       "      <td>4.0</td>\n",
       "      <td>5.0</td>\n",
       "      <td>NaN</td>\n",
       "      <td>NaN</td>\n",
       "    </tr>\n",
       "  </tbody>\n",
       "</table>\n",
       "</div>"
      ],
      "text/plain": [
       "  지역명  지점수_x  매출_x  지점수_y  매출_y\n",
       "0  강남    1.0   2.0   10.0  20.0\n",
       "1  노원    5.0   6.0   50.0  60.0\n",
       "2  도봉    NaN   NaN   40.0  50.0\n",
       "3  서초    4.0   5.0    NaN   NaN"
      ]
     },
     "execution_count": 72,
     "metadata": {},
     "output_type": "execute_result"
    }
   ],
   "source": [
    "total_data4.dropna(how=\"all\") # any"
   ]
  },
  {
   "cell_type": "code",
   "execution_count": 73,
   "metadata": {},
   "outputs": [
    {
     "data": {
      "text/html": [
       "<div>\n",
       "<style scoped>\n",
       "    .dataframe tbody tr th:only-of-type {\n",
       "        vertical-align: middle;\n",
       "    }\n",
       "\n",
       "    .dataframe tbody tr th {\n",
       "        vertical-align: top;\n",
       "    }\n",
       "\n",
       "    .dataframe thead th {\n",
       "        text-align: right;\n",
       "    }\n",
       "</style>\n",
       "<table border=\"1\" class=\"dataframe\">\n",
       "  <thead>\n",
       "    <tr style=\"text-align: right;\">\n",
       "      <th></th>\n",
       "      <th>지역명</th>\n",
       "      <th>지점수_x</th>\n",
       "      <th>매출_x</th>\n",
       "      <th>지점수_y</th>\n",
       "      <th>매출_y</th>\n",
       "    </tr>\n",
       "  </thead>\n",
       "  <tbody>\n",
       "    <tr>\n",
       "      <th>0</th>\n",
       "      <td>강남</td>\n",
       "      <td>1.0</td>\n",
       "      <td>2.0</td>\n",
       "      <td>10.0</td>\n",
       "      <td>20.0</td>\n",
       "    </tr>\n",
       "    <tr>\n",
       "      <th>1</th>\n",
       "      <td>노원</td>\n",
       "      <td>5.0</td>\n",
       "      <td>6.0</td>\n",
       "      <td>50.0</td>\n",
       "      <td>60.0</td>\n",
       "    </tr>\n",
       "    <tr>\n",
       "      <th>3</th>\n",
       "      <td>서초</td>\n",
       "      <td>4.0</td>\n",
       "      <td>5.0</td>\n",
       "      <td>NaN</td>\n",
       "      <td>NaN</td>\n",
       "    </tr>\n",
       "  </tbody>\n",
       "</table>\n",
       "</div>"
      ],
      "text/plain": [
       "  지역명  지점수_x  매출_x  지점수_y  매출_y\n",
       "0  강남    1.0   2.0   10.0  20.0\n",
       "1  노원    5.0   6.0   50.0  60.0\n",
       "3  서초    4.0   5.0    NaN   NaN"
      ]
     },
     "execution_count": 73,
     "metadata": {},
     "output_type": "execute_result"
    }
   ],
   "source": [
    "total_data4.dropna(subset=[\"지점수_x\"])"
   ]
  },
  {
   "cell_type": "markdown",
   "metadata": {},
   "source": [
    "## 4) 통계"
   ]
  },
  {
   "cell_type": "code",
   "execution_count": 74,
   "metadata": {},
   "outputs": [
    {
     "data": {
      "text/html": [
       "<div>\n",
       "<style scoped>\n",
       "    .dataframe tbody tr th:only-of-type {\n",
       "        vertical-align: middle;\n",
       "    }\n",
       "\n",
       "    .dataframe tbody tr th {\n",
       "        vertical-align: top;\n",
       "    }\n",
       "\n",
       "    .dataframe thead th {\n",
       "        text-align: right;\n",
       "    }\n",
       "</style>\n",
       "<table border=\"1\" class=\"dataframe\">\n",
       "  <thead>\n",
       "    <tr style=\"text-align: right;\">\n",
       "      <th></th>\n",
       "      <th>지점수_x</th>\n",
       "      <th>매출_x</th>\n",
       "      <th>지점수_y</th>\n",
       "      <th>매출_y</th>\n",
       "    </tr>\n",
       "  </thead>\n",
       "  <tbody>\n",
       "    <tr>\n",
       "      <th>count</th>\n",
       "      <td>3.000000</td>\n",
       "      <td>3.000000</td>\n",
       "      <td>3.000000</td>\n",
       "      <td>3.000000</td>\n",
       "    </tr>\n",
       "    <tr>\n",
       "      <th>mean</th>\n",
       "      <td>3.333333</td>\n",
       "      <td>4.333333</td>\n",
       "      <td>33.333333</td>\n",
       "      <td>43.333333</td>\n",
       "    </tr>\n",
       "    <tr>\n",
       "      <th>std</th>\n",
       "      <td>2.081666</td>\n",
       "      <td>2.081666</td>\n",
       "      <td>20.816660</td>\n",
       "      <td>20.816660</td>\n",
       "    </tr>\n",
       "    <tr>\n",
       "      <th>min</th>\n",
       "      <td>1.000000</td>\n",
       "      <td>2.000000</td>\n",
       "      <td>10.000000</td>\n",
       "      <td>20.000000</td>\n",
       "    </tr>\n",
       "    <tr>\n",
       "      <th>25%</th>\n",
       "      <td>2.500000</td>\n",
       "      <td>3.500000</td>\n",
       "      <td>25.000000</td>\n",
       "      <td>35.000000</td>\n",
       "    </tr>\n",
       "    <tr>\n",
       "      <th>50%</th>\n",
       "      <td>4.000000</td>\n",
       "      <td>5.000000</td>\n",
       "      <td>40.000000</td>\n",
       "      <td>50.000000</td>\n",
       "    </tr>\n",
       "    <tr>\n",
       "      <th>75%</th>\n",
       "      <td>4.500000</td>\n",
       "      <td>5.500000</td>\n",
       "      <td>45.000000</td>\n",
       "      <td>55.000000</td>\n",
       "    </tr>\n",
       "    <tr>\n",
       "      <th>max</th>\n",
       "      <td>5.000000</td>\n",
       "      <td>6.000000</td>\n",
       "      <td>50.000000</td>\n",
       "      <td>60.000000</td>\n",
       "    </tr>\n",
       "  </tbody>\n",
       "</table>\n",
       "</div>"
      ],
      "text/plain": [
       "          지점수_x      매출_x      지점수_y       매출_y\n",
       "count  3.000000  3.000000   3.000000   3.000000\n",
       "mean   3.333333  4.333333  33.333333  43.333333\n",
       "std    2.081666  2.081666  20.816660  20.816660\n",
       "min    1.000000  2.000000  10.000000  20.000000\n",
       "25%    2.500000  3.500000  25.000000  35.000000\n",
       "50%    4.000000  5.000000  40.000000  50.000000\n",
       "75%    4.500000  5.500000  45.000000  55.000000\n",
       "max    5.000000  6.000000  50.000000  60.000000"
      ]
     },
     "execution_count": 74,
     "metadata": {},
     "output_type": "execute_result"
    }
   ],
   "source": [
    "total_data4.describe()"
   ]
  },
  {
   "cell_type": "markdown",
   "metadata": {},
   "source": [
    "# 3. 실습"
   ]
  },
  {
   "cell_type": "markdown",
   "metadata": {},
   "source": [
    "## 예제 1. cdata.csv 불러오기"
   ]
  },
  {
   "cell_type": "code",
   "execution_count": 75,
   "metadata": {},
   "outputs": [
    {
     "data": {
      "text/html": [
       "<div>\n",
       "<style scoped>\n",
       "    .dataframe tbody tr th:only-of-type {\n",
       "        vertical-align: middle;\n",
       "    }\n",
       "\n",
       "    .dataframe tbody tr th {\n",
       "        vertical-align: top;\n",
       "    }\n",
       "\n",
       "    .dataframe thead th {\n",
       "        text-align: right;\n",
       "    }\n",
       "</style>\n",
       "<table border=\"1\" class=\"dataframe\">\n",
       "  <thead>\n",
       "    <tr style=\"text-align: right;\">\n",
       "      <th></th>\n",
       "      <th>Index</th>\n",
       "      <th>No</th>\n",
       "      <th>Age</th>\n",
       "      <th>City</th>\n",
       "    </tr>\n",
       "  </thead>\n",
       "  <tbody>\n",
       "    <tr>\n",
       "      <th>0</th>\n",
       "      <td>1</td>\n",
       "      <td>홍길동</td>\n",
       "      <td>25</td>\n",
       "      <td>서울</td>\n",
       "    </tr>\n",
       "    <tr>\n",
       "      <th>1</th>\n",
       "      <td>2</td>\n",
       "      <td>김준기</td>\n",
       "      <td>21</td>\n",
       "      <td>서울</td>\n",
       "    </tr>\n",
       "    <tr>\n",
       "      <th>2</th>\n",
       "      <td>9</td>\n",
       "      <td>이명식</td>\n",
       "      <td>22</td>\n",
       "      <td>부산</td>\n",
       "    </tr>\n",
       "    <tr>\n",
       "      <th>3</th>\n",
       "      <td>32</td>\n",
       "      <td>방준혁</td>\n",
       "      <td>24</td>\n",
       "      <td>광주</td>\n",
       "    </tr>\n",
       "    <tr>\n",
       "      <th>4</th>\n",
       "      <td>47</td>\n",
       "      <td>최명기</td>\n",
       "      <td>31</td>\n",
       "      <td>부산</td>\n",
       "    </tr>\n",
       "  </tbody>\n",
       "</table>\n",
       "</div>"
      ],
      "text/plain": [
       "   Index   No  Age City\n",
       "0      1  홍길동   25   서울\n",
       "1      2  김준기   21   서울\n",
       "2      9  이명식   22   부산\n",
       "3     32  방준혁   24   광주\n",
       "4     47  최명기   31   부산"
      ]
     },
     "execution_count": 75,
     "metadata": {},
     "output_type": "execute_result"
    }
   ],
   "source": [
    "data = pd.read_csv(\"data/cdata.csv\", encoding=\"cp949\", index_col=0)\n",
    "data.head()"
   ]
  },
  {
   "cell_type": "markdown",
   "metadata": {},
   "source": [
    "## 예제 2. cdata_nohead.csv 불러오기"
   ]
  },
  {
   "cell_type": "code",
   "execution_count": 76,
   "metadata": {},
   "outputs": [
    {
     "data": {
      "text/html": [
       "<div>\n",
       "<style scoped>\n",
       "    .dataframe tbody tr th:only-of-type {\n",
       "        vertical-align: middle;\n",
       "    }\n",
       "\n",
       "    .dataframe tbody tr th {\n",
       "        vertical-align: top;\n",
       "    }\n",
       "\n",
       "    .dataframe thead th {\n",
       "        text-align: right;\n",
       "    }\n",
       "</style>\n",
       "<table border=\"1\" class=\"dataframe\">\n",
       "  <thead>\n",
       "    <tr style=\"text-align: right;\">\n",
       "      <th></th>\n",
       "      <th>1</th>\n",
       "      <th>2</th>\n",
       "      <th>3</th>\n",
       "      <th>4</th>\n",
       "    </tr>\n",
       "    <tr>\n",
       "      <th>0</th>\n",
       "      <th></th>\n",
       "      <th></th>\n",
       "      <th></th>\n",
       "      <th></th>\n",
       "    </tr>\n",
       "  </thead>\n",
       "  <tbody>\n",
       "    <tr>\n",
       "      <th>0</th>\n",
       "      <td>1</td>\n",
       "      <td>홍길동</td>\n",
       "      <td>25</td>\n",
       "      <td>서울</td>\n",
       "    </tr>\n",
       "    <tr>\n",
       "      <th>1</th>\n",
       "      <td>2</td>\n",
       "      <td>김준기</td>\n",
       "      <td>21</td>\n",
       "      <td>서울</td>\n",
       "    </tr>\n",
       "    <tr>\n",
       "      <th>2</th>\n",
       "      <td>9</td>\n",
       "      <td>이명식</td>\n",
       "      <td>22</td>\n",
       "      <td>부산</td>\n",
       "    </tr>\n",
       "    <tr>\n",
       "      <th>3</th>\n",
       "      <td>32</td>\n",
       "      <td>방준혁</td>\n",
       "      <td>24</td>\n",
       "      <td>광주</td>\n",
       "    </tr>\n",
       "    <tr>\n",
       "      <th>4</th>\n",
       "      <td>47</td>\n",
       "      <td>최명기</td>\n",
       "      <td>31</td>\n",
       "      <td>부산</td>\n",
       "    </tr>\n",
       "  </tbody>\n",
       "</table>\n",
       "</div>"
      ],
      "text/plain": [
       "    1    2   3   4\n",
       "0                 \n",
       "0   1  홍길동  25  서울\n",
       "1   2  김준기  21  서울\n",
       "2   9  이명식  22  부산\n",
       "3  32  방준혁  24  광주\n",
       "4  47  최명기  31  부산"
      ]
     },
     "execution_count": 76,
     "metadata": {},
     "output_type": "execute_result"
    }
   ],
   "source": [
    "data = pd.read_csv(\"data/cdata_nohead.csv\", \n",
    "                   index_col=0, \n",
    "                   encoding=\"utf-8\", \n",
    "                   header=None\n",
    "                   )\n",
    "data.head()"
   ]
  },
  {
   "cell_type": "code",
   "execution_count": 77,
   "metadata": {},
   "outputs": [
    {
     "data": {
      "text/html": [
       "<div>\n",
       "<style scoped>\n",
       "    .dataframe tbody tr th:only-of-type {\n",
       "        vertical-align: middle;\n",
       "    }\n",
       "\n",
       "    .dataframe tbody tr th {\n",
       "        vertical-align: top;\n",
       "    }\n",
       "\n",
       "    .dataframe thead th {\n",
       "        text-align: right;\n",
       "    }\n",
       "</style>\n",
       "<table border=\"1\" class=\"dataframe\">\n",
       "  <thead>\n",
       "    <tr style=\"text-align: right;\">\n",
       "      <th></th>\n",
       "      <th>1</th>\n",
       "      <th>홍길동</th>\n",
       "      <th>25</th>\n",
       "      <th>서울</th>\n",
       "    </tr>\n",
       "    <tr>\n",
       "      <th>0</th>\n",
       "      <th></th>\n",
       "      <th></th>\n",
       "      <th></th>\n",
       "      <th></th>\n",
       "    </tr>\n",
       "  </thead>\n",
       "  <tbody>\n",
       "    <tr>\n",
       "      <th>1</th>\n",
       "      <td>2</td>\n",
       "      <td>김준기</td>\n",
       "      <td>21</td>\n",
       "      <td>서울</td>\n",
       "    </tr>\n",
       "    <tr>\n",
       "      <th>2</th>\n",
       "      <td>9</td>\n",
       "      <td>이명식</td>\n",
       "      <td>22</td>\n",
       "      <td>부산</td>\n",
       "    </tr>\n",
       "    <tr>\n",
       "      <th>3</th>\n",
       "      <td>32</td>\n",
       "      <td>방준혁</td>\n",
       "      <td>24</td>\n",
       "      <td>광주</td>\n",
       "    </tr>\n",
       "    <tr>\n",
       "      <th>4</th>\n",
       "      <td>47</td>\n",
       "      <td>최명기</td>\n",
       "      <td>31</td>\n",
       "      <td>부산</td>\n",
       "    </tr>\n",
       "  </tbody>\n",
       "</table>\n",
       "</div>"
      ],
      "text/plain": [
       "    1  홍길동  25  서울\n",
       "0                 \n",
       "1   2  김준기  21  서울\n",
       "2   9  이명식  22  부산\n",
       "3  32  방준혁  24  광주\n",
       "4  47  최명기  31  부산"
      ]
     },
     "execution_count": 77,
     "metadata": {},
     "output_type": "execute_result"
    }
   ],
   "source": [
    "data = pd.read_csv(\"data/cdata_nohead.csv\",\n",
    "                   index_col=0,\n",
    "                   encoding=\"utf-8\"\n",
    "                   )\n",
    "data"
   ]
  },
  {
   "cell_type": "code",
   "execution_count": 78,
   "metadata": {},
   "outputs": [
    {
     "data": {
      "text/html": [
       "<div>\n",
       "<style scoped>\n",
       "    .dataframe tbody tr th:only-of-type {\n",
       "        vertical-align: middle;\n",
       "    }\n",
       "\n",
       "    .dataframe tbody tr th {\n",
       "        vertical-align: top;\n",
       "    }\n",
       "\n",
       "    .dataframe thead th {\n",
       "        text-align: right;\n",
       "    }\n",
       "</style>\n",
       "<table border=\"1\" class=\"dataframe\">\n",
       "  <thead>\n",
       "    <tr style=\"text-align: right;\">\n",
       "      <th></th>\n",
       "      <th>1</th>\n",
       "      <th>2</th>\n",
       "      <th>3</th>\n",
       "      <th>4</th>\n",
       "    </tr>\n",
       "    <tr>\n",
       "      <th>0</th>\n",
       "      <th></th>\n",
       "      <th></th>\n",
       "      <th></th>\n",
       "      <th></th>\n",
       "    </tr>\n",
       "  </thead>\n",
       "  <tbody>\n",
       "    <tr>\n",
       "      <th>0</th>\n",
       "      <td>1</td>\n",
       "      <td>홍길동</td>\n",
       "      <td>25</td>\n",
       "      <td>서울</td>\n",
       "    </tr>\n",
       "    <tr>\n",
       "      <th>1</th>\n",
       "      <td>2</td>\n",
       "      <td>김준기</td>\n",
       "      <td>21</td>\n",
       "      <td>서울</td>\n",
       "    </tr>\n",
       "    <tr>\n",
       "      <th>2</th>\n",
       "      <td>9</td>\n",
       "      <td>이명식</td>\n",
       "      <td>22</td>\n",
       "      <td>부산</td>\n",
       "    </tr>\n",
       "    <tr>\n",
       "      <th>3</th>\n",
       "      <td>32</td>\n",
       "      <td>방준혁</td>\n",
       "      <td>24</td>\n",
       "      <td>광주</td>\n",
       "    </tr>\n",
       "    <tr>\n",
       "      <th>4</th>\n",
       "      <td>47</td>\n",
       "      <td>최명기</td>\n",
       "      <td>31</td>\n",
       "      <td>부산</td>\n",
       "    </tr>\n",
       "  </tbody>\n",
       "</table>\n",
       "</div>"
      ],
      "text/plain": [
       "    1    2   3   4\n",
       "0                 \n",
       "0   1  홍길동  25  서울\n",
       "1   2  김준기  21  서울\n",
       "2   9  이명식  22  부산\n",
       "3  32  방준혁  24  광주\n",
       "4  47  최명기  31  부산"
      ]
     },
     "execution_count": 78,
     "metadata": {},
     "output_type": "execute_result"
    }
   ],
   "source": [
    "data = pd.read_csv(\"data/cdata_nohead.csv\", \n",
    "                   index_col=0,\n",
    "                   encoding=\"utf-8\",\n",
    "                   header = None\n",
    "                   )\n",
    "data"
   ]
  },
  {
   "cell_type": "code",
   "execution_count": 79,
   "metadata": {},
   "outputs": [
    {
     "data": {
      "text/html": [
       "<div>\n",
       "<style scoped>\n",
       "    .dataframe tbody tr th:only-of-type {\n",
       "        vertical-align: middle;\n",
       "    }\n",
       "\n",
       "    .dataframe tbody tr th {\n",
       "        vertical-align: top;\n",
       "    }\n",
       "\n",
       "    .dataframe thead tr th {\n",
       "        text-align: left;\n",
       "    }\n",
       "</style>\n",
       "<table border=\"1\" class=\"dataframe\">\n",
       "  <thead>\n",
       "    <tr>\n",
       "      <th>0</th>\n",
       "      <th>1</th>\n",
       "      <th>홍길동</th>\n",
       "      <th>25</th>\n",
       "      <th>서울</th>\n",
       "    </tr>\n",
       "    <tr>\n",
       "      <th>1</th>\n",
       "      <th>2</th>\n",
       "      <th>김준기</th>\n",
       "      <th>21</th>\n",
       "      <th>서울</th>\n",
       "    </tr>\n",
       "    <tr>\n",
       "      <th>3</th>\n",
       "      <th>32</th>\n",
       "      <th>방준혁</th>\n",
       "      <th>24</th>\n",
       "      <th>광주</th>\n",
       "    </tr>\n",
       "  </thead>\n",
       "  <tbody>\n",
       "    <tr>\n",
       "      <th>4</th>\n",
       "      <td>47</td>\n",
       "      <td>최명기</td>\n",
       "      <td>31</td>\n",
       "      <td>부산</td>\n",
       "    </tr>\n",
       "  </tbody>\n",
       "</table>\n",
       "</div>"
      ],
      "text/plain": [
       "0   1  홍길동  25  서울\n",
       "1   2  김준기  21  서울\n",
       "3  32  방준혁  24  광주\n",
       "4  47  최명기  31  부산"
      ]
     },
     "execution_count": 79,
     "metadata": {},
     "output_type": "execute_result"
    }
   ],
   "source": [
    "data = pd.read_csv(\"data/cdata_nohead.csv\", \n",
    "                   index_col=0, \n",
    "                   encoding=\"utf-8\", \n",
    "                   header = [0, 1, 3]\n",
    "                   )\n",
    "data"
   ]
  },
  {
   "cell_type": "code",
   "execution_count": 80,
   "metadata": {},
   "outputs": [
    {
     "data": {
      "text/html": [
       "<div>\n",
       "<style scoped>\n",
       "    .dataframe tbody tr th:only-of-type {\n",
       "        vertical-align: middle;\n",
       "    }\n",
       "\n",
       "    .dataframe tbody tr th {\n",
       "        vertical-align: top;\n",
       "    }\n",
       "\n",
       "    .dataframe thead th {\n",
       "        text-align: right;\n",
       "    }\n",
       "</style>\n",
       "<table border=\"1\" class=\"dataframe\">\n",
       "  <thead>\n",
       "    <tr style=\"text-align: right;\">\n",
       "      <th></th>\n",
       "      <th>index</th>\n",
       "      <th>name</th>\n",
       "      <th>age</th>\n",
       "      <th>city</th>\n",
       "    </tr>\n",
       "  </thead>\n",
       "  <tbody>\n",
       "    <tr>\n",
       "      <th>0</th>\n",
       "      <td>1</td>\n",
       "      <td>홍길동</td>\n",
       "      <td>25</td>\n",
       "      <td>서울</td>\n",
       "    </tr>\n",
       "    <tr>\n",
       "      <th>1</th>\n",
       "      <td>2</td>\n",
       "      <td>김준기</td>\n",
       "      <td>21</td>\n",
       "      <td>서울</td>\n",
       "    </tr>\n",
       "    <tr>\n",
       "      <th>2</th>\n",
       "      <td>9</td>\n",
       "      <td>이명식</td>\n",
       "      <td>22</td>\n",
       "      <td>부산</td>\n",
       "    </tr>\n",
       "    <tr>\n",
       "      <th>3</th>\n",
       "      <td>32</td>\n",
       "      <td>방준혁</td>\n",
       "      <td>24</td>\n",
       "      <td>광주</td>\n",
       "    </tr>\n",
       "    <tr>\n",
       "      <th>4</th>\n",
       "      <td>47</td>\n",
       "      <td>최명기</td>\n",
       "      <td>31</td>\n",
       "      <td>부산</td>\n",
       "    </tr>\n",
       "  </tbody>\n",
       "</table>\n",
       "</div>"
      ],
      "text/plain": [
       "   index name  age city\n",
       "0      1  홍길동   25   서울\n",
       "1      2  김준기   21   서울\n",
       "2      9  이명식   22   부산\n",
       "3     32  방준혁   24   광주\n",
       "4     47  최명기   31   부산"
      ]
     },
     "execution_count": 80,
     "metadata": {},
     "output_type": "execute_result"
    }
   ],
   "source": [
    "data = pd.read_csv(\"data/cdata_nohead.csv\", \n",
    "                   index_col=0,\n",
    "                   header=None,\n",
    "                   encoding=\"utf-8\",\n",
    "                   names =[\"index\", \"name\", \"age\", \"city\"]\n",
    "                   )\n",
    "data.head()"
   ]
  },
  {
   "cell_type": "markdown",
   "metadata": {},
   "source": [
    "## 예제 3. 자동차 회사의연비 데이터"
   ]
  },
  {
   "cell_type": "markdown",
   "metadata": {},
   "source": [
    "* manufacturer : 회사명\n",
    "* cty : 도심연비\n",
    "* hwy : 고속도로 연비"
   ]
  },
  {
   "cell_type": "markdown",
   "metadata": {},
   "source": [
    "## 데이터 불러오기"
   ]
  },
  {
   "cell_type": "code",
   "execution_count": 81,
   "metadata": {},
   "outputs": [
    {
     "data": {
      "text/html": [
       "<div>\n",
       "<style scoped>\n",
       "    .dataframe tbody tr th:only-of-type {\n",
       "        vertical-align: middle;\n",
       "    }\n",
       "\n",
       "    .dataframe tbody tr th {\n",
       "        vertical-align: top;\n",
       "    }\n",
       "\n",
       "    .dataframe thead th {\n",
       "        text-align: right;\n",
       "    }\n",
       "</style>\n",
       "<table border=\"1\" class=\"dataframe\">\n",
       "  <thead>\n",
       "    <tr style=\"text-align: right;\">\n",
       "      <th></th>\n",
       "      <th>manufacturer</th>\n",
       "      <th>model</th>\n",
       "      <th>displ</th>\n",
       "      <th>year</th>\n",
       "      <th>cyl</th>\n",
       "      <th>trans</th>\n",
       "      <th>drv</th>\n",
       "      <th>cty</th>\n",
       "      <th>hwy</th>\n",
       "      <th>fl</th>\n",
       "      <th>category</th>\n",
       "    </tr>\n",
       "  </thead>\n",
       "  <tbody>\n",
       "    <tr>\n",
       "      <th>0</th>\n",
       "      <td>audi</td>\n",
       "      <td>a4</td>\n",
       "      <td>1.8</td>\n",
       "      <td>1999</td>\n",
       "      <td>4</td>\n",
       "      <td>auto(l5)</td>\n",
       "      <td>f</td>\n",
       "      <td>18</td>\n",
       "      <td>29</td>\n",
       "      <td>p</td>\n",
       "      <td>compact</td>\n",
       "    </tr>\n",
       "    <tr>\n",
       "      <th>1</th>\n",
       "      <td>audi</td>\n",
       "      <td>a4</td>\n",
       "      <td>1.8</td>\n",
       "      <td>1999</td>\n",
       "      <td>4</td>\n",
       "      <td>manual(m5)</td>\n",
       "      <td>f</td>\n",
       "      <td>21</td>\n",
       "      <td>29</td>\n",
       "      <td>p</td>\n",
       "      <td>compact</td>\n",
       "    </tr>\n",
       "    <tr>\n",
       "      <th>2</th>\n",
       "      <td>audi</td>\n",
       "      <td>a4</td>\n",
       "      <td>2.0</td>\n",
       "      <td>2008</td>\n",
       "      <td>4</td>\n",
       "      <td>manual(m6)</td>\n",
       "      <td>f</td>\n",
       "      <td>20</td>\n",
       "      <td>31</td>\n",
       "      <td>p</td>\n",
       "      <td>compact</td>\n",
       "    </tr>\n",
       "    <tr>\n",
       "      <th>3</th>\n",
       "      <td>audi</td>\n",
       "      <td>a4</td>\n",
       "      <td>2.0</td>\n",
       "      <td>2008</td>\n",
       "      <td>4</td>\n",
       "      <td>auto(av)</td>\n",
       "      <td>f</td>\n",
       "      <td>21</td>\n",
       "      <td>30</td>\n",
       "      <td>p</td>\n",
       "      <td>compact</td>\n",
       "    </tr>\n",
       "    <tr>\n",
       "      <th>4</th>\n",
       "      <td>audi</td>\n",
       "      <td>a4</td>\n",
       "      <td>2.8</td>\n",
       "      <td>1999</td>\n",
       "      <td>6</td>\n",
       "      <td>auto(l5)</td>\n",
       "      <td>f</td>\n",
       "      <td>16</td>\n",
       "      <td>26</td>\n",
       "      <td>p</td>\n",
       "      <td>compact</td>\n",
       "    </tr>\n",
       "  </tbody>\n",
       "</table>\n",
       "</div>"
      ],
      "text/plain": [
       "  manufacturer model  displ  year  cyl       trans drv  cty  hwy fl category\n",
       "0         audi    a4    1.8  1999    4    auto(l5)   f   18   29  p  compact\n",
       "1         audi    a4    1.8  1999    4  manual(m5)   f   21   29  p  compact\n",
       "2         audi    a4    2.0  2008    4  manual(m6)   f   20   31  p  compact\n",
       "3         audi    a4    2.0  2008    4    auto(av)   f   21   30  p  compact\n",
       "4         audi    a4    2.8  1999    6    auto(l5)   f   16   26  p  compact"
      ]
     },
     "execution_count": 81,
     "metadata": {},
     "output_type": "execute_result"
    }
   ],
   "source": [
    "import pandas as pd\n",
    "mpg = pd.read_csv(\"data/mpg.csv\")\n",
    "mpg.head()"
   ]
  },
  {
   "cell_type": "markdown",
   "metadata": {},
   "source": [
    "## 데이터 파악하기"
   ]
  },
  {
   "cell_type": "code",
   "execution_count": 82,
   "metadata": {},
   "outputs": [
    {
     "name": "stdout",
     "output_type": "stream",
     "text": [
      "<class 'pandas.core.frame.DataFrame'>\n",
      "RangeIndex: 234 entries, 0 to 233\n",
      "Data columns (total 11 columns):\n",
      " #   Column        Non-Null Count  Dtype  \n",
      "---  ------        --------------  -----  \n",
      " 0   manufacturer  234 non-null    object \n",
      " 1   model         234 non-null    object \n",
      " 2   displ         234 non-null    float64\n",
      " 3   year          234 non-null    int64  \n",
      " 4   cyl           234 non-null    int64  \n",
      " 5   trans         234 non-null    object \n",
      " 6   drv           234 non-null    object \n",
      " 7   cty           234 non-null    int64  \n",
      " 8   hwy           234 non-null    int64  \n",
      " 9   fl            234 non-null    object \n",
      " 10  category      234 non-null    object \n",
      "dtypes: float64(1), int64(4), object(6)\n",
      "memory usage: 20.2+ KB\n"
     ]
    }
   ],
   "source": [
    "mpg.info()"
   ]
  },
  {
   "cell_type": "code",
   "execution_count": 83,
   "metadata": {},
   "outputs": [
    {
     "name": "stdout",
     "output_type": "stream",
     "text": [
      "mpg 데이터셋은 234개의 데이터와 11개의 열을 가지고 있음\n"
     ]
    }
   ],
   "source": [
    "nrow, ncol = mpg.shape\n",
    "print(f'mpg 데이터셋은 {nrow}개의 데이터와 {ncol}개의 열을 가지고 있음')"
   ]
  },
  {
   "cell_type": "code",
   "execution_count": 84,
   "metadata": {},
   "outputs": [
    {
     "data": {
      "text/html": [
       "<div>\n",
       "<style scoped>\n",
       "    .dataframe tbody tr th:only-of-type {\n",
       "        vertical-align: middle;\n",
       "    }\n",
       "\n",
       "    .dataframe tbody tr th {\n",
       "        vertical-align: top;\n",
       "    }\n",
       "\n",
       "    .dataframe thead th {\n",
       "        text-align: right;\n",
       "    }\n",
       "</style>\n",
       "<table border=\"1\" class=\"dataframe\">\n",
       "  <thead>\n",
       "    <tr style=\"text-align: right;\">\n",
       "      <th></th>\n",
       "      <th>displ</th>\n",
       "      <th>year</th>\n",
       "      <th>cyl</th>\n",
       "      <th>cty</th>\n",
       "      <th>hwy</th>\n",
       "    </tr>\n",
       "  </thead>\n",
       "  <tbody>\n",
       "    <tr>\n",
       "      <th>count</th>\n",
       "      <td>234.000000</td>\n",
       "      <td>234.000000</td>\n",
       "      <td>234.000000</td>\n",
       "      <td>234.000000</td>\n",
       "      <td>234.000000</td>\n",
       "    </tr>\n",
       "    <tr>\n",
       "      <th>mean</th>\n",
       "      <td>3.471795</td>\n",
       "      <td>2003.500000</td>\n",
       "      <td>5.888889</td>\n",
       "      <td>16.858974</td>\n",
       "      <td>23.440171</td>\n",
       "    </tr>\n",
       "    <tr>\n",
       "      <th>std</th>\n",
       "      <td>1.291959</td>\n",
       "      <td>4.509646</td>\n",
       "      <td>1.611534</td>\n",
       "      <td>4.255946</td>\n",
       "      <td>5.954643</td>\n",
       "    </tr>\n",
       "    <tr>\n",
       "      <th>min</th>\n",
       "      <td>1.600000</td>\n",
       "      <td>1999.000000</td>\n",
       "      <td>4.000000</td>\n",
       "      <td>9.000000</td>\n",
       "      <td>12.000000</td>\n",
       "    </tr>\n",
       "    <tr>\n",
       "      <th>25%</th>\n",
       "      <td>2.400000</td>\n",
       "      <td>1999.000000</td>\n",
       "      <td>4.000000</td>\n",
       "      <td>14.000000</td>\n",
       "      <td>18.000000</td>\n",
       "    </tr>\n",
       "    <tr>\n",
       "      <th>50%</th>\n",
       "      <td>3.300000</td>\n",
       "      <td>2003.500000</td>\n",
       "      <td>6.000000</td>\n",
       "      <td>17.000000</td>\n",
       "      <td>24.000000</td>\n",
       "    </tr>\n",
       "    <tr>\n",
       "      <th>75%</th>\n",
       "      <td>4.600000</td>\n",
       "      <td>2008.000000</td>\n",
       "      <td>8.000000</td>\n",
       "      <td>19.000000</td>\n",
       "      <td>27.000000</td>\n",
       "    </tr>\n",
       "    <tr>\n",
       "      <th>max</th>\n",
       "      <td>7.000000</td>\n",
       "      <td>2008.000000</td>\n",
       "      <td>8.000000</td>\n",
       "      <td>35.000000</td>\n",
       "      <td>44.000000</td>\n",
       "    </tr>\n",
       "  </tbody>\n",
       "</table>\n",
       "</div>"
      ],
      "text/plain": [
       "            displ         year         cyl         cty         hwy\n",
       "count  234.000000   234.000000  234.000000  234.000000  234.000000\n",
       "mean     3.471795  2003.500000    5.888889   16.858974   23.440171\n",
       "std      1.291959     4.509646    1.611534    4.255946    5.954643\n",
       "min      1.600000  1999.000000    4.000000    9.000000   12.000000\n",
       "25%      2.400000  1999.000000    4.000000   14.000000   18.000000\n",
       "50%      3.300000  2003.500000    6.000000   17.000000   24.000000\n",
       "75%      4.600000  2008.000000    8.000000   19.000000   27.000000\n",
       "max      7.000000  2008.000000    8.000000   35.000000   44.000000"
      ]
     },
     "execution_count": 84,
     "metadata": {},
     "output_type": "execute_result"
    }
   ],
   "source": [
    "mpg.describe()"
   ]
  },
  {
   "cell_type": "code",
   "execution_count": 85,
   "metadata": {},
   "outputs": [
    {
     "data": {
      "text/html": [
       "<div>\n",
       "<style scoped>\n",
       "    .dataframe tbody tr th:only-of-type {\n",
       "        vertical-align: middle;\n",
       "    }\n",
       "\n",
       "    .dataframe tbody tr th {\n",
       "        vertical-align: top;\n",
       "    }\n",
       "\n",
       "    .dataframe thead th {\n",
       "        text-align: right;\n",
       "    }\n",
       "</style>\n",
       "<table border=\"1\" class=\"dataframe\">\n",
       "  <thead>\n",
       "    <tr style=\"text-align: right;\">\n",
       "      <th></th>\n",
       "      <th>manufacturer</th>\n",
       "      <th>model</th>\n",
       "      <th>displ</th>\n",
       "      <th>year</th>\n",
       "      <th>cyl</th>\n",
       "      <th>trans</th>\n",
       "      <th>drv</th>\n",
       "      <th>cty</th>\n",
       "      <th>hwy</th>\n",
       "      <th>fl</th>\n",
       "      <th>category</th>\n",
       "    </tr>\n",
       "  </thead>\n",
       "  <tbody>\n",
       "    <tr>\n",
       "      <th>count</th>\n",
       "      <td>234</td>\n",
       "      <td>234</td>\n",
       "      <td>234.000000</td>\n",
       "      <td>234.000000</td>\n",
       "      <td>234.000000</td>\n",
       "      <td>234</td>\n",
       "      <td>234</td>\n",
       "      <td>234.000000</td>\n",
       "      <td>234.000000</td>\n",
       "      <td>234</td>\n",
       "      <td>234</td>\n",
       "    </tr>\n",
       "    <tr>\n",
       "      <th>unique</th>\n",
       "      <td>15</td>\n",
       "      <td>38</td>\n",
       "      <td>NaN</td>\n",
       "      <td>NaN</td>\n",
       "      <td>NaN</td>\n",
       "      <td>10</td>\n",
       "      <td>3</td>\n",
       "      <td>NaN</td>\n",
       "      <td>NaN</td>\n",
       "      <td>5</td>\n",
       "      <td>7</td>\n",
       "    </tr>\n",
       "    <tr>\n",
       "      <th>top</th>\n",
       "      <td>dodge</td>\n",
       "      <td>caravan 2wd</td>\n",
       "      <td>NaN</td>\n",
       "      <td>NaN</td>\n",
       "      <td>NaN</td>\n",
       "      <td>auto(l4)</td>\n",
       "      <td>f</td>\n",
       "      <td>NaN</td>\n",
       "      <td>NaN</td>\n",
       "      <td>r</td>\n",
       "      <td>suv</td>\n",
       "    </tr>\n",
       "    <tr>\n",
       "      <th>freq</th>\n",
       "      <td>37</td>\n",
       "      <td>11</td>\n",
       "      <td>NaN</td>\n",
       "      <td>NaN</td>\n",
       "      <td>NaN</td>\n",
       "      <td>83</td>\n",
       "      <td>106</td>\n",
       "      <td>NaN</td>\n",
       "      <td>NaN</td>\n",
       "      <td>168</td>\n",
       "      <td>62</td>\n",
       "    </tr>\n",
       "    <tr>\n",
       "      <th>mean</th>\n",
       "      <td>NaN</td>\n",
       "      <td>NaN</td>\n",
       "      <td>3.471795</td>\n",
       "      <td>2003.500000</td>\n",
       "      <td>5.888889</td>\n",
       "      <td>NaN</td>\n",
       "      <td>NaN</td>\n",
       "      <td>16.858974</td>\n",
       "      <td>23.440171</td>\n",
       "      <td>NaN</td>\n",
       "      <td>NaN</td>\n",
       "    </tr>\n",
       "    <tr>\n",
       "      <th>std</th>\n",
       "      <td>NaN</td>\n",
       "      <td>NaN</td>\n",
       "      <td>1.291959</td>\n",
       "      <td>4.509646</td>\n",
       "      <td>1.611534</td>\n",
       "      <td>NaN</td>\n",
       "      <td>NaN</td>\n",
       "      <td>4.255946</td>\n",
       "      <td>5.954643</td>\n",
       "      <td>NaN</td>\n",
       "      <td>NaN</td>\n",
       "    </tr>\n",
       "    <tr>\n",
       "      <th>min</th>\n",
       "      <td>NaN</td>\n",
       "      <td>NaN</td>\n",
       "      <td>1.600000</td>\n",
       "      <td>1999.000000</td>\n",
       "      <td>4.000000</td>\n",
       "      <td>NaN</td>\n",
       "      <td>NaN</td>\n",
       "      <td>9.000000</td>\n",
       "      <td>12.000000</td>\n",
       "      <td>NaN</td>\n",
       "      <td>NaN</td>\n",
       "    </tr>\n",
       "    <tr>\n",
       "      <th>25%</th>\n",
       "      <td>NaN</td>\n",
       "      <td>NaN</td>\n",
       "      <td>2.400000</td>\n",
       "      <td>1999.000000</td>\n",
       "      <td>4.000000</td>\n",
       "      <td>NaN</td>\n",
       "      <td>NaN</td>\n",
       "      <td>14.000000</td>\n",
       "      <td>18.000000</td>\n",
       "      <td>NaN</td>\n",
       "      <td>NaN</td>\n",
       "    </tr>\n",
       "    <tr>\n",
       "      <th>50%</th>\n",
       "      <td>NaN</td>\n",
       "      <td>NaN</td>\n",
       "      <td>3.300000</td>\n",
       "      <td>2003.500000</td>\n",
       "      <td>6.000000</td>\n",
       "      <td>NaN</td>\n",
       "      <td>NaN</td>\n",
       "      <td>17.000000</td>\n",
       "      <td>24.000000</td>\n",
       "      <td>NaN</td>\n",
       "      <td>NaN</td>\n",
       "    </tr>\n",
       "    <tr>\n",
       "      <th>75%</th>\n",
       "      <td>NaN</td>\n",
       "      <td>NaN</td>\n",
       "      <td>4.600000</td>\n",
       "      <td>2008.000000</td>\n",
       "      <td>8.000000</td>\n",
       "      <td>NaN</td>\n",
       "      <td>NaN</td>\n",
       "      <td>19.000000</td>\n",
       "      <td>27.000000</td>\n",
       "      <td>NaN</td>\n",
       "      <td>NaN</td>\n",
       "    </tr>\n",
       "    <tr>\n",
       "      <th>max</th>\n",
       "      <td>NaN</td>\n",
       "      <td>NaN</td>\n",
       "      <td>7.000000</td>\n",
       "      <td>2008.000000</td>\n",
       "      <td>8.000000</td>\n",
       "      <td>NaN</td>\n",
       "      <td>NaN</td>\n",
       "      <td>35.000000</td>\n",
       "      <td>44.000000</td>\n",
       "      <td>NaN</td>\n",
       "      <td>NaN</td>\n",
       "    </tr>\n",
       "  </tbody>\n",
       "</table>\n",
       "</div>"
      ],
      "text/plain": [
       "       manufacturer        model       displ         year         cyl  \\\n",
       "count           234          234  234.000000   234.000000  234.000000   \n",
       "unique           15           38         NaN          NaN         NaN   \n",
       "top           dodge  caravan 2wd         NaN          NaN         NaN   \n",
       "freq             37           11         NaN          NaN         NaN   \n",
       "mean            NaN          NaN    3.471795  2003.500000    5.888889   \n",
       "std             NaN          NaN    1.291959     4.509646    1.611534   \n",
       "min             NaN          NaN    1.600000  1999.000000    4.000000   \n",
       "25%             NaN          NaN    2.400000  1999.000000    4.000000   \n",
       "50%             NaN          NaN    3.300000  2003.500000    6.000000   \n",
       "75%             NaN          NaN    4.600000  2008.000000    8.000000   \n",
       "max             NaN          NaN    7.000000  2008.000000    8.000000   \n",
       "\n",
       "           trans  drv         cty         hwy   fl category  \n",
       "count        234  234  234.000000  234.000000  234      234  \n",
       "unique        10    3         NaN         NaN    5        7  \n",
       "top     auto(l4)    f         NaN         NaN    r      suv  \n",
       "freq          83  106         NaN         NaN  168       62  \n",
       "mean         NaN  NaN   16.858974   23.440171  NaN      NaN  \n",
       "std          NaN  NaN    4.255946    5.954643  NaN      NaN  \n",
       "min          NaN  NaN    9.000000   12.000000  NaN      NaN  \n",
       "25%          NaN  NaN   14.000000   18.000000  NaN      NaN  \n",
       "50%          NaN  NaN   17.000000   24.000000  NaN      NaN  \n",
       "75%          NaN  NaN   19.000000   27.000000  NaN      NaN  \n",
       "max          NaN  NaN   35.000000   44.000000  NaN      NaN  "
      ]
     },
     "execution_count": 85,
     "metadata": {},
     "output_type": "execute_result"
    }
   ],
   "source": [
    "mpg.describe(include=\"all\") # exclude"
   ]
  },
  {
   "cell_type": "code",
   "execution_count": 86,
   "metadata": {},
   "outputs": [
    {
     "data": {
      "text/html": [
       "<div>\n",
       "<style scoped>\n",
       "    .dataframe tbody tr th:only-of-type {\n",
       "        vertical-align: middle;\n",
       "    }\n",
       "\n",
       "    .dataframe tbody tr th {\n",
       "        vertical-align: top;\n",
       "    }\n",
       "\n",
       "    .dataframe thead th {\n",
       "        text-align: right;\n",
       "    }\n",
       "</style>\n",
       "<table border=\"1\" class=\"dataframe\">\n",
       "  <thead>\n",
       "    <tr style=\"text-align: right;\">\n",
       "      <th></th>\n",
       "      <th>manufacturer</th>\n",
       "      <th>model</th>\n",
       "      <th>trans</th>\n",
       "      <th>drv</th>\n",
       "      <th>fl</th>\n",
       "      <th>category</th>\n",
       "    </tr>\n",
       "  </thead>\n",
       "  <tbody>\n",
       "    <tr>\n",
       "      <th>count</th>\n",
       "      <td>234</td>\n",
       "      <td>234</td>\n",
       "      <td>234</td>\n",
       "      <td>234</td>\n",
       "      <td>234</td>\n",
       "      <td>234</td>\n",
       "    </tr>\n",
       "    <tr>\n",
       "      <th>unique</th>\n",
       "      <td>15</td>\n",
       "      <td>38</td>\n",
       "      <td>10</td>\n",
       "      <td>3</td>\n",
       "      <td>5</td>\n",
       "      <td>7</td>\n",
       "    </tr>\n",
       "    <tr>\n",
       "      <th>top</th>\n",
       "      <td>dodge</td>\n",
       "      <td>caravan 2wd</td>\n",
       "      <td>auto(l4)</td>\n",
       "      <td>f</td>\n",
       "      <td>r</td>\n",
       "      <td>suv</td>\n",
       "    </tr>\n",
       "    <tr>\n",
       "      <th>freq</th>\n",
       "      <td>37</td>\n",
       "      <td>11</td>\n",
       "      <td>83</td>\n",
       "      <td>106</td>\n",
       "      <td>168</td>\n",
       "      <td>62</td>\n",
       "    </tr>\n",
       "  </tbody>\n",
       "</table>\n",
       "</div>"
      ],
      "text/plain": [
       "       manufacturer        model     trans  drv   fl category\n",
       "count           234          234       234  234  234      234\n",
       "unique           15           38        10    3    5        7\n",
       "top           dodge  caravan 2wd  auto(l4)    f    r      suv\n",
       "freq             37           11        83  106  168       62"
      ]
     },
     "execution_count": 86,
     "metadata": {},
     "output_type": "execute_result"
    }
   ],
   "source": [
    "mpg.describe(include=\"object\")"
   ]
  },
  {
   "cell_type": "code",
   "execution_count": 87,
   "metadata": {},
   "outputs": [
    {
     "data": {
      "text/html": [
       "<div>\n",
       "<style scoped>\n",
       "    .dataframe tbody tr th:only-of-type {\n",
       "        vertical-align: middle;\n",
       "    }\n",
       "\n",
       "    .dataframe tbody tr th {\n",
       "        vertical-align: top;\n",
       "    }\n",
       "\n",
       "    .dataframe thead th {\n",
       "        text-align: right;\n",
       "    }\n",
       "</style>\n",
       "<table border=\"1\" class=\"dataframe\">\n",
       "  <thead>\n",
       "    <tr style=\"text-align: right;\">\n",
       "      <th></th>\n",
       "      <th>manufacturer</th>\n",
       "      <th>model</th>\n",
       "      <th>trans</th>\n",
       "      <th>drv</th>\n",
       "      <th>fl</th>\n",
       "      <th>category</th>\n",
       "    </tr>\n",
       "  </thead>\n",
       "  <tbody>\n",
       "    <tr>\n",
       "      <th>count</th>\n",
       "      <td>234</td>\n",
       "      <td>234</td>\n",
       "      <td>234</td>\n",
       "      <td>234</td>\n",
       "      <td>234</td>\n",
       "      <td>234</td>\n",
       "    </tr>\n",
       "    <tr>\n",
       "      <th>unique</th>\n",
       "      <td>15</td>\n",
       "      <td>38</td>\n",
       "      <td>10</td>\n",
       "      <td>3</td>\n",
       "      <td>5</td>\n",
       "      <td>7</td>\n",
       "    </tr>\n",
       "    <tr>\n",
       "      <th>top</th>\n",
       "      <td>dodge</td>\n",
       "      <td>caravan 2wd</td>\n",
       "      <td>auto(l4)</td>\n",
       "      <td>f</td>\n",
       "      <td>r</td>\n",
       "      <td>suv</td>\n",
       "    </tr>\n",
       "    <tr>\n",
       "      <th>freq</th>\n",
       "      <td>37</td>\n",
       "      <td>11</td>\n",
       "      <td>83</td>\n",
       "      <td>106</td>\n",
       "      <td>168</td>\n",
       "      <td>62</td>\n",
       "    </tr>\n",
       "  </tbody>\n",
       "</table>\n",
       "</div>"
      ],
      "text/plain": [
       "       manufacturer        model     trans  drv   fl category\n",
       "count           234          234       234  234  234      234\n",
       "unique           15           38        10    3    5        7\n",
       "top           dodge  caravan 2wd  auto(l4)    f    r      suv\n",
       "freq             37           11        83  106  168       62"
      ]
     },
     "execution_count": 87,
     "metadata": {},
     "output_type": "execute_result"
    }
   ],
   "source": [
    "mpg.describe(exclude=['int', 'float'])"
   ]
  },
  {
   "cell_type": "code",
   "execution_count": 88,
   "metadata": {},
   "outputs": [
    {
     "data": {
      "text/plain": [
       "array(['audi', 'chevrolet', 'dodge', 'ford', 'honda', 'hyundai', 'jeep',\n",
       "       'land rover', 'lincoln', 'mercury', 'nissan', 'pontiac', 'subaru',\n",
       "       'toyota', 'volkswagen'], dtype=object)"
      ]
     },
     "execution_count": 88,
     "metadata": {},
     "output_type": "execute_result"
    }
   ],
   "source": [
    "mpg[\"manufacturer\"].unique()"
   ]
  },
  {
   "cell_type": "markdown",
   "metadata": {},
   "source": [
    "## Q1. 몇 개의 회사 데이터가 있나요?"
   ]
  },
  {
   "cell_type": "code",
   "execution_count": 89,
   "metadata": {},
   "outputs": [
    {
     "name": "stdout",
     "output_type": "stream",
     "text": [
      "A. 15개의 회사가 있음\n"
     ]
    }
   ],
   "source": [
    "n_manufacturer = mpg[\"manufacturer\"].nunique()\n",
    "print(f\"A. {n_manufacturer}개의 회사가 있음\")"
   ]
  },
  {
   "cell_type": "markdown",
   "metadata": {},
   "source": [
    "## Q2. 회사별로 참여한 자동차가 몇 대인지 파악하세요."
   ]
  },
  {
   "cell_type": "code",
   "execution_count": 90,
   "metadata": {},
   "outputs": [
    {
     "data": {
      "text/plain": [
       "manufacturer\n",
       "dodge         37\n",
       "toyota        34\n",
       "volkswagen    27\n",
       "ford          25\n",
       "chevrolet     19\n",
       "audi          18\n",
       "hyundai       14\n",
       "subaru        14\n",
       "nissan        13\n",
       "honda          9\n",
       "jeep           8\n",
       "pontiac        5\n",
       "land rover     4\n",
       "mercury        4\n",
       "lincoln        3\n",
       "Name: count, dtype: int64"
      ]
     },
     "execution_count": 90,
     "metadata": {},
     "output_type": "execute_result"
    }
   ],
   "source": [
    "count_by_manufacturer = mpg[\"manufacturer\"].value_counts()\n",
    "count_by_manufacturer"
   ]
  },
  {
   "cell_type": "code",
   "execution_count": 91,
   "metadata": {},
   "outputs": [
    {
     "name": "stdout",
     "output_type": "stream",
     "text": [
      "honda회사의 데이터는 9개\n"
     ]
    }
   ],
   "source": [
    "# 데이터에서 \"honda\"회사의 데이터는 몇 개 입니까?\n",
    "print(f\"honda회사의 데이터는 {count_by_manufacturer[\"honda\"]}개\")"
   ]
  },
  {
   "cell_type": "markdown",
   "metadata": {},
   "source": [
    "## Q3. 도심연비와 고속도로 연비를 평균낸 total 연비를 구하세요"
   ]
  },
  {
   "cell_type": "code",
   "execution_count": 92,
   "metadata": {},
   "outputs": [
    {
     "data": {
      "text/html": [
       "<div>\n",
       "<style scoped>\n",
       "    .dataframe tbody tr th:only-of-type {\n",
       "        vertical-align: middle;\n",
       "    }\n",
       "\n",
       "    .dataframe tbody tr th {\n",
       "        vertical-align: top;\n",
       "    }\n",
       "\n",
       "    .dataframe thead th {\n",
       "        text-align: right;\n",
       "    }\n",
       "</style>\n",
       "<table border=\"1\" class=\"dataframe\">\n",
       "  <thead>\n",
       "    <tr style=\"text-align: right;\">\n",
       "      <th></th>\n",
       "      <th>manufacturer</th>\n",
       "      <th>model</th>\n",
       "      <th>displ</th>\n",
       "      <th>year</th>\n",
       "      <th>cyl</th>\n",
       "      <th>trans</th>\n",
       "      <th>drv</th>\n",
       "      <th>cty</th>\n",
       "      <th>hwy</th>\n",
       "      <th>fl</th>\n",
       "      <th>category</th>\n",
       "      <th>total</th>\n",
       "    </tr>\n",
       "  </thead>\n",
       "  <tbody>\n",
       "    <tr>\n",
       "      <th>0</th>\n",
       "      <td>audi</td>\n",
       "      <td>a4</td>\n",
       "      <td>1.8</td>\n",
       "      <td>1999</td>\n",
       "      <td>4</td>\n",
       "      <td>auto(l5)</td>\n",
       "      <td>f</td>\n",
       "      <td>18</td>\n",
       "      <td>29</td>\n",
       "      <td>p</td>\n",
       "      <td>compact</td>\n",
       "      <td>32.5</td>\n",
       "    </tr>\n",
       "    <tr>\n",
       "      <th>1</th>\n",
       "      <td>audi</td>\n",
       "      <td>a4</td>\n",
       "      <td>1.8</td>\n",
       "      <td>1999</td>\n",
       "      <td>4</td>\n",
       "      <td>manual(m5)</td>\n",
       "      <td>f</td>\n",
       "      <td>21</td>\n",
       "      <td>29</td>\n",
       "      <td>p</td>\n",
       "      <td>compact</td>\n",
       "      <td>35.5</td>\n",
       "    </tr>\n",
       "    <tr>\n",
       "      <th>2</th>\n",
       "      <td>audi</td>\n",
       "      <td>a4</td>\n",
       "      <td>2.0</td>\n",
       "      <td>2008</td>\n",
       "      <td>4</td>\n",
       "      <td>manual(m6)</td>\n",
       "      <td>f</td>\n",
       "      <td>20</td>\n",
       "      <td>31</td>\n",
       "      <td>p</td>\n",
       "      <td>compact</td>\n",
       "      <td>35.5</td>\n",
       "    </tr>\n",
       "    <tr>\n",
       "      <th>3</th>\n",
       "      <td>audi</td>\n",
       "      <td>a4</td>\n",
       "      <td>2.0</td>\n",
       "      <td>2008</td>\n",
       "      <td>4</td>\n",
       "      <td>auto(av)</td>\n",
       "      <td>f</td>\n",
       "      <td>21</td>\n",
       "      <td>30</td>\n",
       "      <td>p</td>\n",
       "      <td>compact</td>\n",
       "      <td>36.0</td>\n",
       "    </tr>\n",
       "    <tr>\n",
       "      <th>4</th>\n",
       "      <td>audi</td>\n",
       "      <td>a4</td>\n",
       "      <td>2.8</td>\n",
       "      <td>1999</td>\n",
       "      <td>6</td>\n",
       "      <td>auto(l5)</td>\n",
       "      <td>f</td>\n",
       "      <td>16</td>\n",
       "      <td>26</td>\n",
       "      <td>p</td>\n",
       "      <td>compact</td>\n",
       "      <td>29.0</td>\n",
       "    </tr>\n",
       "    <tr>\n",
       "      <th>...</th>\n",
       "      <td>...</td>\n",
       "      <td>...</td>\n",
       "      <td>...</td>\n",
       "      <td>...</td>\n",
       "      <td>...</td>\n",
       "      <td>...</td>\n",
       "      <td>...</td>\n",
       "      <td>...</td>\n",
       "      <td>...</td>\n",
       "      <td>...</td>\n",
       "      <td>...</td>\n",
       "      <td>...</td>\n",
       "    </tr>\n",
       "    <tr>\n",
       "      <th>229</th>\n",
       "      <td>volkswagen</td>\n",
       "      <td>passat</td>\n",
       "      <td>2.0</td>\n",
       "      <td>2008</td>\n",
       "      <td>4</td>\n",
       "      <td>auto(s6)</td>\n",
       "      <td>f</td>\n",
       "      <td>19</td>\n",
       "      <td>28</td>\n",
       "      <td>p</td>\n",
       "      <td>midsize</td>\n",
       "      <td>33.0</td>\n",
       "    </tr>\n",
       "    <tr>\n",
       "      <th>230</th>\n",
       "      <td>volkswagen</td>\n",
       "      <td>passat</td>\n",
       "      <td>2.0</td>\n",
       "      <td>2008</td>\n",
       "      <td>4</td>\n",
       "      <td>manual(m6)</td>\n",
       "      <td>f</td>\n",
       "      <td>21</td>\n",
       "      <td>29</td>\n",
       "      <td>p</td>\n",
       "      <td>midsize</td>\n",
       "      <td>35.5</td>\n",
       "    </tr>\n",
       "    <tr>\n",
       "      <th>231</th>\n",
       "      <td>volkswagen</td>\n",
       "      <td>passat</td>\n",
       "      <td>2.8</td>\n",
       "      <td>1999</td>\n",
       "      <td>6</td>\n",
       "      <td>auto(l5)</td>\n",
       "      <td>f</td>\n",
       "      <td>16</td>\n",
       "      <td>26</td>\n",
       "      <td>p</td>\n",
       "      <td>midsize</td>\n",
       "      <td>29.0</td>\n",
       "    </tr>\n",
       "    <tr>\n",
       "      <th>232</th>\n",
       "      <td>volkswagen</td>\n",
       "      <td>passat</td>\n",
       "      <td>2.8</td>\n",
       "      <td>1999</td>\n",
       "      <td>6</td>\n",
       "      <td>manual(m5)</td>\n",
       "      <td>f</td>\n",
       "      <td>18</td>\n",
       "      <td>26</td>\n",
       "      <td>p</td>\n",
       "      <td>midsize</td>\n",
       "      <td>31.0</td>\n",
       "    </tr>\n",
       "    <tr>\n",
       "      <th>233</th>\n",
       "      <td>volkswagen</td>\n",
       "      <td>passat</td>\n",
       "      <td>3.6</td>\n",
       "      <td>2008</td>\n",
       "      <td>6</td>\n",
       "      <td>auto(s6)</td>\n",
       "      <td>f</td>\n",
       "      <td>17</td>\n",
       "      <td>26</td>\n",
       "      <td>p</td>\n",
       "      <td>midsize</td>\n",
       "      <td>30.0</td>\n",
       "    </tr>\n",
       "  </tbody>\n",
       "</table>\n",
       "<p>234 rows × 12 columns</p>\n",
       "</div>"
      ],
      "text/plain": [
       "    manufacturer   model  displ  year  cyl       trans drv  cty  hwy fl  \\\n",
       "0           audi      a4    1.8  1999    4    auto(l5)   f   18   29  p   \n",
       "1           audi      a4    1.8  1999    4  manual(m5)   f   21   29  p   \n",
       "2           audi      a4    2.0  2008    4  manual(m6)   f   20   31  p   \n",
       "3           audi      a4    2.0  2008    4    auto(av)   f   21   30  p   \n",
       "4           audi      a4    2.8  1999    6    auto(l5)   f   16   26  p   \n",
       "..           ...     ...    ...   ...  ...         ...  ..  ...  ... ..   \n",
       "229   volkswagen  passat    2.0  2008    4    auto(s6)   f   19   28  p   \n",
       "230   volkswagen  passat    2.0  2008    4  manual(m6)   f   21   29  p   \n",
       "231   volkswagen  passat    2.8  1999    6    auto(l5)   f   16   26  p   \n",
       "232   volkswagen  passat    2.8  1999    6  manual(m5)   f   18   26  p   \n",
       "233   volkswagen  passat    3.6  2008    6    auto(s6)   f   17   26  p   \n",
       "\n",
       "    category  total  \n",
       "0    compact   32.5  \n",
       "1    compact   35.5  \n",
       "2    compact   35.5  \n",
       "3    compact   36.0  \n",
       "4    compact   29.0  \n",
       "..       ...    ...  \n",
       "229  midsize   33.0  \n",
       "230  midsize   35.5  \n",
       "231  midsize   29.0  \n",
       "232  midsize   31.0  \n",
       "233  midsize   30.0  \n",
       "\n",
       "[234 rows x 12 columns]"
      ]
     },
     "execution_count": 92,
     "metadata": {},
     "output_type": "execute_result"
    }
   ],
   "source": [
    "mpg[\"total\"] = mpg[\"cty\"] + mpg[\"hwy\"] / 2\n",
    "mpg"
   ]
  },
  {
   "cell_type": "markdown",
   "metadata": {},
   "source": [
    "## Q4. total 연비 상위 10개 회사의 회사별 개수를 구하세요"
   ]
  },
  {
   "cell_type": "code",
   "execution_count": 93,
   "metadata": {},
   "outputs": [
    {
     "data": {
      "text/plain": [
       "manufacturer\n",
       "honda         4\n",
       "toyota        3\n",
       "volkswagen    3\n",
       "Name: count, dtype: int64"
      ]
     },
     "execution_count": 93,
     "metadata": {},
     "output_type": "execute_result"
    }
   ],
   "source": [
    "# total 열을 기준으로 상위 10개 추출 - 정렬\n",
    "temp_data = mpg.sort_values(by=\"total\", ascending=False)\n",
    "\n",
    "# 상위 10개 가져오기\n",
    "total_top_ten = temp_data.head(10)\n",
    "\n",
    "total_top_ten.value_counts(subset=\"manufacturer\")"
   ]
  },
  {
   "cell_type": "markdown",
   "metadata": {},
   "source": [
    "## +Quiz. 현대자동차의 평균 total 연비에 대한 평균값은?"
   ]
  },
  {
   "cell_type": "code",
   "execution_count": 94,
   "metadata": {},
   "outputs": [
    {
     "data": {
      "text/plain": [
       "np.float64(32.07142857142857)"
      ]
     },
     "execution_count": 94,
     "metadata": {},
     "output_type": "execute_result"
    }
   ],
   "source": [
    "mpg[mpg[\"manufacturer\"] == \"hyundai\"][\"total\"].mean()"
   ]
  },
  {
   "cell_type": "markdown",
   "metadata": {},
   "source": [
    "## Q5. 평균 total 연비보다 높은 자동차는 PASS, 낮은 자동차는 FAIL로 구분하세요."
   ]
  },
  {
   "cell_type": "code",
   "execution_count": 95,
   "metadata": {},
   "outputs": [
    {
     "name": "stdout",
     "output_type": "stream",
     "text": [
      "28.57905982905983\n"
     ]
    },
    {
     "data": {
      "text/html": [
       "<div>\n",
       "<style scoped>\n",
       "    .dataframe tbody tr th:only-of-type {\n",
       "        vertical-align: middle;\n",
       "    }\n",
       "\n",
       "    .dataframe tbody tr th {\n",
       "        vertical-align: top;\n",
       "    }\n",
       "\n",
       "    .dataframe thead th {\n",
       "        text-align: right;\n",
       "    }\n",
       "</style>\n",
       "<table border=\"1\" class=\"dataframe\">\n",
       "  <thead>\n",
       "    <tr style=\"text-align: right;\">\n",
       "      <th></th>\n",
       "      <th>manufacturer</th>\n",
       "      <th>model</th>\n",
       "      <th>displ</th>\n",
       "      <th>year</th>\n",
       "      <th>cyl</th>\n",
       "      <th>trans</th>\n",
       "      <th>drv</th>\n",
       "      <th>cty</th>\n",
       "      <th>hwy</th>\n",
       "      <th>fl</th>\n",
       "      <th>category</th>\n",
       "      <th>total</th>\n",
       "      <th>result</th>\n",
       "    </tr>\n",
       "  </thead>\n",
       "  <tbody>\n",
       "    <tr>\n",
       "      <th>0</th>\n",
       "      <td>audi</td>\n",
       "      <td>a4</td>\n",
       "      <td>1.8</td>\n",
       "      <td>1999</td>\n",
       "      <td>4</td>\n",
       "      <td>auto(l5)</td>\n",
       "      <td>f</td>\n",
       "      <td>18</td>\n",
       "      <td>29</td>\n",
       "      <td>p</td>\n",
       "      <td>compact</td>\n",
       "      <td>32.5</td>\n",
       "      <td>Pass</td>\n",
       "    </tr>\n",
       "    <tr>\n",
       "      <th>1</th>\n",
       "      <td>audi</td>\n",
       "      <td>a4</td>\n",
       "      <td>1.8</td>\n",
       "      <td>1999</td>\n",
       "      <td>4</td>\n",
       "      <td>manual(m5)</td>\n",
       "      <td>f</td>\n",
       "      <td>21</td>\n",
       "      <td>29</td>\n",
       "      <td>p</td>\n",
       "      <td>compact</td>\n",
       "      <td>35.5</td>\n",
       "      <td>Pass</td>\n",
       "    </tr>\n",
       "    <tr>\n",
       "      <th>2</th>\n",
       "      <td>audi</td>\n",
       "      <td>a4</td>\n",
       "      <td>2.0</td>\n",
       "      <td>2008</td>\n",
       "      <td>4</td>\n",
       "      <td>manual(m6)</td>\n",
       "      <td>f</td>\n",
       "      <td>20</td>\n",
       "      <td>31</td>\n",
       "      <td>p</td>\n",
       "      <td>compact</td>\n",
       "      <td>35.5</td>\n",
       "      <td>Pass</td>\n",
       "    </tr>\n",
       "    <tr>\n",
       "      <th>3</th>\n",
       "      <td>audi</td>\n",
       "      <td>a4</td>\n",
       "      <td>2.0</td>\n",
       "      <td>2008</td>\n",
       "      <td>4</td>\n",
       "      <td>auto(av)</td>\n",
       "      <td>f</td>\n",
       "      <td>21</td>\n",
       "      <td>30</td>\n",
       "      <td>p</td>\n",
       "      <td>compact</td>\n",
       "      <td>36.0</td>\n",
       "      <td>Pass</td>\n",
       "    </tr>\n",
       "    <tr>\n",
       "      <th>4</th>\n",
       "      <td>audi</td>\n",
       "      <td>a4</td>\n",
       "      <td>2.8</td>\n",
       "      <td>1999</td>\n",
       "      <td>6</td>\n",
       "      <td>auto(l5)</td>\n",
       "      <td>f</td>\n",
       "      <td>16</td>\n",
       "      <td>26</td>\n",
       "      <td>p</td>\n",
       "      <td>compact</td>\n",
       "      <td>29.0</td>\n",
       "      <td>Pass</td>\n",
       "    </tr>\n",
       "    <tr>\n",
       "      <th>...</th>\n",
       "      <td>...</td>\n",
       "      <td>...</td>\n",
       "      <td>...</td>\n",
       "      <td>...</td>\n",
       "      <td>...</td>\n",
       "      <td>...</td>\n",
       "      <td>...</td>\n",
       "      <td>...</td>\n",
       "      <td>...</td>\n",
       "      <td>...</td>\n",
       "      <td>...</td>\n",
       "      <td>...</td>\n",
       "      <td>...</td>\n",
       "    </tr>\n",
       "    <tr>\n",
       "      <th>229</th>\n",
       "      <td>volkswagen</td>\n",
       "      <td>passat</td>\n",
       "      <td>2.0</td>\n",
       "      <td>2008</td>\n",
       "      <td>4</td>\n",
       "      <td>auto(s6)</td>\n",
       "      <td>f</td>\n",
       "      <td>19</td>\n",
       "      <td>28</td>\n",
       "      <td>p</td>\n",
       "      <td>midsize</td>\n",
       "      <td>33.0</td>\n",
       "      <td>Pass</td>\n",
       "    </tr>\n",
       "    <tr>\n",
       "      <th>230</th>\n",
       "      <td>volkswagen</td>\n",
       "      <td>passat</td>\n",
       "      <td>2.0</td>\n",
       "      <td>2008</td>\n",
       "      <td>4</td>\n",
       "      <td>manual(m6)</td>\n",
       "      <td>f</td>\n",
       "      <td>21</td>\n",
       "      <td>29</td>\n",
       "      <td>p</td>\n",
       "      <td>midsize</td>\n",
       "      <td>35.5</td>\n",
       "      <td>Pass</td>\n",
       "    </tr>\n",
       "    <tr>\n",
       "      <th>231</th>\n",
       "      <td>volkswagen</td>\n",
       "      <td>passat</td>\n",
       "      <td>2.8</td>\n",
       "      <td>1999</td>\n",
       "      <td>6</td>\n",
       "      <td>auto(l5)</td>\n",
       "      <td>f</td>\n",
       "      <td>16</td>\n",
       "      <td>26</td>\n",
       "      <td>p</td>\n",
       "      <td>midsize</td>\n",
       "      <td>29.0</td>\n",
       "      <td>Pass</td>\n",
       "    </tr>\n",
       "    <tr>\n",
       "      <th>232</th>\n",
       "      <td>volkswagen</td>\n",
       "      <td>passat</td>\n",
       "      <td>2.8</td>\n",
       "      <td>1999</td>\n",
       "      <td>6</td>\n",
       "      <td>manual(m5)</td>\n",
       "      <td>f</td>\n",
       "      <td>18</td>\n",
       "      <td>26</td>\n",
       "      <td>p</td>\n",
       "      <td>midsize</td>\n",
       "      <td>31.0</td>\n",
       "      <td>Pass</td>\n",
       "    </tr>\n",
       "    <tr>\n",
       "      <th>233</th>\n",
       "      <td>volkswagen</td>\n",
       "      <td>passat</td>\n",
       "      <td>3.6</td>\n",
       "      <td>2008</td>\n",
       "      <td>6</td>\n",
       "      <td>auto(s6)</td>\n",
       "      <td>f</td>\n",
       "      <td>17</td>\n",
       "      <td>26</td>\n",
       "      <td>p</td>\n",
       "      <td>midsize</td>\n",
       "      <td>30.0</td>\n",
       "      <td>Pass</td>\n",
       "    </tr>\n",
       "  </tbody>\n",
       "</table>\n",
       "<p>234 rows × 13 columns</p>\n",
       "</div>"
      ],
      "text/plain": [
       "    manufacturer   model  displ  year  cyl       trans drv  cty  hwy fl  \\\n",
       "0           audi      a4    1.8  1999    4    auto(l5)   f   18   29  p   \n",
       "1           audi      a4    1.8  1999    4  manual(m5)   f   21   29  p   \n",
       "2           audi      a4    2.0  2008    4  manual(m6)   f   20   31  p   \n",
       "3           audi      a4    2.0  2008    4    auto(av)   f   21   30  p   \n",
       "4           audi      a4    2.8  1999    6    auto(l5)   f   16   26  p   \n",
       "..           ...     ...    ...   ...  ...         ...  ..  ...  ... ..   \n",
       "229   volkswagen  passat    2.0  2008    4    auto(s6)   f   19   28  p   \n",
       "230   volkswagen  passat    2.0  2008    4  manual(m6)   f   21   29  p   \n",
       "231   volkswagen  passat    2.8  1999    6    auto(l5)   f   16   26  p   \n",
       "232   volkswagen  passat    2.8  1999    6  manual(m5)   f   18   26  p   \n",
       "233   volkswagen  passat    3.6  2008    6    auto(s6)   f   17   26  p   \n",
       "\n",
       "    category  total result  \n",
       "0    compact   32.5   Pass  \n",
       "1    compact   35.5   Pass  \n",
       "2    compact   35.5   Pass  \n",
       "3    compact   36.0   Pass  \n",
       "4    compact   29.0   Pass  \n",
       "..       ...    ...    ...  \n",
       "229  midsize   33.0   Pass  \n",
       "230  midsize   35.5   Pass  \n",
       "231  midsize   29.0   Pass  \n",
       "232  midsize   31.0   Pass  \n",
       "233  midsize   30.0   Pass  \n",
       "\n",
       "[234 rows x 13 columns]"
      ]
     },
     "execution_count": 95,
     "metadata": {},
     "output_type": "execute_result"
    }
   ],
   "source": [
    "all_total_mean = mpg[\"total\"].mean()\n",
    "print(all_total_mean)\n",
    "mpg['result'] = mpg.apply(lambda x: \"Pass\" if x['total'] > all_total_mean else \"Fail\", axis=1)\n",
    "\n",
    "mpg"
   ]
  },
  {
   "cell_type": "code",
   "execution_count": 96,
   "metadata": {},
   "outputs": [
    {
     "data": {
      "text/html": [
       "<div>\n",
       "<style scoped>\n",
       "    .dataframe tbody tr th:only-of-type {\n",
       "        vertical-align: middle;\n",
       "    }\n",
       "\n",
       "    .dataframe tbody tr th {\n",
       "        vertical-align: top;\n",
       "    }\n",
       "\n",
       "    .dataframe thead th {\n",
       "        text-align: right;\n",
       "    }\n",
       "</style>\n",
       "<table border=\"1\" class=\"dataframe\">\n",
       "  <thead>\n",
       "    <tr style=\"text-align: right;\">\n",
       "      <th></th>\n",
       "      <th>manufacturer</th>\n",
       "      <th>model</th>\n",
       "      <th>displ</th>\n",
       "      <th>year</th>\n",
       "      <th>cyl</th>\n",
       "      <th>trans</th>\n",
       "      <th>drv</th>\n",
       "      <th>cty</th>\n",
       "      <th>hwy</th>\n",
       "      <th>fl</th>\n",
       "      <th>category</th>\n",
       "      <th>total</th>\n",
       "      <th>result</th>\n",
       "      <th>Result</th>\n",
       "    </tr>\n",
       "  </thead>\n",
       "  <tbody>\n",
       "    <tr>\n",
       "      <th>0</th>\n",
       "      <td>audi</td>\n",
       "      <td>a4</td>\n",
       "      <td>1.8</td>\n",
       "      <td>1999</td>\n",
       "      <td>4</td>\n",
       "      <td>auto(l5)</td>\n",
       "      <td>f</td>\n",
       "      <td>18</td>\n",
       "      <td>29</td>\n",
       "      <td>p</td>\n",
       "      <td>compact</td>\n",
       "      <td>32.5</td>\n",
       "      <td>Pass</td>\n",
       "      <td>PASS</td>\n",
       "    </tr>\n",
       "    <tr>\n",
       "      <th>1</th>\n",
       "      <td>audi</td>\n",
       "      <td>a4</td>\n",
       "      <td>1.8</td>\n",
       "      <td>1999</td>\n",
       "      <td>4</td>\n",
       "      <td>manual(m5)</td>\n",
       "      <td>f</td>\n",
       "      <td>21</td>\n",
       "      <td>29</td>\n",
       "      <td>p</td>\n",
       "      <td>compact</td>\n",
       "      <td>35.5</td>\n",
       "      <td>Pass</td>\n",
       "      <td>PASS</td>\n",
       "    </tr>\n",
       "    <tr>\n",
       "      <th>2</th>\n",
       "      <td>audi</td>\n",
       "      <td>a4</td>\n",
       "      <td>2.0</td>\n",
       "      <td>2008</td>\n",
       "      <td>4</td>\n",
       "      <td>manual(m6)</td>\n",
       "      <td>f</td>\n",
       "      <td>20</td>\n",
       "      <td>31</td>\n",
       "      <td>p</td>\n",
       "      <td>compact</td>\n",
       "      <td>35.5</td>\n",
       "      <td>Pass</td>\n",
       "      <td>PASS</td>\n",
       "    </tr>\n",
       "    <tr>\n",
       "      <th>3</th>\n",
       "      <td>audi</td>\n",
       "      <td>a4</td>\n",
       "      <td>2.0</td>\n",
       "      <td>2008</td>\n",
       "      <td>4</td>\n",
       "      <td>auto(av)</td>\n",
       "      <td>f</td>\n",
       "      <td>21</td>\n",
       "      <td>30</td>\n",
       "      <td>p</td>\n",
       "      <td>compact</td>\n",
       "      <td>36.0</td>\n",
       "      <td>Pass</td>\n",
       "      <td>PASS</td>\n",
       "    </tr>\n",
       "    <tr>\n",
       "      <th>4</th>\n",
       "      <td>audi</td>\n",
       "      <td>a4</td>\n",
       "      <td>2.8</td>\n",
       "      <td>1999</td>\n",
       "      <td>6</td>\n",
       "      <td>auto(l5)</td>\n",
       "      <td>f</td>\n",
       "      <td>16</td>\n",
       "      <td>26</td>\n",
       "      <td>p</td>\n",
       "      <td>compact</td>\n",
       "      <td>29.0</td>\n",
       "      <td>Pass</td>\n",
       "      <td>PASS</td>\n",
       "    </tr>\n",
       "    <tr>\n",
       "      <th>...</th>\n",
       "      <td>...</td>\n",
       "      <td>...</td>\n",
       "      <td>...</td>\n",
       "      <td>...</td>\n",
       "      <td>...</td>\n",
       "      <td>...</td>\n",
       "      <td>...</td>\n",
       "      <td>...</td>\n",
       "      <td>...</td>\n",
       "      <td>...</td>\n",
       "      <td>...</td>\n",
       "      <td>...</td>\n",
       "      <td>...</td>\n",
       "      <td>...</td>\n",
       "    </tr>\n",
       "    <tr>\n",
       "      <th>229</th>\n",
       "      <td>volkswagen</td>\n",
       "      <td>passat</td>\n",
       "      <td>2.0</td>\n",
       "      <td>2008</td>\n",
       "      <td>4</td>\n",
       "      <td>auto(s6)</td>\n",
       "      <td>f</td>\n",
       "      <td>19</td>\n",
       "      <td>28</td>\n",
       "      <td>p</td>\n",
       "      <td>midsize</td>\n",
       "      <td>33.0</td>\n",
       "      <td>Pass</td>\n",
       "      <td>PASS</td>\n",
       "    </tr>\n",
       "    <tr>\n",
       "      <th>230</th>\n",
       "      <td>volkswagen</td>\n",
       "      <td>passat</td>\n",
       "      <td>2.0</td>\n",
       "      <td>2008</td>\n",
       "      <td>4</td>\n",
       "      <td>manual(m6)</td>\n",
       "      <td>f</td>\n",
       "      <td>21</td>\n",
       "      <td>29</td>\n",
       "      <td>p</td>\n",
       "      <td>midsize</td>\n",
       "      <td>35.5</td>\n",
       "      <td>Pass</td>\n",
       "      <td>PASS</td>\n",
       "    </tr>\n",
       "    <tr>\n",
       "      <th>231</th>\n",
       "      <td>volkswagen</td>\n",
       "      <td>passat</td>\n",
       "      <td>2.8</td>\n",
       "      <td>1999</td>\n",
       "      <td>6</td>\n",
       "      <td>auto(l5)</td>\n",
       "      <td>f</td>\n",
       "      <td>16</td>\n",
       "      <td>26</td>\n",
       "      <td>p</td>\n",
       "      <td>midsize</td>\n",
       "      <td>29.0</td>\n",
       "      <td>Pass</td>\n",
       "      <td>PASS</td>\n",
       "    </tr>\n",
       "    <tr>\n",
       "      <th>232</th>\n",
       "      <td>volkswagen</td>\n",
       "      <td>passat</td>\n",
       "      <td>2.8</td>\n",
       "      <td>1999</td>\n",
       "      <td>6</td>\n",
       "      <td>manual(m5)</td>\n",
       "      <td>f</td>\n",
       "      <td>18</td>\n",
       "      <td>26</td>\n",
       "      <td>p</td>\n",
       "      <td>midsize</td>\n",
       "      <td>31.0</td>\n",
       "      <td>Pass</td>\n",
       "      <td>PASS</td>\n",
       "    </tr>\n",
       "    <tr>\n",
       "      <th>233</th>\n",
       "      <td>volkswagen</td>\n",
       "      <td>passat</td>\n",
       "      <td>3.6</td>\n",
       "      <td>2008</td>\n",
       "      <td>6</td>\n",
       "      <td>auto(s6)</td>\n",
       "      <td>f</td>\n",
       "      <td>17</td>\n",
       "      <td>26</td>\n",
       "      <td>p</td>\n",
       "      <td>midsize</td>\n",
       "      <td>30.0</td>\n",
       "      <td>Pass</td>\n",
       "      <td>PASS</td>\n",
       "    </tr>\n",
       "  </tbody>\n",
       "</table>\n",
       "<p>234 rows × 14 columns</p>\n",
       "</div>"
      ],
      "text/plain": [
       "    manufacturer   model  displ  year  cyl       trans drv  cty  hwy fl  \\\n",
       "0           audi      a4    1.8  1999    4    auto(l5)   f   18   29  p   \n",
       "1           audi      a4    1.8  1999    4  manual(m5)   f   21   29  p   \n",
       "2           audi      a4    2.0  2008    4  manual(m6)   f   20   31  p   \n",
       "3           audi      a4    2.0  2008    4    auto(av)   f   21   30  p   \n",
       "4           audi      a4    2.8  1999    6    auto(l5)   f   16   26  p   \n",
       "..           ...     ...    ...   ...  ...         ...  ..  ...  ... ..   \n",
       "229   volkswagen  passat    2.0  2008    4    auto(s6)   f   19   28  p   \n",
       "230   volkswagen  passat    2.0  2008    4  manual(m6)   f   21   29  p   \n",
       "231   volkswagen  passat    2.8  1999    6    auto(l5)   f   16   26  p   \n",
       "232   volkswagen  passat    2.8  1999    6  manual(m5)   f   18   26  p   \n",
       "233   volkswagen  passat    3.6  2008    6    auto(s6)   f   17   26  p   \n",
       "\n",
       "    category  total result Result  \n",
       "0    compact   32.5   Pass   PASS  \n",
       "1    compact   35.5   Pass   PASS  \n",
       "2    compact   35.5   Pass   PASS  \n",
       "3    compact   36.0   Pass   PASS  \n",
       "4    compact   29.0   Pass   PASS  \n",
       "..       ...    ...    ...    ...  \n",
       "229  midsize   33.0   Pass   PASS  \n",
       "230  midsize   35.5   Pass   PASS  \n",
       "231  midsize   29.0   Pass   PASS  \n",
       "232  midsize   31.0   Pass   PASS  \n",
       "233  midsize   30.0   Pass   PASS  \n",
       "\n",
       "[234 rows x 14 columns]"
      ]
     },
     "execution_count": 96,
     "metadata": {},
     "output_type": "execute_result"
    }
   ],
   "source": [
    "mpg[\"Result\"] = mpg[\"total\"].apply(lambda x: \"PASS\" if x >= all_total_mean else \"FAIL\")\n",
    "mpg"
   ]
  },
  {
   "cell_type": "code",
   "execution_count": 97,
   "metadata": {},
   "outputs": [
    {
     "data": {
      "text/html": [
       "<div>\n",
       "<style scoped>\n",
       "    .dataframe tbody tr th:only-of-type {\n",
       "        vertical-align: middle;\n",
       "    }\n",
       "\n",
       "    .dataframe tbody tr th {\n",
       "        vertical-align: top;\n",
       "    }\n",
       "\n",
       "    .dataframe thead th {\n",
       "        text-align: right;\n",
       "    }\n",
       "</style>\n",
       "<table border=\"1\" class=\"dataframe\">\n",
       "  <thead>\n",
       "    <tr style=\"text-align: right;\">\n",
       "      <th></th>\n",
       "      <th>manufacturer</th>\n",
       "      <th>model</th>\n",
       "      <th>displ</th>\n",
       "      <th>year</th>\n",
       "      <th>cyl</th>\n",
       "      <th>trans</th>\n",
       "      <th>drv</th>\n",
       "      <th>cty</th>\n",
       "      <th>hwy</th>\n",
       "      <th>fl</th>\n",
       "      <th>category</th>\n",
       "      <th>total</th>\n",
       "      <th>result</th>\n",
       "      <th>Result</th>\n",
       "    </tr>\n",
       "  </thead>\n",
       "  <tbody>\n",
       "    <tr>\n",
       "      <th>0</th>\n",
       "      <td>audi</td>\n",
       "      <td>a4</td>\n",
       "      <td>1.8</td>\n",
       "      <td>1999</td>\n",
       "      <td>4</td>\n",
       "      <td>auto(l5)</td>\n",
       "      <td>f</td>\n",
       "      <td>18</td>\n",
       "      <td>29</td>\n",
       "      <td>p</td>\n",
       "      <td>compact</td>\n",
       "      <td>32.5</td>\n",
       "      <td>Pass</td>\n",
       "      <td>PASS</td>\n",
       "    </tr>\n",
       "    <tr>\n",
       "      <th>1</th>\n",
       "      <td>audi</td>\n",
       "      <td>a4</td>\n",
       "      <td>1.8</td>\n",
       "      <td>1999</td>\n",
       "      <td>4</td>\n",
       "      <td>manual(m5)</td>\n",
       "      <td>f</td>\n",
       "      <td>21</td>\n",
       "      <td>29</td>\n",
       "      <td>p</td>\n",
       "      <td>compact</td>\n",
       "      <td>35.5</td>\n",
       "      <td>Pass</td>\n",
       "      <td>PASS</td>\n",
       "    </tr>\n",
       "    <tr>\n",
       "      <th>2</th>\n",
       "      <td>audi</td>\n",
       "      <td>a4</td>\n",
       "      <td>2.0</td>\n",
       "      <td>2008</td>\n",
       "      <td>4</td>\n",
       "      <td>manual(m6)</td>\n",
       "      <td>f</td>\n",
       "      <td>20</td>\n",
       "      <td>31</td>\n",
       "      <td>p</td>\n",
       "      <td>compact</td>\n",
       "      <td>35.5</td>\n",
       "      <td>Pass</td>\n",
       "      <td>PASS</td>\n",
       "    </tr>\n",
       "    <tr>\n",
       "      <th>3</th>\n",
       "      <td>audi</td>\n",
       "      <td>a4</td>\n",
       "      <td>2.0</td>\n",
       "      <td>2008</td>\n",
       "      <td>4</td>\n",
       "      <td>auto(av)</td>\n",
       "      <td>f</td>\n",
       "      <td>21</td>\n",
       "      <td>30</td>\n",
       "      <td>p</td>\n",
       "      <td>compact</td>\n",
       "      <td>36.0</td>\n",
       "      <td>Pass</td>\n",
       "      <td>PASS</td>\n",
       "    </tr>\n",
       "    <tr>\n",
       "      <th>4</th>\n",
       "      <td>audi</td>\n",
       "      <td>a4</td>\n",
       "      <td>2.8</td>\n",
       "      <td>1999</td>\n",
       "      <td>6</td>\n",
       "      <td>auto(l5)</td>\n",
       "      <td>f</td>\n",
       "      <td>16</td>\n",
       "      <td>26</td>\n",
       "      <td>p</td>\n",
       "      <td>compact</td>\n",
       "      <td>29.0</td>\n",
       "      <td>Pass</td>\n",
       "      <td>PASS</td>\n",
       "    </tr>\n",
       "    <tr>\n",
       "      <th>...</th>\n",
       "      <td>...</td>\n",
       "      <td>...</td>\n",
       "      <td>...</td>\n",
       "      <td>...</td>\n",
       "      <td>...</td>\n",
       "      <td>...</td>\n",
       "      <td>...</td>\n",
       "      <td>...</td>\n",
       "      <td>...</td>\n",
       "      <td>...</td>\n",
       "      <td>...</td>\n",
       "      <td>...</td>\n",
       "      <td>...</td>\n",
       "      <td>...</td>\n",
       "    </tr>\n",
       "    <tr>\n",
       "      <th>229</th>\n",
       "      <td>volkswagen</td>\n",
       "      <td>passat</td>\n",
       "      <td>2.0</td>\n",
       "      <td>2008</td>\n",
       "      <td>4</td>\n",
       "      <td>auto(s6)</td>\n",
       "      <td>f</td>\n",
       "      <td>19</td>\n",
       "      <td>28</td>\n",
       "      <td>p</td>\n",
       "      <td>midsize</td>\n",
       "      <td>33.0</td>\n",
       "      <td>Pass</td>\n",
       "      <td>PASS</td>\n",
       "    </tr>\n",
       "    <tr>\n",
       "      <th>230</th>\n",
       "      <td>volkswagen</td>\n",
       "      <td>passat</td>\n",
       "      <td>2.0</td>\n",
       "      <td>2008</td>\n",
       "      <td>4</td>\n",
       "      <td>manual(m6)</td>\n",
       "      <td>f</td>\n",
       "      <td>21</td>\n",
       "      <td>29</td>\n",
       "      <td>p</td>\n",
       "      <td>midsize</td>\n",
       "      <td>35.5</td>\n",
       "      <td>Pass</td>\n",
       "      <td>PASS</td>\n",
       "    </tr>\n",
       "    <tr>\n",
       "      <th>231</th>\n",
       "      <td>volkswagen</td>\n",
       "      <td>passat</td>\n",
       "      <td>2.8</td>\n",
       "      <td>1999</td>\n",
       "      <td>6</td>\n",
       "      <td>auto(l5)</td>\n",
       "      <td>f</td>\n",
       "      <td>16</td>\n",
       "      <td>26</td>\n",
       "      <td>p</td>\n",
       "      <td>midsize</td>\n",
       "      <td>29.0</td>\n",
       "      <td>Pass</td>\n",
       "      <td>PASS</td>\n",
       "    </tr>\n",
       "    <tr>\n",
       "      <th>232</th>\n",
       "      <td>volkswagen</td>\n",
       "      <td>passat</td>\n",
       "      <td>2.8</td>\n",
       "      <td>1999</td>\n",
       "      <td>6</td>\n",
       "      <td>manual(m5)</td>\n",
       "      <td>f</td>\n",
       "      <td>18</td>\n",
       "      <td>26</td>\n",
       "      <td>p</td>\n",
       "      <td>midsize</td>\n",
       "      <td>31.0</td>\n",
       "      <td>Pass</td>\n",
       "      <td>PASS</td>\n",
       "    </tr>\n",
       "    <tr>\n",
       "      <th>233</th>\n",
       "      <td>volkswagen</td>\n",
       "      <td>passat</td>\n",
       "      <td>3.6</td>\n",
       "      <td>2008</td>\n",
       "      <td>6</td>\n",
       "      <td>auto(s6)</td>\n",
       "      <td>f</td>\n",
       "      <td>17</td>\n",
       "      <td>26</td>\n",
       "      <td>p</td>\n",
       "      <td>midsize</td>\n",
       "      <td>30.0</td>\n",
       "      <td>Pass</td>\n",
       "      <td>PASS</td>\n",
       "    </tr>\n",
       "  </tbody>\n",
       "</table>\n",
       "<p>234 rows × 14 columns</p>\n",
       "</div>"
      ],
      "text/plain": [
       "    manufacturer   model  displ  year  cyl       trans drv  cty  hwy fl  \\\n",
       "0           audi      a4    1.8  1999    4    auto(l5)   f   18   29  p   \n",
       "1           audi      a4    1.8  1999    4  manual(m5)   f   21   29  p   \n",
       "2           audi      a4    2.0  2008    4  manual(m6)   f   20   31  p   \n",
       "3           audi      a4    2.0  2008    4    auto(av)   f   21   30  p   \n",
       "4           audi      a4    2.8  1999    6    auto(l5)   f   16   26  p   \n",
       "..           ...     ...    ...   ...  ...         ...  ..  ...  ... ..   \n",
       "229   volkswagen  passat    2.0  2008    4    auto(s6)   f   19   28  p   \n",
       "230   volkswagen  passat    2.0  2008    4  manual(m6)   f   21   29  p   \n",
       "231   volkswagen  passat    2.8  1999    6    auto(l5)   f   16   26  p   \n",
       "232   volkswagen  passat    2.8  1999    6  manual(m5)   f   18   26  p   \n",
       "233   volkswagen  passat    3.6  2008    6    auto(s6)   f   17   26  p   \n",
       "\n",
       "    category  total result Result  \n",
       "0    compact   32.5   Pass   PASS  \n",
       "1    compact   35.5   Pass   PASS  \n",
       "2    compact   35.5   Pass   PASS  \n",
       "3    compact   36.0   Pass   PASS  \n",
       "4    compact   29.0   Pass   PASS  \n",
       "..       ...    ...    ...    ...  \n",
       "229  midsize   33.0   Pass   PASS  \n",
       "230  midsize   35.5   Pass   PASS  \n",
       "231  midsize   29.0   Pass   PASS  \n",
       "232  midsize   31.0   Pass   PASS  \n",
       "233  midsize   30.0   Pass   PASS  \n",
       "\n",
       "[234 rows x 14 columns]"
      ]
     },
     "execution_count": 97,
     "metadata": {},
     "output_type": "execute_result"
    }
   ],
   "source": [
    "mpg['result'] = np.where(mpg['total'] > all_total_mean, \"Pass\", \"Fail\")\n",
    "mpg"
   ]
  },
  {
   "cell_type": "code",
   "execution_count": 98,
   "metadata": {},
   "outputs": [
    {
     "data": {
      "text/plain": [
       "manufacturer  model                displ  year  cyl  trans       drv  cty  hwy  fl  category    total  result  Result\n",
       "chevrolet     c1500 suburban 2wd   5.3    2008  8    auto(l4)    r    14   20   r   suv         24.0   Fail    FAIL      2\n",
       "ford          explorer 4wd         4.0    1999  6    auto(l5)    4    14   17   r   suv         22.5   Fail    FAIL      2\n",
       "honda         civic                1.6    1999  4    auto(l4)    f    24   32   r   subcompact  40.0   Pass    PASS      2\n",
       "dodge         ram 1500 pickup 4wd  4.7    2008  8    manual(m6)  4    12   16   r   pickup      20.0   Fail    FAIL      2\n",
       "                                                     auto(l5)    4    13   17   r   pickup      21.5   Fail    FAIL      2\n",
       "                                                                                                                        ..\n",
       "volkswagen    passat               2.0    2008  4    auto(s6)    f    19   28   p   midsize     33.0   Pass    PASS      1\n",
       "                                                     manual(m6)  f    21   29   p   midsize     35.5   Pass    PASS      1\n",
       "                                   2.8    1999  6    auto(l5)    f    16   26   p   midsize     29.0   Pass    PASS      1\n",
       "                                                     manual(m5)  f    18   26   p   midsize     31.0   Pass    PASS      1\n",
       "                                   3.6    2008  6    auto(s6)    f    17   26   p   midsize     30.0   Pass    PASS      1\n",
       "Name: count, Length: 225, dtype: int64"
      ]
     },
     "execution_count": 98,
     "metadata": {},
     "output_type": "execute_result"
    }
   ],
   "source": [
    "mpg[mpg[\"result\"] != mpg[\"Result\"]].value_counts() "
   ]
  },
  {
   "cell_type": "markdown",
   "metadata": {},
   "source": [
    "## +Quiz. PASS인 자동차 중 가장 많은 숫자의 자동차 회사는?"
   ]
  },
  {
   "cell_type": "code",
   "execution_count": 99,
   "metadata": {},
   "outputs": [
    {
     "name": "stdout",
     "output_type": "stream",
     "text": [
      "volkswagen\n"
     ]
    }
   ],
   "source": [
    "n_pass_by_manufacturer = mpg[mpg['result'] == \"Pass\"].value_counts(subset=\"manufacturer\").sort_values(ascending=False).head(1)\n",
    "top_n_pass_manufacturer = n_pass_by_manufacturer.keys()[0]\n",
    "print(top_n_pass_manufacturer)"
   ]
  },
  {
   "cell_type": "markdown",
   "metadata": {},
   "source": [
    "# 4. 다양한 데이터 체험"
   ]
  },
  {
   "cell_type": "code",
   "execution_count": 100,
   "metadata": {},
   "outputs": [
    {
     "data": {
      "text/html": [
       "<div>\n",
       "<style scoped>\n",
       "    .dataframe tbody tr th:only-of-type {\n",
       "        vertical-align: middle;\n",
       "    }\n",
       "\n",
       "    .dataframe tbody tr th {\n",
       "        vertical-align: top;\n",
       "    }\n",
       "\n",
       "    .dataframe thead th {\n",
       "        text-align: right;\n",
       "    }\n",
       "</style>\n",
       "<table border=\"1\" class=\"dataframe\">\n",
       "  <thead>\n",
       "    <tr style=\"text-align: right;\">\n",
       "      <th></th>\n",
       "      <th>Region</th>\n",
       "      <th>Rating</th>\n",
       "      <th>Category</th>\n",
       "      <th>Review</th>\n",
       "    </tr>\n",
       "  </thead>\n",
       "  <tbody>\n",
       "    <tr>\n",
       "      <th>25904</th>\n",
       "      <td>인덕원</td>\n",
       "      <td>2</td>\n",
       "      <td>파스타 리조또</td>\n",
       "      <td>맛은 평범했지만\\n좋은 가성비에 조용히 오손도손 친구나 연인과 오기 좋은 이탈리안 ...</td>\n",
       "    </tr>\n",
       "    <tr>\n",
       "      <th>5396</th>\n",
       "      <td>인덕원</td>\n",
       "      <td>2</td>\n",
       "      <td>해장국 갈비해장국</td>\n",
       "      <td>오래 장사한 집\\n가격저렴하고 맛괜찮아서\\n택시기사님들도 많이 찾는다\\n그렇기 때문...</td>\n",
       "    </tr>\n",
       "    <tr>\n",
       "      <th>10</th>\n",
       "      <td>인덕원</td>\n",
       "      <td>2</td>\n",
       "      <td>순대국 찹쌀순대</td>\n",
       "      <td>주차된 차도 많고 줄 서서 먹음. 순대는 맛있으나 순대국에 들어간 고기에서 잡내가 ...</td>\n",
       "    </tr>\n",
       "    <tr>\n",
       "      <th>27848</th>\n",
       "      <td>인덕원</td>\n",
       "      <td>2</td>\n",
       "      <td>돼지갈비 냉면</td>\n",
       "      <td>의외의 양념게장 맛집! 양념돼지갈비는 양념 맛있으나\\n\\n퍽퍽살을 좋아하는분들께 추...</td>\n",
       "    </tr>\n",
       "    <tr>\n",
       "      <th>21264</th>\n",
       "      <td>인덕원</td>\n",
       "      <td>2</td>\n",
       "      <td>국수 잔치국수</td>\n",
       "      <td>싸고 양이 많아서 점심시간에도 자전거동호회 아저씨들로 붐빕니다. 잔치국수는 맛있는데...</td>\n",
       "    </tr>\n",
       "    <tr>\n",
       "      <th>...</th>\n",
       "      <td>...</td>\n",
       "      <td>...</td>\n",
       "      <td>...</td>\n",
       "      <td>...</td>\n",
       "    </tr>\n",
       "    <tr>\n",
       "      <th>65534</th>\n",
       "      <td>인덕원</td>\n",
       "      <td>0</td>\n",
       "      <td>우니파스타 라구파스타</td>\n",
       "      <td>두번째 방문인데 맛이 이렇게 없었나 싶을 정도로 파스타들이 너무 짜고 느끼했어요.....</td>\n",
       "    </tr>\n",
       "    <tr>\n",
       "      <th>65576</th>\n",
       "      <td>인덕원</td>\n",
       "      <td>0</td>\n",
       "      <td>쌀국수 볶음밥</td>\n",
       "      <td>전체적으로 별로입니다</td>\n",
       "    </tr>\n",
       "    <tr>\n",
       "      <th>65608</th>\n",
       "      <td>인덕원</td>\n",
       "      <td>0</td>\n",
       "      <td>족발 순대국</td>\n",
       "      <td>맛과 가격은 좋은데..\\n갈수록 직원들의 서비스 태도가 나빠지는것 같아서..가끔은 ...</td>\n",
       "    </tr>\n",
       "    <tr>\n",
       "      <th>65625</th>\n",
       "      <td>인덕원</td>\n",
       "      <td>0</td>\n",
       "      <td>함흥냉면 주먹고기</td>\n",
       "      <td>연말모임이 있어 지인 추천으로 방문했습니다.\\n\\n앞에 23테이블이나 대기표를 뽑은...</td>\n",
       "    </tr>\n",
       "    <tr>\n",
       "      <th>69430</th>\n",
       "      <td>인덕원</td>\n",
       "      <td>0</td>\n",
       "      <td>닭볶음탕 닭도리탕</td>\n",
       "      <td>옛날 만큼 맛있지도 않음.. 심지어 맛이 없음 집에서 먹는게 더 맛있는거 같다.</td>\n",
       "    </tr>\n",
       "  </tbody>\n",
       "</table>\n",
       "<p>69434 rows × 4 columns</p>\n",
       "</div>"
      ],
      "text/plain": [
       "      Region  Rating     Category  \\\n",
       "25904    인덕원       2      파스타 리조또   \n",
       "5396     인덕원       2    해장국 갈비해장국   \n",
       "10       인덕원       2     순대국 찹쌀순대   \n",
       "27848    인덕원       2      돼지갈비 냉면   \n",
       "21264    인덕원       2      국수 잔치국수   \n",
       "...      ...     ...          ...   \n",
       "65534    인덕원       0  우니파스타 라구파스타   \n",
       "65576    인덕원       0      쌀국수 볶음밥   \n",
       "65608    인덕원       0       족발 순대국   \n",
       "65625    인덕원       0    함흥냉면 주먹고기   \n",
       "69430    인덕원       0    닭볶음탕 닭도리탕   \n",
       "\n",
       "                                                  Review  \n",
       "25904  맛은 평범했지만\\n좋은 가성비에 조용히 오손도손 친구나 연인과 오기 좋은 이탈리안 ...  \n",
       "5396   오래 장사한 집\\n가격저렴하고 맛괜찮아서\\n택시기사님들도 많이 찾는다\\n그렇기 때문...  \n",
       "10     주차된 차도 많고 줄 서서 먹음. 순대는 맛있으나 순대국에 들어간 고기에서 잡내가 ...  \n",
       "27848  의외의 양념게장 맛집! 양념돼지갈비는 양념 맛있으나\\n\\n퍽퍽살을 좋아하는분들께 추...  \n",
       "21264  싸고 양이 많아서 점심시간에도 자전거동호회 아저씨들로 붐빕니다. 잔치국수는 맛있는데...  \n",
       "...                                                  ...  \n",
       "65534  두번째 방문인데 맛이 이렇게 없었나 싶을 정도로 파스타들이 너무 짜고 느끼했어요.....  \n",
       "65576                                        전체적으로 별로입니다  \n",
       "65608  맛과 가격은 좋은데..\\n갈수록 직원들의 서비스 태도가 나빠지는것 같아서..가끔은 ...  \n",
       "65625  연말모임이 있어 지인 추천으로 방문했습니다.\\n\\n앞에 23테이블이나 대기표를 뽑은...  \n",
       "69430       옛날 만큼 맛있지도 않음.. 심지어 맛이 없음 집에서 먹는게 더 맛있는거 같다.  \n",
       "\n",
       "[69434 rows x 4 columns]"
      ]
     },
     "execution_count": 100,
     "metadata": {},
     "output_type": "execute_result"
    }
   ],
   "source": [
    "# kr_raw.tsv 확장자\n",
    "data = pd.read_csv(\"data\\\\kr3_raw.tsv\", sep=\"\\t\")\n",
    "\n",
    "top_ten = data.sort_values(by=\"Rating\", ascending=False).head(10)\n",
    "data[data[\"Region\"] == \"인덕원\"].sort_values(by=\"Rating\", ascending=False)"
   ]
  },
  {
   "cell_type": "code",
   "execution_count": null,
   "metadata": {},
   "outputs": [
    {
     "name": "stdout",
     "output_type": "stream",
     "text": [
      "<class 'pandas.core.frame.DataFrame'>\n",
      "RangeIndex: 341 entries, 0 to 340\n",
      "Columns: 291 entries, h19_id to c1907_4aq23\n",
      "dtypes: float64(291)\n",
      "memory usage: 775.4 KB\n"
     ]
    }
   ],
   "source": [
    "# sav 확장자 \n",
    "# sass spss 통계 프로그램 결과물에서 나오는 데이터에서 보임\n",
    "# 01_Python\\data\\koweps_c19_2024_beta1.sav :  한국 복지 패널 데이터\n",
    "# uv add pyreadstata\n",
    "data = pd.read_spss(\"data\\\\koweps_c19_2024_beta1.sav\")\n",
    "data.info()"
   ]
  },
  {
   "cell_type": "code",
   "execution_count": null,
   "metadata": {},
   "outputs": [
    {
     "data": {
      "text/html": [
       "<div>\n",
       "<style scoped>\n",
       "    .dataframe tbody tr th:only-of-type {\n",
       "        vertical-align: middle;\n",
       "    }\n",
       "\n",
       "    .dataframe tbody tr th {\n",
       "        vertical-align: top;\n",
       "    }\n",
       "\n",
       "    .dataframe thead th {\n",
       "        text-align: right;\n",
       "    }\n",
       "</style>\n",
       "<table border=\"1\" class=\"dataframe\">\n",
       "  <thead>\n",
       "    <tr style=\"text-align: right;\">\n",
       "      <th></th>\n",
       "      <th>진료연도</th>\n",
       "      <th>진료월</th>\n",
       "      <th>주상병코드</th>\n",
       "      <th>주상병명</th>\n",
       "      <th>연령</th>\n",
       "      <th>진료인원(명)</th>\n",
       "    </tr>\n",
       "  </thead>\n",
       "  <tbody>\n",
       "    <tr>\n",
       "      <th>0</th>\n",
       "      <td>2020</td>\n",
       "      <td>전체</td>\n",
       "      <td>K50</td>\n",
       "      <td>크론병[국소성장염]</td>\n",
       "      <td>18세 미만</td>\n",
       "      <td>1735</td>\n",
       "    </tr>\n",
       "    <tr>\n",
       "      <th>1</th>\n",
       "      <td>2020</td>\n",
       "      <td>전체</td>\n",
       "      <td>K50</td>\n",
       "      <td>크론병[국소성장염]</td>\n",
       "      <td>18세 이상</td>\n",
       "      <td>23822</td>\n",
       "    </tr>\n",
       "    <tr>\n",
       "      <th>2</th>\n",
       "      <td>2020</td>\n",
       "      <td>전체</td>\n",
       "      <td>K51</td>\n",
       "      <td>궤양성대장염</td>\n",
       "      <td>18세 미만</td>\n",
       "      <td>603</td>\n",
       "    </tr>\n",
       "    <tr>\n",
       "      <th>3</th>\n",
       "      <td>2020</td>\n",
       "      <td>전체</td>\n",
       "      <td>K51</td>\n",
       "      <td>궤양성대장염</td>\n",
       "      <td>18세 이상</td>\n",
       "      <td>47932</td>\n",
       "    </tr>\n",
       "    <tr>\n",
       "      <th>4</th>\n",
       "      <td>2021</td>\n",
       "      <td>전체</td>\n",
       "      <td>K50</td>\n",
       "      <td>크론병[국소성장염]</td>\n",
       "      <td>18세 미만</td>\n",
       "      <td>2505</td>\n",
       "    </tr>\n",
       "  </tbody>\n",
       "</table>\n",
       "</div>"
      ],
      "text/plain": [
       "   진료연도 진료월 주상병코드        주상병명      연령  진료인원(명)\n",
       "0  2020  전체   K50  크론병[국소성장염]  18세 미만     1735\n",
       "1  2020  전체   K50  크론병[국소성장염]  18세 이상    23822\n",
       "2  2020  전체   K51      궤양성대장염  18세 미만      603\n",
       "3  2020  전체   K51      궤양성대장염  18세 이상    47932\n",
       "4  2021  전체   K50  크론병[국소성장염]  18세 미만     2505"
      ]
     },
     "execution_count": 107,
     "metadata": {},
     "output_type": "execute_result"
    }
   ],
   "source": [
    "# uv add openpyxl\n",
    "\n",
    "pd.read_excel(\"data\\국민건강보험공단_특정 상병별 요양기관종별 및 진료과목별 및 시군구별 진료인원_20231231.xlsx\"\n",
    "              ).head()"
   ]
  },
  {
   "cell_type": "code",
   "execution_count": 104,
   "metadata": {},
   "outputs": [
    {
     "data": {
      "text/plain": [
       "['Sheet1', 'Sheet2', 'Sheet3', 'Sheet4', 'Sheet5']"
      ]
     },
     "execution_count": 104,
     "metadata": {},
     "output_type": "execute_result"
    }
   ],
   "source": [
    "excel_file = pd.ExcelFile(\"data\\국민건강보험공단_특정 상병별 요양기관종별 및 진료과목별 및 시군구별 진료인원_20231231.xlsx\")\n",
    "excel_file.sheet_names"
   ]
  },
  {
   "cell_type": "markdown",
   "metadata": {},
   "source": [
    "# 추가 실습"
   ]
  },
  {
   "cell_type": "code",
   "execution_count": null,
   "metadata": {},
   "outputs": [
    {
     "name": "stdout",
     "output_type": "stream",
     "text": [
      "<class 'pandas.core.frame.DataFrame'>\n",
      "RangeIndex: 619664 entries, 0 to 619663\n",
      "Data columns (total 11 columns):\n",
      " #   Column   Non-Null Count   Dtype  \n",
      "---  ------   --------------   -----  \n",
      " 0   대여일자     619664 non-null  int64  \n",
      " 1   대여소번호    619664 non-null  int64  \n",
      " 2   대여소명     619664 non-null  object \n",
      " 3   대여구분코드   619664 non-null  object \n",
      " 4   성별       424280 non-null  object \n",
      " 5   연령대코드    619664 non-null  object \n",
      " 6   이용건수     619664 non-null  int64  \n",
      " 7   운동량      619269 non-null  float64\n",
      " 8   탄소량      619269 non-null  float64\n",
      " 9   이동거리(M)  619664 non-null  float64\n",
      " 10  이용시간(분)  619664 non-null  int64  \n",
      "dtypes: float64(3), int64(4), object(4)\n",
      "memory usage: 52.0+ MB\n"
     ]
    }
   ],
   "source": [
    "import pandas as pd\n",
    "bcd = pd.read_csv(\"data\\서울특별시 공공자전거 이용정보(월별)_24.7-12.csv\", encoding=\"cp949\")\n",
    "bcd.info()"
   ]
  },
  {
   "cell_type": "code",
   "execution_count": null,
   "metadata": {},
   "outputs": [
    {
     "data": {
      "text/html": [
       "<div>\n",
       "<style scoped>\n",
       "    .dataframe tbody tr th:only-of-type {\n",
       "        vertical-align: middle;\n",
       "    }\n",
       "\n",
       "    .dataframe tbody tr th {\n",
       "        vertical-align: top;\n",
       "    }\n",
       "\n",
       "    .dataframe thead th {\n",
       "        text-align: right;\n",
       "    }\n",
       "</style>\n",
       "<table border=\"1\" class=\"dataframe\">\n",
       "  <thead>\n",
       "    <tr style=\"text-align: right;\">\n",
       "      <th></th>\n",
       "      <th>대여일자</th>\n",
       "      <th>대여소번호</th>\n",
       "      <th>대여소명</th>\n",
       "      <th>대여구분코드</th>\n",
       "      <th>성별</th>\n",
       "      <th>연령대코드</th>\n",
       "      <th>이용건수</th>\n",
       "      <th>운동량</th>\n",
       "      <th>탄소량</th>\n",
       "      <th>이동거리(M)</th>\n",
       "      <th>이용시간(분)</th>\n",
       "    </tr>\n",
       "  </thead>\n",
       "  <tbody>\n",
       "    <tr>\n",
       "      <th>0</th>\n",
       "      <td>202407</td>\n",
       "      <td>102</td>\n",
       "      <td>102. 망원역 1번출구 앞</td>\n",
       "      <td>일일권</td>\n",
       "      <td>NaN</td>\n",
       "      <td>20대</td>\n",
       "      <td>67</td>\n",
       "      <td>4304.28</td>\n",
       "      <td>40.87</td>\n",
       "      <td>176252.62</td>\n",
       "      <td>1895</td>\n",
       "    </tr>\n",
       "    <tr>\n",
       "      <th>1</th>\n",
       "      <td>202407</td>\n",
       "      <td>102</td>\n",
       "      <td>102. 망원역 1번출구 앞</td>\n",
       "      <td>일일권</td>\n",
       "      <td>NaN</td>\n",
       "      <td>30대</td>\n",
       "      <td>64</td>\n",
       "      <td>4142.09</td>\n",
       "      <td>38.92</td>\n",
       "      <td>167774.15</td>\n",
       "      <td>1498</td>\n",
       "    </tr>\n",
       "    <tr>\n",
       "      <th>2</th>\n",
       "      <td>202407</td>\n",
       "      <td>102</td>\n",
       "      <td>102. 망원역 1번출구 앞</td>\n",
       "      <td>일일권</td>\n",
       "      <td>NaN</td>\n",
       "      <td>40대</td>\n",
       "      <td>2</td>\n",
       "      <td>265.91</td>\n",
       "      <td>2.11</td>\n",
       "      <td>9098.64</td>\n",
       "      <td>64</td>\n",
       "    </tr>\n",
       "    <tr>\n",
       "      <th>3</th>\n",
       "      <td>202407</td>\n",
       "      <td>102</td>\n",
       "      <td>102. 망원역 1번출구 앞</td>\n",
       "      <td>일일권</td>\n",
       "      <td>NaN</td>\n",
       "      <td>50대</td>\n",
       "      <td>6</td>\n",
       "      <td>648.52</td>\n",
       "      <td>5.11</td>\n",
       "      <td>22048.26</td>\n",
       "      <td>149</td>\n",
       "    </tr>\n",
       "    <tr>\n",
       "      <th>4</th>\n",
       "      <td>202407</td>\n",
       "      <td>102</td>\n",
       "      <td>102. 망원역 1번출구 앞</td>\n",
       "      <td>일일권</td>\n",
       "      <td>NaN</td>\n",
       "      <td>60대</td>\n",
       "      <td>1</td>\n",
       "      <td>35.37</td>\n",
       "      <td>0.31</td>\n",
       "      <td>1333.18</td>\n",
       "      <td>6</td>\n",
       "    </tr>\n",
       "  </tbody>\n",
       "</table>\n",
       "</div>"
      ],
      "text/plain": [
       "     대여일자  대여소번호             대여소명 대여구분코드   성별 연령대코드  이용건수      운동량    탄소량  \\\n",
       "0  202407    102  102. 망원역 1번출구 앞    일일권  NaN   20대    67  4304.28  40.87   \n",
       "1  202407    102  102. 망원역 1번출구 앞    일일권  NaN   30대    64  4142.09  38.92   \n",
       "2  202407    102  102. 망원역 1번출구 앞    일일권  NaN   40대     2   265.91   2.11   \n",
       "3  202407    102  102. 망원역 1번출구 앞    일일권  NaN   50대     6   648.52   5.11   \n",
       "4  202407    102  102. 망원역 1번출구 앞    일일권  NaN   60대     1    35.37   0.31   \n",
       "\n",
       "     이동거리(M)  이용시간(분)  \n",
       "0  176252.62     1895  \n",
       "1  167774.15     1498  \n",
       "2    9098.64       64  \n",
       "3   22048.26      149  \n",
       "4    1333.18        6  "
      ]
     },
     "execution_count": 491,
     "metadata": {},
     "output_type": "execute_result"
    }
   ],
   "source": [
    "bcd.head()"
   ]
  },
  {
   "cell_type": "code",
   "execution_count": null,
   "metadata": {},
   "outputs": [
    {
     "data": {
      "text/html": [
       "<div>\n",
       "<style scoped>\n",
       "    .dataframe tbody tr th:only-of-type {\n",
       "        vertical-align: middle;\n",
       "    }\n",
       "\n",
       "    .dataframe tbody tr th {\n",
       "        vertical-align: top;\n",
       "    }\n",
       "\n",
       "    .dataframe thead th {\n",
       "        text-align: right;\n",
       "    }\n",
       "</style>\n",
       "<table border=\"1\" class=\"dataframe\">\n",
       "  <thead>\n",
       "    <tr style=\"text-align: right;\">\n",
       "      <th></th>\n",
       "      <th>대여일자</th>\n",
       "      <th>대여소번호</th>\n",
       "      <th>대여소명</th>\n",
       "      <th>대여구분코드</th>\n",
       "      <th>성별</th>\n",
       "      <th>연령대코드</th>\n",
       "      <th>이용건수</th>\n",
       "      <th>운동량</th>\n",
       "      <th>탄소량</th>\n",
       "      <th>이동거리(M)</th>\n",
       "      <th>이용시간(분)</th>\n",
       "    </tr>\n",
       "  </thead>\n",
       "  <tbody>\n",
       "    <tr>\n",
       "      <th>619659</th>\n",
       "      <td>202412</td>\n",
       "      <td>6178</td>\n",
       "      <td>6178. 마스터밸류에이스 지식산업센터</td>\n",
       "      <td>정기권</td>\n",
       "      <td>M</td>\n",
       "      <td>40대</td>\n",
       "      <td>55</td>\n",
       "      <td>2964.38</td>\n",
       "      <td>23.14</td>\n",
       "      <td>99803.49</td>\n",
       "      <td>1050</td>\n",
       "    </tr>\n",
       "    <tr>\n",
       "      <th>619660</th>\n",
       "      <td>202412</td>\n",
       "      <td>6178</td>\n",
       "      <td>6178. 마스터밸류에이스 지식산업센터</td>\n",
       "      <td>정기권</td>\n",
       "      <td>M</td>\n",
       "      <td>50대</td>\n",
       "      <td>10</td>\n",
       "      <td>327.38</td>\n",
       "      <td>2.57</td>\n",
       "      <td>11073.52</td>\n",
       "      <td>183</td>\n",
       "    </tr>\n",
       "    <tr>\n",
       "      <th>619661</th>\n",
       "      <td>202412</td>\n",
       "      <td>6178</td>\n",
       "      <td>6178. 마스터밸류에이스 지식산업센터</td>\n",
       "      <td>정기권</td>\n",
       "      <td>M</td>\n",
       "      <td>60대</td>\n",
       "      <td>1</td>\n",
       "      <td>14.37</td>\n",
       "      <td>0.13</td>\n",
       "      <td>558.26</td>\n",
       "      <td>3</td>\n",
       "    </tr>\n",
       "    <tr>\n",
       "      <th>619662</th>\n",
       "      <td>202412</td>\n",
       "      <td>6178</td>\n",
       "      <td>6178. 마스터밸류에이스 지식산업센터</td>\n",
       "      <td>정기권</td>\n",
       "      <td>M</td>\n",
       "      <td>~10대</td>\n",
       "      <td>7</td>\n",
       "      <td>249.95</td>\n",
       "      <td>2.35</td>\n",
       "      <td>10151.09</td>\n",
       "      <td>80</td>\n",
       "    </tr>\n",
       "    <tr>\n",
       "      <th>619663</th>\n",
       "      <td>202412</td>\n",
       "      <td>6178</td>\n",
       "      <td>6178. 마스터밸류에이스 지식산업센터</td>\n",
       "      <td>정기권</td>\n",
       "      <td>M</td>\n",
       "      <td>기타</td>\n",
       "      <td>6</td>\n",
       "      <td>135.89</td>\n",
       "      <td>1.16</td>\n",
       "      <td>5060.24</td>\n",
       "      <td>53</td>\n",
       "    </tr>\n",
       "  </tbody>\n",
       "</table>\n",
       "</div>"
      ],
      "text/plain": [
       "          대여일자  대여소번호                   대여소명 대여구분코드 성별 연령대코드  이용건수      운동량  \\\n",
       "619659  202412   6178  6178. 마스터밸류에이스 지식산업센터    정기권  M   40대    55  2964.38   \n",
       "619660  202412   6178  6178. 마스터밸류에이스 지식산업센터    정기권  M   50대    10   327.38   \n",
       "619661  202412   6178  6178. 마스터밸류에이스 지식산업센터    정기권  M   60대     1    14.37   \n",
       "619662  202412   6178  6178. 마스터밸류에이스 지식산업센터    정기권  M  ~10대     7   249.95   \n",
       "619663  202412   6178  6178. 마스터밸류에이스 지식산업센터    정기권  M    기타     6   135.89   \n",
       "\n",
       "          탄소량   이동거리(M)  이용시간(분)  \n",
       "619659  23.14  99803.49     1050  \n",
       "619660   2.57  11073.52      183  \n",
       "619661   0.13    558.26        3  \n",
       "619662   2.35  10151.09       80  \n",
       "619663   1.16   5060.24       53  "
      ]
     },
     "execution_count": 492,
     "metadata": {},
     "output_type": "execute_result"
    }
   ],
   "source": [
    "bcd.tail()"
   ]
  },
  {
   "cell_type": "code",
   "execution_count": null,
   "metadata": {},
   "outputs": [
    {
     "data": {
      "text/plain": [
       "2785"
      ]
     },
     "execution_count": 498,
     "metadata": {},
     "output_type": "execute_result"
    }
   ],
   "source": [
    "bcd[\"대여소명\"].nunique()"
   ]
  },
  {
   "cell_type": "code",
   "execution_count": null,
   "metadata": {},
   "outputs": [],
   "source": [
    "group_loc = bcd.groupby(\"대여소명\")"
   ]
  },
  {
   "cell_type": "code",
   "execution_count": null,
   "metadata": {},
   "outputs": [
    {
     "data": {
      "text/plain": [
       "대여소명\n",
       "3538. 서울숲 IT캐슬                2\n",
       "3306.서울신우초등학교                 6\n",
       "4314. 탑성마을 버스정거장 옆            8\n",
       "2393. 구룡사 앞 교차로 (보도육교)        8\n",
       "2201. 본마을 정류소 앞              10\n",
       "812. 용산전쟁기념관                 15\n",
       "2343. 세곡사거리 대왕파출소 앞          15\n",
       "2061. 한강 현대아파트 건너편           18\n",
       "4265. 안산초등학교 앞               21\n",
       "803. 한남초교 앞 보도육교             23\n",
       "3423.현대그룹(본사)                24\n",
       "1511. 번동 금호어울림아파트102동앞       25\n",
       "1968. 동인오피스텔 건너편 소공원         29\n",
       "462. 신영동삼거리(북악터널방향)          30\n",
       "4388. 하우스디세종타워 앞             31\n",
       "4901.KT&G타워 옆(상상마당 대치아트홀)    31\n",
       "2421. 신논현역 4번출구              32\n",
       "5855. 하이투자증권 앞               34\n",
       "4936. SK텔레콤(T1) 인근           36\n",
       "4348. 사당역 1번출구               40\n",
       "Name: count, dtype: int64"
      ]
     },
     "execution_count": 511,
     "metadata": {},
     "output_type": "execute_result"
    }
   ],
   "source": [
    "bcd.value_counts(\"대여소명\").sort_values().head(20)"
   ]
  },
  {
   "cell_type": "code",
   "execution_count": null,
   "metadata": {},
   "outputs": [
    {
     "data": {
      "text/plain": [
       "대여소명                       연령대코드\n",
       "1001. 광진교 남단 사거리(천호공원 방면)  기타       42\n",
       "                           20대      36\n",
       "                           30대      36\n",
       "                           40대      36\n",
       "                           50대      33\n",
       "                                    ..\n",
       "996.응암역2번출구 국민은행 앞         40대      36\n",
       "                           50대      35\n",
       "                           60대      34\n",
       "                           ~10대     32\n",
       "                           70대이상    20\n",
       "Name: count, Length: 22165, dtype: int64"
      ]
     },
     "execution_count": 506,
     "metadata": {},
     "output_type": "execute_result"
    }
   ],
   "source": [
    "group_loc[\"연령대코드\"].value_counts()"
   ]
  },
  {
   "cell_type": "code",
   "execution_count": null,
   "metadata": {},
   "outputs": [
    {
     "data": {
      "text/plain": [
       "array(['일일권', '일일권(비회원)', '정기권'], dtype=object)"
      ]
     },
     "execution_count": 493,
     "metadata": {},
     "output_type": "execute_result"
    }
   ],
   "source": [
    "bcd[\"대여구분코드\"].unique()"
   ]
  },
  {
   "cell_type": "code",
   "execution_count": null,
   "metadata": {},
   "outputs": [
    {
     "data": {
      "text/plain": [
       "array(['20대', '30대', '40대', '50대', '60대', '기타', '~10대', '70대이상'],\n",
       "      dtype=object)"
      ]
     },
     "execution_count": 481,
     "metadata": {},
     "output_type": "execute_result"
    }
   ],
   "source": [
    "bcd[\"연령대코드\"].unique()"
   ]
  },
  {
   "cell_type": "code",
   "execution_count": null,
   "metadata": {},
   "outputs": [],
   "source": [
    "age_group = bcd.groupby(\"연령대코드\")"
   ]
  },
  {
   "cell_type": "code",
   "execution_count": null,
   "metadata": {},
   "outputs": [
    {
     "data": {
      "text/plain": [
       "연령대코드  대여구분코드  \n",
       "20대    정기권         48790\n",
       "       일일권         47985\n",
       "       일일권(비회원)      348\n",
       "30대    정기권         48772\n",
       "       일일권         46728\n",
       "       일일권(비회원)      128\n",
       "40대    정기권         48652\n",
       "       일일권         42443\n",
       "       일일권(비회원)       89\n",
       "50대    정기권         48268\n",
       "       일일권         34215\n",
       "       일일권(비회원)       47\n",
       "60대    정기권         43899\n",
       "       일일권         15431\n",
       "       일일권(비회원)        1\n",
       "70대이상  정기권         22053\n",
       "       일일권          3577\n",
       "~10대   정기권         33508\n",
       "       일일권         33183\n",
       "       일일권(비회원)       65\n",
       "기타     정기권         45660\n",
       "       일일권         40014\n",
       "       일일권(비회원)    15808\n",
       "Name: count, dtype: int64"
      ]
     },
     "execution_count": 494,
     "metadata": {},
     "output_type": "execute_result"
    }
   ],
   "source": [
    "age_group[\"대여구분코드\"].value_counts()"
   ]
  },
  {
   "cell_type": "code",
   "execution_count": null,
   "metadata": {},
   "outputs": [
    {
     "data": {
      "text/plain": [
       "연령대코드\n",
       "20대      67.152930\n",
       "30대      60.521469\n",
       "40대      39.234592\n",
       "50대      30.077257\n",
       "60대      14.054710\n",
       "70대이상     5.279828\n",
       "~10대     22.702274\n",
       "기타       15.590706\n",
       "Name: 이용건수, dtype: float64"
      ]
     },
     "execution_count": 490,
     "metadata": {},
     "output_type": "execute_result"
    }
   ],
   "source": [
    "age_group[\"이용건수\"].mean()"
   ]
  },
  {
   "cell_type": "code",
   "execution_count": null,
   "metadata": {},
   "outputs": [
    {
     "data": {
      "text/plain": [
       "연령대코드\n",
       "20대      142499.011865\n",
       "30대      130952.576390\n",
       "40대       94694.477750\n",
       "50대       76180.055360\n",
       "60대       36507.096717\n",
       "70대이상     13337.460096\n",
       "~10대      43806.666793\n",
       "기타        37989.803873\n",
       "Name: 이동거리(M), dtype: float64"
      ]
     },
     "execution_count": 488,
     "metadata": {},
     "output_type": "execute_result"
    }
   ],
   "source": [
    "age_group[\"이동거리(M)\"].mean()"
   ]
  },
  {
   "cell_type": "code",
   "execution_count": null,
   "metadata": {},
   "outputs": [
    {
     "data": {
      "text/plain": [
       "연령대코드\n",
       "20대      1251.660678\n",
       "30대      1187.715240\n",
       "40대       870.983396\n",
       "50대       693.547910\n",
       "60대       366.507778\n",
       "70대이상     146.494928\n",
       "~10대      390.222317\n",
       "기타        353.929741\n",
       "Name: 이용시간(분), dtype: float64"
      ]
     },
     "execution_count": 489,
     "metadata": {},
     "output_type": "execute_result"
    }
   ],
   "source": [
    "age_group[\"이용시간(분)\"].mean()"
   ]
  }
 ],
 "metadata": {
  "kernelspec": {
   "display_name": "testproject (3.11.13)",
   "language": "python",
   "name": "python3"
  },
  "language_info": {
   "codemirror_mode": {
    "name": "ipython",
    "version": 3
   },
   "file_extension": ".py",
   "mimetype": "text/x-python",
   "name": "python",
   "nbconvert_exporter": "python",
   "pygments_lexer": "ipython3",
   "version": "3.11.13"
  }
 },
 "nbformat": 4,
 "nbformat_minor": 2
}
